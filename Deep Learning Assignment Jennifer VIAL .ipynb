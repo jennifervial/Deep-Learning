{
 "cells": [
  {
   "cell_type": "markdown",
   "metadata": {},
   "source": [
    "# DEEP LEARNING Assignement 1\n",
    "### Jennifer VIAL"
   ]
  },
  {
   "cell_type": "markdown",
   "metadata": {},
   "source": [
    "## Instruction part  "
   ]
  },
  {
   "cell_type": "markdown",
   "metadata": {},
   "source": [
    "Import libraries:"
   ]
  },
  {
   "cell_type": "code",
   "execution_count": 171,
   "metadata": {},
   "outputs": [],
   "source": [
    "import keras\n",
    "import matplotlib.pyplot as plt\n",
    "%matplotlib inline\n",
    "import numpy as np\n",
    "from keras.layers import Dropout\n",
    "import keras.utils\n",
    "from keras import utils as np_utils\n",
    "from keras.layers import UpSampling2D"
   ]
  },
  {
   "cell_type": "markdown",
   "metadata": {},
   "source": [
    "Follow the instruction:"
   ]
  },
  {
   "cell_type": "code",
   "execution_count": 3,
   "metadata": {
    "collapsed": true
   },
   "outputs": [],
   "source": [
    "# On some implementations of matplotlib, you may need to change this value\n",
    "IMAGE_SIZE = 72"
   ]
  },
  {
   "cell_type": "code",
   "execution_count": 4,
   "metadata": {
    "collapsed": true
   },
   "outputs": [],
   "source": [
    "def generate_a_drawing(figsize, U, V, noise=0.0):\n",
    "    fig = plt.figure(figsize=(figsize,figsize))\n",
    "    ax = plt.subplot(111)\n",
    "    plt.axis('Off')\n",
    "    ax.set_xlim(0,figsize)\n",
    "    ax.set_ylim(0,figsize)\n",
    "    ax.fill(U, V, \"k\")\n",
    "    fig.canvas.draw()\n",
    "    imdata = np.frombuffer(fig.canvas.tostring_rgb(), dtype=np.uint8)[::3].astype(np.float32)\n",
    "    imdata = imdata + noise * np.random.random(imdata.size)\n",
    "    plt.close(fig)\n",
    "    return imdata"
   ]
  },
  {
   "cell_type": "code",
   "execution_count": 5,
   "metadata": {
    "collapsed": true
   },
   "outputs": [],
   "source": [
    "def generate_a_rectangle(noise=0.0, free_location=False):\n",
    "    figsize = 1.0    \n",
    "    U = np.zeros(4)\n",
    "    V = np.zeros(4)\n",
    "    if free_location:\n",
    "        corners = np.random.random(4)\n",
    "        top = max(corners[0], corners[1])\n",
    "        bottom = min(corners[0], corners[1])\n",
    "        left = min(corners[2], corners[3])\n",
    "        right = max(corners[2], corners[3])\n",
    "    else:\n",
    "        side = (0.3 + 0.7 * np.random.random()) * figsize\n",
    "        top = figsize/2 + side/2\n",
    "        bottom = figsize/2 - side/2\n",
    "        left = bottom\n",
    "        right = top\n",
    "    U[0] = U[1] = top\n",
    "    U[2] = U[3] = bottom\n",
    "    V[0] = V[3] = left\n",
    "    V[1] = V[2] = right\n",
    "    return generate_a_drawing(figsize, U, V, noise)"
   ]
  },
  {
   "cell_type": "code",
   "execution_count": 6,
   "metadata": {
    "collapsed": true
   },
   "outputs": [],
   "source": [
    "def generate_a_disk(noise=0.0, free_location=False):\n",
    "    figsize = 1.0\n",
    "    if free_location:\n",
    "        center = np.random.random(2)\n",
    "    else:\n",
    "        center = (figsize/2, figsize/2)\n",
    "    radius = (0.3 + 0.7 * np.random.random()) * figsize/2\n",
    "    N = 50\n",
    "    U = np.zeros(N)\n",
    "    V = np.zeros(N)\n",
    "    i = 0\n",
    "    for t in np.linspace(0, 2*np.pi, N):\n",
    "        U[i] = center[0] + np.cos(t) * radius\n",
    "        V[i] = center[1] + np.sin(t) * radius\n",
    "        i = i + 1\n",
    "    return generate_a_drawing(figsize, U, V, noise)\n"
   ]
  },
  {
   "cell_type": "code",
   "execution_count": 7,
   "metadata": {
    "collapsed": true
   },
   "outputs": [],
   "source": [
    "def generate_a_triangle(noise=0.0, free_location=False):\n",
    "    figsize = 1.0\n",
    "    if free_location:\n",
    "        U = np.random.random(3)\n",
    "        V = np.random.random(3)\n",
    "    else:\n",
    "        size = (0.3 + 0.7 * np.random.random())*figsize/2\n",
    "        middle = figsize/2\n",
    "        U = (middle, middle+size, middle-size)\n",
    "        V = (middle+size, middle-size, middle-size)\n",
    "    imdata = generate_a_drawing(figsize, U, V, noise)\n",
    "    return [imdata, [U[0], V[0], U[1], V[1], U[2], V[2]]]"
   ]
  },
  {
   "cell_type": "code",
   "execution_count": 8,
   "metadata": {},
   "outputs": [
    {
     "data": {
      "text/plain": [
       "<matplotlib.image.AxesImage at 0x182094a320>"
      ]
     },
     "execution_count": 8,
     "metadata": {},
     "output_type": "execute_result"
    },
    {
     "data": {
      "image/png": "[encoded data removed]",
      "text/plain": [
       "<matplotlib.figure.Figure at 0x18208dab00>"
      ]
     },
     "metadata": {},
     "output_type": "display_data"
    }
   ],
   "source": [
    "im = generate_a_rectangle(10, True)\n",
    "plt.imshow(im.reshape(IMAGE_SIZE,IMAGE_SIZE), cmap='gray')\n",
    "\n"
   ]
  },
  {
   "cell_type": "code",
   "execution_count": 9,
   "metadata": {},
   "outputs": [
    {
     "data": {
      "text/plain": [
       "<matplotlib.image.AxesImage at 0x1820adaba8>"
      ]
     },
     "execution_count": 9,
     "metadata": {},
     "output_type": "execute_result"
    },
    {
     "data": {
      "image/png": "[encoded data removed]",
      "text/plain": [
       "<matplotlib.figure.Figure at 0x182092b550>"
      ]
     },
     "metadata": {},
     "output_type": "display_data"
    }
   ],
   "source": [
    "im = generate_a_disk(10)\n",
    "plt.imshow(im.reshape(IMAGE_SIZE,IMAGE_SIZE), cmap='gray')"
   ]
  },
  {
   "cell_type": "code",
   "execution_count": 10,
   "metadata": {},
   "outputs": [
    {
     "data": {
      "text/plain": [
       "<matplotlib.image.AxesImage at 0x1820b1d4a8>"
      ]
     },
     "execution_count": 10,
     "metadata": {},
     "output_type": "execute_result"
    },
    {
     "data": {
      "image/png": "[encoded data removed]",
      "text/plain": [
       "<matplotlib.figure.Figure at 0x1820aba3c8>"
      ]
     },
     "metadata": {},
     "output_type": "display_data"
    }
   ],
   "source": [
    "[im, v] = generate_a_triangle(20, False)\n",
    "plt.imshow(im.reshape(IMAGE_SIZE,IMAGE_SIZE), cmap='gray')"
   ]
  },
  {
   "cell_type": "code",
   "execution_count": 11,
   "metadata": {
    "collapsed": true
   },
   "outputs": [],
   "source": [
    "def generate_dataset_classification(nb_samples, noise=0.0, free_location=False):\n",
    "    # Getting im_size:\n",
    "    im_size = generate_a_rectangle().shape[0]\n",
    "    X = np.zeros([nb_samples,im_size])\n",
    "    Y = np.zeros(nb_samples)\n",
    "    print('Creating data:')\n",
    "    for i in range(nb_samples):\n",
    "        if i % 10 == 0:\n",
    "            print(i)\n",
    "        category = np.random.randint(3)\n",
    "        if category == 0:\n",
    "            X[i] = generate_a_rectangle(noise, free_location)\n",
    "        elif category == 1: \n",
    "            X[i] = generate_a_disk(noise, free_location)\n",
    "        else:\n",
    "            [X[i], V] = generate_a_triangle(noise, free_location)\n",
    "        Y[i] = category\n",
    "    X = (X + noise) / (255 + 2 * noise)\n",
    "    return [X, Y]\n",
    "\n",
    "def generate_test_set_classification():\n",
    "    np.random.seed(42)\n",
    "    [X_test, Y_test] = generate_dataset_classification(300, 20, True)\n",
    "    Y_test = np_utils.to_categorical(Y_test, 3) \n",
    "    return [X_test, Y_test]\n",
    "\n",
    "def generate_dataset_regression(nb_samples, noise=0.0):\n",
    "    # Getting im_size:\n",
    "    im_size = generate_a_triangle()[0].shape[0]\n",
    "    X = np.zeros([nb_samples,im_size])\n",
    "    Y = np.zeros([nb_samples, 6])\n",
    "    print('Creating data:')\n",
    "    for i in range(nb_samples):\n",
    "        if i % 10 == 0:\n",
    "            print(i)\n",
    "        [X[i], Y[i]] = generate_a_triangle(noise, True)\n",
    "    X = (X + noise) / (255 + 2 * noise)\n",
    "    return [X, Y]\n",
    "\n",
    "import matplotlib.patches as patches\n",
    "\n",
    "def visualize_prediction(x, y):\n",
    "    fig, ax = plt.subplots(figsize=(5, 5))\n",
    "    I = x.reshape((IMAGE_SIZE,IMAGE_SIZE))\n",
    "    ax.imshow(I, extent=[-0.15,1.15,-0.15,1.15],cmap='gray')\n",
    "    ax.set_xlim([0,1])\n",
    "    ax.set_ylim([0,1])\n",
    "\n",
    "    xy = y.reshape(3,2)\n",
    "    tri = patches.Polygon(xy, closed=True, fill = False, edgecolor = 'r', linewidth = 5, alpha = 0.5)\n",
    "    ax.add_patch(tri)\n",
    "\n",
    "    plt.show()\n",
    "\n",
    "def generate_test_set_regression():\n",
    "    np.random.seed(42)\n",
    "    [X_test, Y_test] = generate_dataset_regression(300, 20)\n",
    "    return [X_test, Y_test]\n",
    "\n"
   ]
  },
  {
   "cell_type": "markdown",
   "metadata": {},
   "source": [
    "Generate a training set of images of simple geometric shapes:"
   ]
  },
  {
   "cell_type": "code",
   "execution_count": 12,
   "metadata": {},
   "outputs": [
    {
     "name": "stdout",
     "output_type": "stream",
     "text": [
      "Creating data:\n",
      "0\n",
      "10\n",
      "20\n",
      "30\n",
      "40\n",
      "50\n",
      "60\n",
      "70\n",
      "80\n",
      "90\n",
      "100\n",
      "110\n",
      "120\n",
      "130\n",
      "140\n",
      "150\n",
      "160\n",
      "170\n",
      "180\n",
      "190\n",
      "200\n",
      "210\n",
      "220\n",
      "230\n",
      "240\n",
      "250\n",
      "260\n",
      "270\n",
      "280\n",
      "290\n"
     ]
    }
   ],
   "source": [
    "[X_train, Y_train] = generate_dataset_classification(300, 20)"
   ]
  },
  {
   "cell_type": "code",
   "execution_count": 13,
   "metadata": {
    "collapsed": true
   },
   "outputs": [],
   "source": [
    "Y_train = keras.utils.to_categorical(Y_train, 3)"
   ]
  },
  {
   "cell_type": "markdown",
   "metadata": {
    "collapsed": true
   },
   "source": [
    "## Build and train a linear classifier in Keras to classify a image into one of the three possible categories"
   ]
  },
  {
   "cell_type": "markdown",
   "metadata": {},
   "source": [
    "With the stochastic gradient descent optimizer:"
   ]
  },
  {
   "cell_type": "code",
   "execution_count": 14,
   "metadata": {
    "collapsed": true
   },
   "outputs": [],
   "source": [
    "from keras.models import Sequential\n",
    "from keras.layers import Dense, Activation"
   ]
  },
  {
   "cell_type": "markdown",
   "metadata": {},
   "source": [
    "Define our model: "
   ]
  },
  {
   "cell_type": "code",
   "execution_count": 84,
   "metadata": {},
   "outputs": [],
   "source": [
    "model = Sequential()\n",
    "model.add(Dense(units=32,kernel_initializer= 'uniform',activation=\"relu\", input_shape=(X_train.shape[1],)))\n",
    "model.add(Dropout(rate=0.2))\n",
    "model.add(Dense(units=10,kernel_initializer= 'uniform',activation=\"relu\"))\n",
    "model.add(Dropout(rate=0.2))\n",
    "model.add(Dense(units=3,kernel_initializer= 'uniform',activation=\"softmax\"))"
   ]
  },
  {
   "cell_type": "code",
   "execution_count": 85,
   "metadata": {
    "collapsed": true
   },
   "outputs": [],
   "source": [
    "from keras.optimizers import SGD"
   ]
  },
  {
   "cell_type": "markdown",
   "metadata": {},
   "source": [
    "Define the gradient optimzer and compile with our model:"
   ]
  },
  {
   "cell_type": "code",
   "execution_count": 86,
   "metadata": {
    "collapsed": true
   },
   "outputs": [],
   "source": [
    "sgd = SGD(lr=0.01,decay=1e-6, momentum=0.9,nesterov=True)\n",
    "model.compile(loss='categorical_crossentropy',optimizer=sgd, metrics=[\"accuracy\"])"
   ]
  },
  {
   "cell_type": "code",
   "execution_count": 88,
   "metadata": {},
   "outputs": [
    {
     "name": "stdout",
     "output_type": "stream",
     "text": [
      "Epoch 1/200\n",
      "300/300 [==============================] - 0s 176us/step - loss: 0.7502 - acc: 0.5633\n",
      "Epoch 2/200\n",
      "300/300 [==============================] - 0s 176us/step - loss: 0.7388 - acc: 0.5867\n",
      "Epoch 3/200\n",
      "300/300 [==============================] - 0s 179us/step - loss: 0.6509 - acc: 0.6067\n",
      "Epoch 4/200\n",
      "300/300 [==============================] - 0s 184us/step - loss: 0.7146 - acc: 0.5967\n",
      "Epoch 5/200\n",
      "300/300 [==============================] - 0s 183us/step - loss: 0.6783 - acc: 0.6333\n",
      "Epoch 6/200\n",
      "300/300 [==============================] - 0s 184us/step - loss: 0.7606 - acc: 0.5733\n",
      "Epoch 7/200\n",
      "300/300 [==============================] - 0s 183us/step - loss: 0.6877 - acc: 0.6067\n",
      "Epoch 8/200\n",
      "300/300 [==============================] - 0s 182us/step - loss: 0.6921 - acc: 0.6100\n",
      "Epoch 9/200\n",
      "300/300 [==============================] - 0s 175us/step - loss: 0.7183 - acc: 0.5733\n",
      "Epoch 10/200\n",
      "300/300 [==============================] - 0s 195us/step - loss: 0.6540 - acc: 0.5867\n",
      "Epoch 11/200\n",
      "300/300 [==============================] - 0s 180us/step - loss: 0.6681 - acc: 0.6367\n",
      "Epoch 12/200\n",
      "300/300 [==============================] - 0s 175us/step - loss: 0.7068 - acc: 0.6033\n",
      "Epoch 13/200\n",
      "300/300 [==============================] - 0s 198us/step - loss: 0.6801 - acc: 0.5900\n",
      "Epoch 14/200\n",
      "300/300 [==============================] - 0s 195us/step - loss: 0.6789 - acc: 0.5767\n",
      "Epoch 15/200\n",
      "300/300 [==============================] - 0s 184us/step - loss: 0.7258 - acc: 0.5833\n",
      "Epoch 16/200\n",
      "300/300 [==============================] - 0s 170us/step - loss: 0.6396 - acc: 0.6267\n",
      "Epoch 17/200\n",
      "300/300 [==============================] - 0s 166us/step - loss: 0.7022 - acc: 0.6000\n",
      "Epoch 18/200\n",
      "300/300 [==============================] - 0s 176us/step - loss: 0.6698 - acc: 0.6133\n",
      "Epoch 19/200\n",
      "300/300 [==============================] - 0s 198us/step - loss: 0.6924 - acc: 0.6033\n",
      "Epoch 20/200\n",
      "300/300 [==============================] - 0s 189us/step - loss: 0.7172 - acc: 0.5900\n",
      "Epoch 21/200\n",
      "300/300 [==============================] - 0s 206us/step - loss: 0.7150 - acc: 0.5933\n",
      "Epoch 22/200\n",
      "300/300 [==============================] - 0s 210us/step - loss: 0.7394 - acc: 0.5800\n",
      "Epoch 23/200\n",
      "300/300 [==============================] - 0s 215us/step - loss: 0.6991 - acc: 0.6000\n",
      "Epoch 24/200\n",
      "300/300 [==============================] - 0s 182us/step - loss: 0.6926 - acc: 0.6000\n",
      "Epoch 25/200\n",
      "300/300 [==============================] - 0s 191us/step - loss: 0.6553 - acc: 0.5933\n",
      "Epoch 26/200\n",
      "300/300 [==============================] - 0s 191us/step - loss: 0.6827 - acc: 0.6267\n",
      "Epoch 27/200\n",
      "300/300 [==============================] - 0s 181us/step - loss: 0.7664 - acc: 0.5667\n",
      "Epoch 28/200\n",
      "300/300 [==============================] - 0s 190us/step - loss: 0.6827 - acc: 0.6067\n",
      "Epoch 29/200\n",
      "300/300 [==============================] - 0s 184us/step - loss: 0.6709 - acc: 0.5800\n",
      "Epoch 30/200\n",
      "300/300 [==============================] - 0s 188us/step - loss: 0.6945 - acc: 0.6000\n",
      "Epoch 31/200\n",
      "300/300 [==============================] - 0s 179us/step - loss: 0.7248 - acc: 0.5967\n",
      "Epoch 32/200\n",
      "300/300 [==============================] - 0s 176us/step - loss: 0.7092 - acc: 0.5767\n",
      "Epoch 33/200\n",
      "300/300 [==============================] - 0s 160us/step - loss: 0.6755 - acc: 0.6200\n",
      "Epoch 34/200\n",
      "300/300 [==============================] - 0s 167us/step - loss: 0.6972 - acc: 0.5900\n",
      "Epoch 35/200\n",
      "300/300 [==============================] - 0s 168us/step - loss: 0.6906 - acc: 0.5667\n",
      "Epoch 36/200\n",
      "300/300 [==============================] - 0s 184us/step - loss: 0.7007 - acc: 0.6100\n",
      "Epoch 37/200\n",
      "300/300 [==============================] - 0s 171us/step - loss: 0.6846 - acc: 0.5733\n",
      "Epoch 38/200\n",
      "300/300 [==============================] - 0s 180us/step - loss: 0.7085 - acc: 0.5967\n",
      "Epoch 39/200\n",
      "300/300 [==============================] - 0s 190us/step - loss: 0.7448 - acc: 0.6033\n",
      "Epoch 40/200\n",
      "300/300 [==============================] - 0s 193us/step - loss: 0.6686 - acc: 0.5900\n",
      "Epoch 41/200\n",
      "300/300 [==============================] - 0s 188us/step - loss: 0.6942 - acc: 0.6033\n",
      "Epoch 42/200\n",
      "300/300 [==============================] - 0s 182us/step - loss: 0.7420 - acc: 0.5800\n",
      "Epoch 43/200\n",
      "300/300 [==============================] - 0s 469us/step - loss: 0.7391 - acc: 0.5800\n",
      "Epoch 44/200\n",
      "300/300 [==============================] - 0s 240us/step - loss: 0.6986 - acc: 0.6000\n",
      "Epoch 45/200\n",
      "300/300 [==============================] - 0s 197us/step - loss: 0.6761 - acc: 0.5867\n",
      "Epoch 46/200\n",
      "300/300 [==============================] - 0s 225us/step - loss: 0.6875 - acc: 0.6400\n",
      "Epoch 47/200\n",
      "300/300 [==============================] - 0s 229us/step - loss: 0.6821 - acc: 0.6400\n",
      "Epoch 48/200\n",
      "300/300 [==============================] - 0s 202us/step - loss: 0.6984 - acc: 0.5700\n",
      "Epoch 49/200\n",
      "300/300 [==============================] - 0s 175us/step - loss: 0.6939 - acc: 0.5833\n",
      "Epoch 50/200\n",
      "300/300 [==============================] - 0s 195us/step - loss: 0.6873 - acc: 0.5967\n",
      "Epoch 51/200\n",
      "300/300 [==============================] - 0s 210us/step - loss: 0.7175 - acc: 0.5733\n",
      "Epoch 52/200\n",
      "300/300 [==============================] - 0s 183us/step - loss: 0.6705 - acc: 0.6100\n",
      "Epoch 53/200\n",
      "300/300 [==============================] - 0s 183us/step - loss: 0.7082 - acc: 0.5967\n",
      "Epoch 54/200\n",
      "300/300 [==============================] - 0s 226us/step - loss: 0.6692 - acc: 0.5967\n",
      "Epoch 55/200\n",
      "300/300 [==============================] - 0s 396us/step - loss: 0.7217 - acc: 0.5900\n",
      "Epoch 56/200\n",
      "300/300 [==============================] - 0s 216us/step - loss: 0.7233 - acc: 0.5900\n",
      "Epoch 57/200\n",
      "300/300 [==============================] - 0s 195us/step - loss: 0.7098 - acc: 0.5933\n",
      "Epoch 58/200\n",
      "300/300 [==============================] - 0s 191us/step - loss: 0.6885 - acc: 0.6067\n",
      "Epoch 59/200\n",
      "300/300 [==============================] - 0s 218us/step - loss: 0.6371 - acc: 0.6267\n",
      "Epoch 60/200\n",
      "300/300 [==============================] - 0s 234us/step - loss: 0.6837 - acc: 0.6067\n",
      "Epoch 61/200\n",
      "300/300 [==============================] - 0s 211us/step - loss: 0.6749 - acc: 0.6100\n",
      "Epoch 62/200\n",
      "300/300 [==============================] - 0s 201us/step - loss: 0.6832 - acc: 0.6067\n",
      "Epoch 63/200\n",
      "300/300 [==============================] - 0s 267us/step - loss: 0.6739 - acc: 0.6100\n",
      "Epoch 64/200\n",
      "300/300 [==============================] - 0s 274us/step - loss: 0.7598 - acc: 0.5300\n",
      "Epoch 65/200\n",
      "300/300 [==============================] - 0s 306us/step - loss: 0.6715 - acc: 0.6233\n",
      "Epoch 66/200\n",
      "300/300 [==============================] - 0s 307us/step - loss: 0.7005 - acc: 0.5567\n",
      "Epoch 67/200\n",
      "300/300 [==============================] - 0s 274us/step - loss: 0.7082 - acc: 0.5967\n",
      "Epoch 68/200\n",
      "300/300 [==============================] - 0s 250us/step - loss: 0.7365 - acc: 0.5500\n",
      "Epoch 69/200\n",
      "300/300 [==============================] - 0s 252us/step - loss: 0.7208 - acc: 0.5900\n",
      "Epoch 70/200\n",
      "300/300 [==============================] - 0s 264us/step - loss: 0.7275 - acc: 0.5867\n",
      "Epoch 71/200\n",
      "300/300 [==============================] - 0s 279us/step - loss: 0.7288 - acc: 0.5867\n",
      "Epoch 72/200\n",
      "300/300 [==============================] - 0s 232us/step - loss: 0.6820 - acc: 0.6067\n",
      "Epoch 73/200\n",
      "300/300 [==============================] - 0s 250us/step - loss: 0.7288 - acc: 0.5867\n",
      "Epoch 74/200\n",
      "300/300 [==============================] - 0s 228us/step - loss: 0.7110 - acc: 0.5933\n",
      "Epoch 75/200\n",
      "300/300 [==============================] - 0s 307us/step - loss: 0.6676 - acc: 0.6133\n",
      "Epoch 76/200\n",
      "300/300 [==============================] - 0s 281us/step - loss: 0.7002 - acc: 0.6000\n",
      "Epoch 77/200\n",
      "300/300 [==============================] - 0s 290us/step - loss: 0.7364 - acc: 0.5833\n",
      "Epoch 78/200\n",
      "300/300 [==============================] - 0s 293us/step - loss: 0.6556 - acc: 0.6200\n",
      "Epoch 79/200\n",
      "300/300 [==============================] - 0s 282us/step - loss: 0.7140 - acc: 0.5933\n",
      "Epoch 80/200\n",
      "300/300 [==============================] - 0s 270us/step - loss: 0.7024 - acc: 0.6000\n",
      "Epoch 81/200\n",
      "300/300 [==============================] - 0s 254us/step - loss: 0.6909 - acc: 0.6033\n",
      "Epoch 82/200\n",
      "300/300 [==============================] - 0s 265us/step - loss: 0.6870 - acc: 0.6067\n",
      "Epoch 83/200\n"
     ]
    },
    {
     "name": "stdout",
     "output_type": "stream",
     "text": [
      "300/300 [==============================] - 0s 247us/step - loss: 0.7455 - acc: 0.5800\n",
      "Epoch 84/200\n",
      "300/300 [==============================] - 0s 259us/step - loss: 0.6441 - acc: 0.5900\n",
      "Epoch 85/200\n",
      "300/300 [==============================] - 0s 278us/step - loss: 0.7111 - acc: 0.5900\n",
      "Epoch 86/200\n",
      "300/300 [==============================] - 0s 231us/step - loss: 0.7633 - acc: 0.5433\n",
      "Epoch 87/200\n",
      "300/300 [==============================] - 0s 279us/step - loss: 0.6753 - acc: 0.6100\n",
      "Epoch 88/200\n",
      "300/300 [==============================] - 0s 296us/step - loss: 0.6982 - acc: 0.5800\n",
      "Epoch 89/200\n",
      "300/300 [==============================] - 0s 295us/step - loss: 0.6930 - acc: 0.6033\n",
      "Epoch 90/200\n",
      "300/300 [==============================] - 0s 292us/step - loss: 0.7000 - acc: 0.6000\n",
      "Epoch 91/200\n",
      "300/300 [==============================] - 0s 302us/step - loss: 0.7622 - acc: 0.5733\n",
      "Epoch 92/200\n",
      "300/300 [==============================] - 0s 290us/step - loss: 0.6583 - acc: 0.6000\n",
      "Epoch 93/200\n",
      "300/300 [==============================] - 0s 250us/step - loss: 0.7221 - acc: 0.5367\n",
      "Epoch 94/200\n",
      "300/300 [==============================] - 0s 266us/step - loss: 0.7378 - acc: 0.5833\n",
      "Epoch 95/200\n",
      "300/300 [==============================] - 0s 270us/step - loss: 0.6790 - acc: 0.6100\n",
      "Epoch 96/200\n",
      "300/300 [==============================] - 0s 268us/step - loss: 0.6740 - acc: 0.6100\n",
      "Epoch 97/200\n",
      "300/300 [==============================] - 0s 240us/step - loss: 0.7002 - acc: 0.6000\n",
      "Epoch 98/200\n",
      "300/300 [==============================] - 0s 232us/step - loss: 0.6839 - acc: 0.6067\n",
      "Epoch 99/200\n",
      "300/300 [==============================] - 0s 238us/step - loss: 0.7234 - acc: 0.5900\n",
      "Epoch 100/200\n",
      "300/300 [==============================] - 0s 238us/step - loss: 0.6534 - acc: 0.6200\n",
      "Epoch 101/200\n",
      "300/300 [==============================] - 0s 250us/step - loss: 0.6954 - acc: 0.6000\n",
      "Epoch 102/200\n",
      "300/300 [==============================] - 0s 222us/step - loss: 0.6727 - acc: 0.5900\n",
      "Epoch 103/200\n",
      "300/300 [==============================] - 0s 242us/step - loss: 0.6999 - acc: 0.5767\n",
      "Epoch 104/200\n",
      "300/300 [==============================] - 0s 245us/step - loss: 0.7240 - acc: 0.5567\n",
      "Epoch 105/200\n",
      "300/300 [==============================] - 0s 256us/step - loss: 0.6760 - acc: 0.6100\n",
      "Epoch 106/200\n",
      "300/300 [==============================] - 0s 232us/step - loss: 0.6840 - acc: 0.6067\n",
      "Epoch 107/200\n",
      "300/300 [==============================] - 0s 270us/step - loss: 0.6600 - acc: 0.5967\n",
      "Epoch 108/200\n",
      "300/300 [==============================] - 0s 233us/step - loss: 0.7237 - acc: 0.5800\n",
      "Epoch 109/200\n",
      "300/300 [==============================] - 0s 186us/step - loss: 0.7297 - acc: 0.5867\n",
      "Epoch 110/200\n",
      "300/300 [==============================] - 0s 259us/step - loss: 0.6900 - acc: 0.6033\n",
      "Epoch 111/200\n",
      "300/300 [==============================] - 0s 228us/step - loss: 0.7312 - acc: 0.5867\n",
      "Epoch 112/200\n",
      "300/300 [==============================] - 0s 196us/step - loss: 0.6947 - acc: 0.6033\n",
      "Epoch 113/200\n",
      "300/300 [==============================] - 0s 208us/step - loss: 0.6775 - acc: 0.6100\n",
      "Epoch 114/200\n",
      "300/300 [==============================] - 0s 186us/step - loss: 0.7219 - acc: 0.5900\n",
      "Epoch 115/200\n",
      "300/300 [==============================] - 0s 200us/step - loss: 0.7569 - acc: 0.5767\n",
      "Epoch 116/200\n",
      "300/300 [==============================] - 0s 181us/step - loss: 0.6771 - acc: 0.6100\n",
      "Epoch 117/200\n",
      "300/300 [==============================] - 0s 194us/step - loss: 0.7208 - acc: 0.5900\n",
      "Epoch 118/200\n",
      "300/300 [==============================] - 0s 201us/step - loss: 0.7371 - acc: 0.5833\n",
      "Epoch 119/200\n",
      "300/300 [==============================] - 0s 227us/step - loss: 0.7141 - acc: 0.5933\n",
      "Epoch 120/200\n",
      "300/300 [==============================] - 0s 189us/step - loss: 0.7130 - acc: 0.5933\n",
      "Epoch 121/200\n",
      "300/300 [==============================] - 0s 193us/step - loss: 0.6697 - acc: 0.6133\n",
      "Epoch 122/200\n",
      "300/300 [==============================] - 0s 180us/step - loss: 0.7454 - acc: 0.5800\n",
      "Epoch 123/200\n",
      "300/300 [==============================] - 0s 216us/step - loss: 0.6407 - acc: 0.5967\n",
      "Epoch 124/200\n",
      "300/300 [==============================] - 0s 182us/step - loss: 0.6833 - acc: 0.5833\n",
      "Epoch 125/200\n",
      "300/300 [==============================] - 0s 187us/step - loss: 0.6547 - acc: 0.5700\n",
      "Epoch 126/200\n",
      "300/300 [==============================] - 0s 189us/step - loss: 0.7157 - acc: 0.5467\n",
      "Epoch 127/200\n",
      "300/300 [==============================] - 0s 223us/step - loss: 0.6596 - acc: 0.6167\n",
      "Epoch 128/200\n",
      "300/300 [==============================] - 0s 220us/step - loss: 0.7403 - acc: 0.5833\n",
      "Epoch 129/200\n",
      "300/300 [==============================] - 0s 185us/step - loss: 0.6345 - acc: 0.6133\n",
      "Epoch 130/200\n",
      "300/300 [==============================] - 0s 199us/step - loss: 0.7074 - acc: 0.6067\n",
      "Epoch 131/200\n",
      "300/300 [==============================] - 0s 228us/step - loss: 0.7739 - acc: 0.5533\n",
      "Epoch 132/200\n",
      "300/300 [==============================] - 0s 202us/step - loss: 0.7461 - acc: 0.5800\n",
      "Epoch 133/200\n",
      "300/300 [==============================] - 0s 209us/step - loss: 0.6746 - acc: 0.6133\n",
      "Epoch 134/200\n",
      "300/300 [==============================] - 0s 200us/step - loss: 0.7203 - acc: 0.5900\n",
      "Epoch 135/200\n",
      "300/300 [==============================] - 0s 185us/step - loss: 0.7224 - acc: 0.5900\n",
      "Epoch 136/200\n",
      "300/300 [==============================] - 0s 183us/step - loss: 0.6609 - acc: 0.6167\n",
      "Epoch 137/200\n",
      "300/300 [==============================] - 0s 175us/step - loss: 0.6601 - acc: 0.6167\n",
      "Epoch 138/200\n",
      "300/300 [==============================] - 0s 203us/step - loss: 0.6831 - acc: 0.6067\n",
      "Epoch 139/200\n",
      "300/300 [==============================] - 0s 198us/step - loss: 0.7225 - acc: 0.5900\n",
      "Epoch 140/200\n",
      "300/300 [==============================] - 0s 203us/step - loss: 0.6593 - acc: 0.6167\n",
      "Epoch 141/200\n",
      "300/300 [==============================] - 0s 226us/step - loss: 0.6448 - acc: 0.6233\n",
      "Epoch 142/200\n",
      "300/300 [==============================] - 0s 207us/step - loss: 0.6507 - acc: 0.6033\n",
      "Epoch 143/200\n",
      "300/300 [==============================] - 0s 171us/step - loss: 0.6809 - acc: 0.5667\n",
      "Epoch 144/200\n",
      "300/300 [==============================] - 0s 171us/step - loss: 0.6914 - acc: 0.5900\n",
      "Epoch 145/200\n",
      "300/300 [==============================] - 0s 308us/step - loss: 0.7283 - acc: 0.5900\n",
      "Epoch 146/200\n",
      "300/300 [==============================] - 0s 230us/step - loss: 0.6993 - acc: 0.6000\n",
      "Epoch 147/200\n",
      "300/300 [==============================] - 0s 199us/step - loss: 0.7071 - acc: 0.5867\n",
      "Epoch 148/200\n",
      "300/300 [==============================] - 0s 187us/step - loss: 0.6434 - acc: 0.6233\n",
      "Epoch 149/200\n",
      "300/300 [==============================] - 0s 196us/step - loss: 0.6503 - acc: 0.6200\n",
      "Epoch 150/200\n",
      "300/300 [==============================] - 0s 203us/step - loss: 0.6531 - acc: 0.6200\n",
      "Epoch 151/200\n",
      "300/300 [==============================] - 0s 195us/step - loss: 0.7734 - acc: 0.5700\n",
      "Epoch 152/200\n",
      "300/300 [==============================] - 0s 200us/step - loss: 0.6426 - acc: 0.6233\n",
      "Epoch 153/200\n",
      "300/300 [==============================] - 0s 200us/step - loss: 0.7011 - acc: 0.6000\n",
      "Epoch 154/200\n",
      "300/300 [==============================] - 0s 200us/step - loss: 0.6751 - acc: 0.6100\n",
      "Epoch 155/200\n",
      "300/300 [==============================] - 0s 193us/step - loss: 0.6265 - acc: 0.6300\n",
      "Epoch 156/200\n",
      "300/300 [==============================] - 0s 197us/step - loss: 0.7057 - acc: 0.5600\n",
      "Epoch 157/200\n",
      "300/300 [==============================] - 0s 216us/step - loss: 0.7207 - acc: 0.5733\n",
      "Epoch 158/200\n",
      "300/300 [==============================] - 0s 198us/step - loss: 0.7064 - acc: 0.5967\n",
      "Epoch 159/200\n",
      "300/300 [==============================] - 0s 201us/step - loss: 0.7232 - acc: 0.5900\n",
      "Epoch 160/200\n",
      "300/300 [==============================] - 0s 190us/step - loss: 0.6899 - acc: 0.6033\n",
      "Epoch 161/200\n",
      "300/300 [==============================] - 0s 201us/step - loss: 0.6495 - acc: 0.6200\n",
      "Epoch 162/200\n",
      "300/300 [==============================] - 0s 217us/step - loss: 0.7128 - acc: 0.5933\n",
      "Epoch 163/200\n",
      "300/300 [==============================] - 0s 189us/step - loss: 0.6805 - acc: 0.6067\n",
      "Epoch 164/200\n",
      "300/300 [==============================] - 0s 177us/step - loss: 0.6432 - acc: 0.6233\n",
      "Epoch 165/200\n"
     ]
    },
    {
     "name": "stdout",
     "output_type": "stream",
     "text": [
      "300/300 [==============================] - 0s 166us/step - loss: 0.6898 - acc: 0.6033\n",
      "Epoch 166/200\n",
      "300/300 [==============================] - 0s 172us/step - loss: 0.7727 - acc: 0.5700\n",
      "Epoch 167/200\n",
      "300/300 [==============================] - 0s 189us/step - loss: 0.7078 - acc: 0.5967\n",
      "Epoch 168/200\n",
      "300/300 [==============================] - 0s 179us/step - loss: 0.7055 - acc: 0.5967\n",
      "Epoch 169/200\n",
      "300/300 [==============================] - 0s 181us/step - loss: 0.7154 - acc: 0.5933\n",
      "Epoch 170/200\n",
      "300/300 [==============================] - 0s 190us/step - loss: 0.7229 - acc: 0.5900\n",
      "Epoch 171/200\n",
      "300/300 [==============================] - 0s 202us/step - loss: 0.7609 - acc: 0.5733\n",
      "Epoch 172/200\n",
      "300/300 [==============================] - 0s 172us/step - loss: 0.7211 - acc: 0.5900\n",
      "Epoch 173/200\n",
      "300/300 [==============================] - 0s 164us/step - loss: 0.6767 - acc: 0.6100\n",
      "Epoch 174/200\n",
      "300/300 [==============================] - 0s 169us/step - loss: 0.6984 - acc: 0.6000\n",
      "Epoch 175/200\n",
      "300/300 [==============================] - 0s 166us/step - loss: 0.6837 - acc: 0.6067\n",
      "Epoch 176/200\n",
      "300/300 [==============================] - 0s 196us/step - loss: 0.6912 - acc: 0.6033\n",
      "Epoch 177/200\n",
      "300/300 [==============================] - 0s 172us/step - loss: 0.6769 - acc: 0.6100\n",
      "Epoch 178/200\n",
      "300/300 [==============================] - 0s 166us/step - loss: 0.6673 - acc: 0.6133\n",
      "Epoch 179/200\n",
      "300/300 [==============================] - 0s 164us/step - loss: 0.6839 - acc: 0.6067\n",
      "Epoch 180/200\n",
      "300/300 [==============================] - 0s 178us/step - loss: 0.7076 - acc: 0.5967\n",
      "Epoch 181/200\n",
      "300/300 [==============================] - 0s 167us/step - loss: 0.7308 - acc: 0.5867\n",
      "Epoch 182/200\n",
      "300/300 [==============================] - 0s 173us/step - loss: 0.6742 - acc: 0.6100\n",
      "Epoch 183/200\n",
      "300/300 [==============================] - 0s 182us/step - loss: 0.7154 - acc: 0.5800\n",
      "Epoch 184/200\n",
      "300/300 [==============================] - 0s 245us/step - loss: 0.6596 - acc: 0.5867\n",
      "Epoch 185/200\n",
      "300/300 [==============================] - 0s 167us/step - loss: 0.6601 - acc: 0.6200\n",
      "Epoch 186/200\n",
      "300/300 [==============================] - 0s 170us/step - loss: 0.6974 - acc: 0.6000\n",
      "Epoch 187/200\n",
      "300/300 [==============================] - 0s 186us/step - loss: 0.7050 - acc: 0.5967\n",
      "Epoch 188/200\n",
      "300/300 [==============================] - 0s 185us/step - loss: 0.7156 - acc: 0.5933\n",
      "Epoch 189/200\n",
      "300/300 [==============================] - 0s 196us/step - loss: 0.6653 - acc: 0.6133\n",
      "Epoch 190/200\n",
      "300/300 [==============================] - 0s 184us/step - loss: 0.6920 - acc: 0.5633\n",
      "Epoch 191/200\n",
      "300/300 [==============================] - 0s 177us/step - loss: 0.6847 - acc: 0.6133\n",
      "Epoch 192/200\n",
      "300/300 [==============================] - 0s 189us/step - loss: 0.7338 - acc: 0.5867\n",
      "Epoch 193/200\n",
      "300/300 [==============================] - 0s 181us/step - loss: 0.7068 - acc: 0.5967\n",
      "Epoch 194/200\n",
      "300/300 [==============================] - 0s 188us/step - loss: 0.6514 - acc: 0.6200\n",
      "Epoch 195/200\n",
      "300/300 [==============================] - 0s 180us/step - loss: 0.6978 - acc: 0.6000\n",
      "Epoch 196/200\n",
      "300/300 [==============================] - 0s 195us/step - loss: 0.6813 - acc: 0.6067\n",
      "Epoch 197/200\n",
      "300/300 [==============================] - 0s 183us/step - loss: 0.6674 - acc: 0.6133\n",
      "Epoch 198/200\n",
      "300/300 [==============================] - 0s 204us/step - loss: 0.6678 - acc: 0.6133\n",
      "Epoch 199/200\n",
      "300/300 [==============================] - 0s 185us/step - loss: 0.6565 - acc: 0.6167\n",
      "Epoch 200/200\n",
      "300/300 [==============================] - 0s 187us/step - loss: 0.6705 - acc: 0.6100\n"
     ]
    },
    {
     "data": {
      "text/plain": [
       "<keras.callbacks.History at 0x1822f39b70>"
      ]
     },
     "execution_count": 88,
     "metadata": {},
     "output_type": "execute_result"
    }
   ],
   "source": [
    "model.fit(X_train, Y_train, epochs=200, batch_size=32)"
   ]
  },
  {
   "cell_type": "markdown",
   "metadata": {},
   "source": [
    "Check our classifier: "
   ]
  },
  {
   "cell_type": "code",
   "execution_count": 89,
   "metadata": {},
   "outputs": [
    {
     "data": {
      "text/plain": [
       "array([[0.47047248, 0.447174  , 0.08235354]], dtype=float32)"
      ]
     },
     "execution_count": 89,
     "metadata": {},
     "output_type": "execute_result"
    }
   ],
   "source": [
    "X_test = generate_a_disk()\n",
    "X_test = X_test.reshape(1, X_test.shape[0])\n",
    "model.predict(X_test)"
   ]
  },
  {
   "cell_type": "code",
   "execution_count": 90,
   "metadata": {},
   "outputs": [
    {
     "name": "stdout",
     "output_type": "stream",
     "text": [
      "Creating data:\n",
      "0\n",
      "10\n",
      "20\n",
      "30\n",
      "40\n",
      "50\n",
      "60\n",
      "70\n",
      "80\n",
      "90\n",
      "100\n",
      "110\n",
      "120\n",
      "130\n",
      "140\n",
      "150\n",
      "160\n",
      "170\n",
      "180\n",
      "190\n",
      "200\n",
      "210\n",
      "220\n",
      "230\n",
      "240\n",
      "250\n",
      "260\n",
      "270\n",
      "280\n",
      "290\n"
     ]
    }
   ],
   "source": [
    "[X_test, Y_test] = generate_dataset_classification(300, 20)"
   ]
  },
  {
   "cell_type": "code",
   "execution_count": 91,
   "metadata": {
    "collapsed": true
   },
   "outputs": [],
   "source": [
    "Y_test=keras.utils.to_categorical(Y_test, 3)"
   ]
  },
  {
   "cell_type": "code",
   "execution_count": 92,
   "metadata": {},
   "outputs": [
    {
     "name": "stdout",
     "output_type": "stream",
     "text": [
      "300/300 [==============================] - 0s 491us/step\n"
     ]
    },
    {
     "data": {
      "text/plain": [
       "[0.5451261878013611, 0.6266666666666667]"
      ]
     },
     "execution_count": 92,
     "metadata": {},
     "output_type": "execute_result"
    }
   ],
   "source": [
    "model.evaluate(X_test, Y_test)"
   ]
  },
  {
   "cell_type": "markdown",
   "metadata": {
    "collapsed": true
   },
   "source": [
    "With Adam optimizer:"
   ]
  },
  {
   "cell_type": "code",
   "execution_count": 138,
   "metadata": {
    "collapsed": true
   },
   "outputs": [],
   "source": [
    "model2 = Sequential()\n",
    "model2.add(Dense(units=3,kernel_initializer= 'uniform',activation=\"softmax\", input_shape=(X_train.shape[1],)))"
   ]
  },
  {
   "cell_type": "code",
   "execution_count": 139,
   "metadata": {
    "collapsed": true
   },
   "outputs": [],
   "source": [
    "from keras import optimizers"
   ]
  },
  {
   "cell_type": "code",
   "execution_count": 140,
   "metadata": {
    "collapsed": true
   },
   "outputs": [],
   "source": [
    "adam=optimizers.Adam(lr=0.001, beta_1=0.9, beta_2=0.999, epsilon=None, decay=0.0, amsgrad=False)\n",
    "model2.compile(loss='categorical_crossentropy',optimizer='adam')"
   ]
  },
  {
   "cell_type": "code",
   "execution_count": 141,
   "metadata": {},
   "outputs": [
    {
     "name": "stdout",
     "output_type": "stream",
     "text": [
      "Epoch 1/200\n",
      "300/300 [==============================] - 0s 2ms/step - loss: 1.7185\n",
      "Epoch 2/200\n",
      "300/300 [==============================] - 0s 152us/step - loss: 0.7638\n",
      "Epoch 3/200\n",
      "300/300 [==============================] - 0s 153us/step - loss: 0.4973\n",
      "Epoch 4/200\n",
      "300/300 [==============================] - 0s 147us/step - loss: 0.3501\n",
      "Epoch 5/200\n",
      "300/300 [==============================] - 0s 132us/step - loss: 0.3496\n",
      "Epoch 6/200\n",
      "300/300 [==============================] - 0s 144us/step - loss: 0.3632\n",
      "Epoch 7/200\n",
      "300/300 [==============================] - 0s 148us/step - loss: 0.2864\n",
      "Epoch 8/200\n",
      "300/300 [==============================] - 0s 143us/step - loss: 0.1781\n",
      "Epoch 9/200\n",
      "300/300 [==============================] - 0s 145us/step - loss: 0.1658\n",
      "Epoch 10/200\n",
      "300/300 [==============================] - 0s 151us/step - loss: 0.1723\n",
      "Epoch 11/200\n",
      "300/300 [==============================] - 0s 150us/step - loss: 0.1774\n",
      "Epoch 12/200\n",
      "300/300 [==============================] - 0s 136us/step - loss: 0.1361\n",
      "Epoch 13/200\n",
      "300/300 [==============================] - 0s 141us/step - loss: 0.1881\n",
      "Epoch 14/200\n",
      "300/300 [==============================] - 0s 139us/step - loss: 0.2314\n",
      "Epoch 15/200\n",
      "300/300 [==============================] - 0s 141us/step - loss: 0.2082\n",
      "Epoch 16/200\n",
      "300/300 [==============================] - 0s 132us/step - loss: 0.1637\n",
      "Epoch 17/200\n",
      "300/300 [==============================] - 0s 128us/step - loss: 0.0945\n",
      "Epoch 18/200\n",
      "300/300 [==============================] - 0s 137us/step - loss: 0.0635\n",
      "Epoch 19/200\n",
      "300/300 [==============================] - 0s 147us/step - loss: 0.0576\n",
      "Epoch 20/200\n",
      "300/300 [==============================] - 0s 150us/step - loss: 0.0555\n",
      "Epoch 21/200\n",
      "300/300 [==============================] - 0s 141us/step - loss: 0.0514\n",
      "Epoch 22/200\n",
      "300/300 [==============================] - 0s 149us/step - loss: 0.0518\n",
      "Epoch 23/200\n",
      "300/300 [==============================] - 0s 139us/step - loss: 0.0522\n",
      "Epoch 24/200\n",
      "300/300 [==============================] - 0s 136us/step - loss: 0.0621\n",
      "Epoch 25/200\n",
      "300/300 [==============================] - 0s 144us/step - loss: 0.0449\n",
      "Epoch 26/200\n",
      "300/300 [==============================] - 0s 141us/step - loss: 0.0404\n",
      "Epoch 27/200\n",
      "300/300 [==============================] - 0s 136us/step - loss: 0.0456\n",
      "Epoch 28/200\n",
      "300/300 [==============================] - 0s 138us/step - loss: 0.0459\n",
      "Epoch 29/200\n",
      "300/300 [==============================] - 0s 137us/step - loss: 0.0368\n",
      "Epoch 30/200\n",
      "300/300 [==============================] - 0s 139us/step - loss: 0.0341\n",
      "Epoch 31/200\n",
      "300/300 [==============================] - 0s 132us/step - loss: 0.0351\n",
      "Epoch 32/200\n",
      "300/300 [==============================] - 0s 127us/step - loss: 0.0336\n",
      "Epoch 33/200\n",
      "300/300 [==============================] - 0s 134us/step - loss: 0.0310\n",
      "Epoch 34/200\n",
      "300/300 [==============================] - 0s 119us/step - loss: 0.0295\n",
      "Epoch 35/200\n",
      "300/300 [==============================] - 0s 127us/step - loss: 0.0319\n",
      "Epoch 36/200\n",
      "300/300 [==============================] - 0s 128us/step - loss: 0.0281\n",
      "Epoch 37/200\n",
      "300/300 [==============================] - 0s 132us/step - loss: 0.0278\n",
      "Epoch 38/200\n",
      "300/300 [==============================] - ETA: 0s - loss: 0.026 - 0s 132us/step - loss: 0.0286\n",
      "Epoch 39/200\n",
      "300/300 [==============================] - 0s 129us/step - loss: 0.0250\n",
      "Epoch 40/200\n",
      "300/300 [==============================] - 0s 123us/step - loss: 0.0238\n",
      "Epoch 41/200\n",
      "300/300 [==============================] - 0s 127us/step - loss: 0.0237\n",
      "Epoch 42/200\n",
      "300/300 [==============================] - 0s 134us/step - loss: 0.0225\n",
      "Epoch 43/200\n",
      "300/300 [==============================] - 0s 130us/step - loss: 0.0219\n",
      "Epoch 44/200\n",
      "300/300 [==============================] - 0s 126us/step - loss: 0.0209\n",
      "Epoch 45/200\n",
      "300/300 [==============================] - 0s 122us/step - loss: 0.0205\n",
      "Epoch 46/200\n",
      "300/300 [==============================] - 0s 126us/step - loss: 0.0213\n",
      "Epoch 47/200\n",
      "300/300 [==============================] - 0s 130us/step - loss: 0.0197\n",
      "Epoch 48/200\n",
      "300/300 [==============================] - 0s 119us/step - loss: 0.0196\n",
      "Epoch 49/200\n",
      "300/300 [==============================] - 0s 130us/step - loss: 0.0185\n",
      "Epoch 50/200\n",
      "300/300 [==============================] - 0s 139us/step - loss: 0.0179\n",
      "Epoch 51/200\n",
      "300/300 [==============================] - 0s 122us/step - loss: 0.0182\n",
      "Epoch 52/200\n",
      "300/300 [==============================] - 0s 156us/step - loss: 0.0176\n",
      "Epoch 53/200\n",
      "300/300 [==============================] - 0s 137us/step - loss: 0.0165\n",
      "Epoch 54/200\n",
      "300/300 [==============================] - 0s 152us/step - loss: 0.0161\n",
      "Epoch 55/200\n",
      "300/300 [==============================] - 0s 141us/step - loss: 0.0154\n",
      "Epoch 56/200\n",
      "300/300 [==============================] - 0s 140us/step - loss: 0.0150\n",
      "Epoch 57/200\n",
      "300/300 [==============================] - 0s 140us/step - loss: 0.0151\n",
      "Epoch 58/200\n",
      "300/300 [==============================] - 0s 135us/step - loss: 0.0153\n",
      "Epoch 59/200\n",
      "300/300 [==============================] - 0s 136us/step - loss: 0.0142\n",
      "Epoch 60/200\n",
      "300/300 [==============================] - 0s 129us/step - loss: 0.0139\n",
      "Epoch 61/200\n",
      "300/300 [==============================] - 0s 137us/step - loss: 0.0137\n",
      "Epoch 62/200\n",
      "300/300 [==============================] - 0s 135us/step - loss: 0.0137\n",
      "Epoch 63/200\n",
      "300/300 [==============================] - 0s 144us/step - loss: 0.0133\n",
      "Epoch 64/200\n",
      "300/300 [==============================] - 0s 146us/step - loss: 0.0126\n",
      "Epoch 65/200\n",
      "300/300 [==============================] - 0s 150us/step - loss: 0.0125\n",
      "Epoch 66/200\n",
      "300/300 [==============================] - 0s 139us/step - loss: 0.0123\n",
      "Epoch 67/200\n",
      "300/300 [==============================] - 0s 162us/step - loss: 0.0119\n",
      "Epoch 68/200\n",
      "300/300 [==============================] - 0s 124us/step - loss: 0.0115\n",
      "Epoch 69/200\n",
      "300/300 [==============================] - 0s 141us/step - loss: 0.0114\n",
      "Epoch 70/200\n",
      "300/300 [==============================] - 0s 142us/step - loss: 0.0110\n",
      "Epoch 71/200\n",
      "300/300 [==============================] - 0s 142us/step - loss: 0.0106\n",
      "Epoch 72/200\n",
      "300/300 [==============================] - 0s 144us/step - loss: 0.0104\n",
      "Epoch 73/200\n",
      "300/300 [==============================] - 0s 140us/step - loss: 0.0103\n",
      "Epoch 74/200\n",
      "300/300 [==============================] - 0s 139us/step - loss: 0.0106\n",
      "Epoch 75/200\n",
      "300/300 [==============================] - 0s 135us/step - loss: 0.0102\n",
      "Epoch 76/200\n",
      "300/300 [==============================] - 0s 138us/step - loss: 0.0098\n",
      "Epoch 77/200\n",
      "300/300 [==============================] - 0s 138us/step - loss: 0.0098\n",
      "Epoch 78/200\n",
      "300/300 [==============================] - 0s 148us/step - loss: 0.0098\n",
      "Epoch 79/200\n",
      "300/300 [==============================] - 0s 137us/step - loss: 0.0097\n",
      "Epoch 80/200\n",
      "300/300 [==============================] - 0s 132us/step - loss: 0.0090\n",
      "Epoch 81/200\n",
      "300/300 [==============================] - 0s 140us/step - loss: 0.0088\n",
      "Epoch 82/200\n",
      "300/300 [==============================] - 0s 153us/step - loss: 0.0086\n",
      "Epoch 83/200\n",
      "300/300 [==============================] - 0s 135us/step - loss: 0.0084\n",
      "Epoch 84/200\n",
      "300/300 [==============================] - 0s 152us/step - loss: 0.0090\n",
      "Epoch 85/200\n",
      "300/300 [==============================] - 0s 150us/step - loss: 0.0083\n",
      "Epoch 86/200\n",
      "300/300 [==============================] - 0s 153us/step - loss: 0.0085\n",
      "Epoch 87/200\n",
      "300/300 [==============================] - 0s 161us/step - loss: 0.0084\n",
      "Epoch 88/200\n",
      "300/300 [==============================] - 0s 145us/step - loss: 0.0077\n",
      "Epoch 89/200\n",
      "300/300 [==============================] - 0s 144us/step - loss: 0.0077\n",
      "Epoch 90/200\n",
      "300/300 [==============================] - 0s 139us/step - loss: 0.0076\n",
      "Epoch 91/200\n",
      "300/300 [==============================] - 0s 154us/step - loss: 0.0077\n",
      "Epoch 92/200\n",
      "300/300 [==============================] - 0s 144us/step - loss: 0.0074\n",
      "Epoch 93/200\n",
      "300/300 [==============================] - 0s 133us/step - loss: 0.0071\n",
      "Epoch 94/200\n",
      "300/300 [==============================] - 0s 139us/step - loss: 0.0070\n",
      "Epoch 95/200\n",
      "300/300 [==============================] - 0s 141us/step - loss: 0.0074\n",
      "Epoch 96/200\n",
      "300/300 [==============================] - 0s 142us/step - loss: 0.0067\n",
      "Epoch 97/200\n"
     ]
    },
    {
     "name": "stdout",
     "output_type": "stream",
     "text": [
      "300/300 [==============================] - 0s 139us/step - loss: 0.0066\n",
      "Epoch 98/200\n",
      "300/300 [==============================] - 0s 138us/step - loss: 0.0067\n",
      "Epoch 99/200\n",
      "300/300 [==============================] - 0s 156us/step - loss: 0.0066\n",
      "Epoch 100/200\n",
      "300/300 [==============================] - 0s 146us/step - loss: 0.0066\n",
      "Epoch 101/200\n",
      "300/300 [==============================] - 0s 148us/step - loss: 0.0066\n",
      "Epoch 102/200\n",
      "300/300 [==============================] - 0s 140us/step - loss: 0.0061\n",
      "Epoch 103/200\n",
      "300/300 [==============================] - 0s 130us/step - loss: 0.0063\n",
      "Epoch 104/200\n",
      "300/300 [==============================] - 0s 144us/step - loss: 0.0059\n",
      "Epoch 105/200\n",
      "300/300 [==============================] - 0s 137us/step - loss: 0.0060\n",
      "Epoch 106/200\n",
      "300/300 [==============================] - 0s 140us/step - loss: 0.0058\n",
      "Epoch 107/200\n",
      "300/300 [==============================] - 0s 143us/step - loss: 0.0060\n",
      "Epoch 108/200\n",
      "300/300 [==============================] - 0s 144us/step - loss: 0.0057\n",
      "Epoch 109/200\n",
      "300/300 [==============================] - 0s 138us/step - loss: 0.0055\n",
      "Epoch 110/200\n",
      "300/300 [==============================] - 0s 147us/step - loss: 0.0054\n",
      "Epoch 111/200\n",
      "300/300 [==============================] - 0s 131us/step - loss: 0.0054\n",
      "Epoch 112/200\n",
      "300/300 [==============================] - 0s 126us/step - loss: 0.0052\n",
      "Epoch 113/200\n",
      "300/300 [==============================] - 0s 130us/step - loss: 0.0052\n",
      "Epoch 114/200\n",
      "300/300 [==============================] - 0s 134us/step - loss: 0.0051\n",
      "Epoch 115/200\n",
      "300/300 [==============================] - 0s 128us/step - loss: 0.0051\n",
      "Epoch 116/200\n",
      "300/300 [==============================] - 0s 132us/step - loss: 0.0052\n",
      "Epoch 117/200\n",
      "300/300 [==============================] - 0s 130us/step - loss: 0.0050\n",
      "Epoch 118/200\n",
      "300/300 [==============================] - 0s 131us/step - loss: 0.0049\n",
      "Epoch 119/200\n",
      "300/300 [==============================] - 0s 133us/step - loss: 0.0048\n",
      "Epoch 120/200\n",
      "300/300 [==============================] - 0s 121us/step - loss: 0.0048\n",
      "Epoch 121/200\n",
      "300/300 [==============================] - 0s 136us/step - loss: 0.0046\n",
      "Epoch 122/200\n",
      "300/300 [==============================] - 0s 138us/step - loss: 0.0046\n",
      "Epoch 123/200\n",
      "300/300 [==============================] - 0s 130us/step - loss: 0.0046\n",
      "Epoch 124/200\n",
      "300/300 [==============================] - 0s 144us/step - loss: 0.0047\n",
      "Epoch 125/200\n",
      "300/300 [==============================] - 0s 174us/step - loss: 0.0045\n",
      "Epoch 126/200\n",
      "300/300 [==============================] - 0s 163us/step - loss: 0.0044\n",
      "Epoch 127/200\n",
      "300/300 [==============================] - 0s 149us/step - loss: 0.0043\n",
      "Epoch 128/200\n",
      "300/300 [==============================] - 0s 164us/step - loss: 0.0043\n",
      "Epoch 129/200\n",
      "300/300 [==============================] - 0s 166us/step - loss: 0.0042\n",
      "Epoch 130/200\n",
      "300/300 [==============================] - 0s 149us/step - loss: 0.0042\n",
      "Epoch 131/200\n",
      "300/300 [==============================] - 0s 154us/step - loss: 0.0042\n",
      "Epoch 132/200\n",
      "300/300 [==============================] - 0s 158us/step - loss: 0.0040\n",
      "Epoch 133/200\n",
      "300/300 [==============================] - 0s 150us/step - loss: 0.0040\n",
      "Epoch 134/200\n",
      "300/300 [==============================] - 0s 144us/step - loss: 0.0039\n",
      "Epoch 135/200\n",
      "300/300 [==============================] - 0s 145us/step - loss: 0.0038\n",
      "Epoch 136/200\n",
      "300/300 [==============================] - 0s 142us/step - loss: 0.0038\n",
      "Epoch 137/200\n",
      "300/300 [==============================] - 0s 148us/step - loss: 0.0038\n",
      "Epoch 138/200\n",
      "300/300 [==============================] - 0s 137us/step - loss: 0.0037\n",
      "Epoch 139/200\n",
      "300/300 [==============================] - 0s 158us/step - loss: 0.0038\n",
      "Epoch 140/200\n",
      "300/300 [==============================] - 0s 148us/step - loss: 0.0039\n",
      "Epoch 141/200\n",
      "300/300 [==============================] - 0s 148us/step - loss: 0.0037\n",
      "Epoch 142/200\n",
      "300/300 [==============================] - 0s 141us/step - loss: 0.0036\n",
      "Epoch 143/200\n",
      "300/300 [==============================] - 0s 152us/step - loss: 0.0036\n",
      "Epoch 144/200\n",
      "300/300 [==============================] - 0s 151us/step - loss: 0.0035\n",
      "Epoch 145/200\n",
      "300/300 [==============================] - 0s 148us/step - loss: 0.0034\n",
      "Epoch 146/200\n",
      "300/300 [==============================] - 0s 137us/step - loss: 0.0034\n",
      "Epoch 147/200\n",
      "300/300 [==============================] - 0s 144us/step - loss: 0.0033\n",
      "Epoch 148/200\n",
      "300/300 [==============================] - 0s 149us/step - loss: 0.0033\n",
      "Epoch 149/200\n",
      "300/300 [==============================] - 0s 143us/step - loss: 0.0033\n",
      "Epoch 150/200\n",
      "300/300 [==============================] - 0s 136us/step - loss: 0.0033\n",
      "Epoch 151/200\n",
      "300/300 [==============================] - 0s 138us/step - loss: 0.0033\n",
      "Epoch 152/200\n",
      "300/300 [==============================] - 0s 168us/step - loss: 0.0032\n",
      "Epoch 153/200\n",
      "300/300 [==============================] - 0s 156us/step - loss: 0.0031\n",
      "Epoch 154/200\n",
      "300/300 [==============================] - 0s 160us/step - loss: 0.0031\n",
      "Epoch 155/200\n",
      "300/300 [==============================] - 0s 144us/step - loss: 0.0031\n",
      "Epoch 156/200\n",
      "300/300 [==============================] - 0s 136us/step - loss: 0.0031\n",
      "Epoch 157/200\n",
      "300/300 [==============================] - 0s 132us/step - loss: 0.0030\n",
      "Epoch 158/200\n",
      "300/300 [==============================] - 0s 135us/step - loss: 0.0030\n",
      "Epoch 159/200\n",
      "300/300 [==============================] - 0s 134us/step - loss: 0.0030\n",
      "Epoch 160/200\n",
      "300/300 [==============================] - 0s 139us/step - loss: 0.0030\n",
      "Epoch 161/200\n",
      "300/300 [==============================] - 0s 125us/step - loss: 0.0030\n",
      "Epoch 162/200\n",
      "300/300 [==============================] - 0s 132us/step - loss: 0.0028\n",
      "Epoch 163/200\n",
      "300/300 [==============================] - 0s 136us/step - loss: 0.0028\n",
      "Epoch 164/200\n",
      "300/300 [==============================] - 0s 140us/step - loss: 0.0028\n",
      "Epoch 165/200\n",
      "300/300 [==============================] - 0s 144us/step - loss: 0.0027\n",
      "Epoch 166/200\n",
      "300/300 [==============================] - 0s 142us/step - loss: 0.0027\n",
      "Epoch 167/200\n",
      "300/300 [==============================] - 0s 144us/step - loss: 0.0027\n",
      "Epoch 168/200\n",
      "300/300 [==============================] - 0s 135us/step - loss: 0.0026\n",
      "Epoch 169/200\n",
      "300/300 [==============================] - 0s 131us/step - loss: 0.0026\n",
      "Epoch 170/200\n",
      "300/300 [==============================] - 0s 129us/step - loss: 0.0026\n",
      "Epoch 171/200\n",
      "300/300 [==============================] - 0s 132us/step - loss: 0.0026\n",
      "Epoch 172/200\n",
      "300/300 [==============================] - 0s 144us/step - loss: 0.0025\n",
      "Epoch 173/200\n",
      "300/300 [==============================] - 0s 132us/step - loss: 0.0025\n",
      "Epoch 174/200\n",
      "300/300 [==============================] - 0s 126us/step - loss: 0.0025\n",
      "Epoch 175/200\n",
      "300/300 [==============================] - 0s 156us/step - loss: 0.0024\n",
      "Epoch 176/200\n",
      "300/300 [==============================] - 0s 149us/step - loss: 0.0025\n",
      "Epoch 177/200\n",
      "300/300 [==============================] - 0s 151us/step - loss: 0.0024\n",
      "Epoch 178/200\n",
      "300/300 [==============================] - 0s 135us/step - loss: 0.0024\n",
      "Epoch 179/200\n",
      "300/300 [==============================] - 0s 132us/step - loss: 0.0024\n",
      "Epoch 180/200\n",
      "300/300 [==============================] - 0s 122us/step - loss: 0.0024\n",
      "Epoch 181/200\n",
      "300/300 [==============================] - 0s 145us/step - loss: 0.0024\n",
      "Epoch 182/200\n",
      "300/300 [==============================] - 0s 125us/step - loss: 0.0023\n",
      "Epoch 183/200\n",
      "300/300 [==============================] - 0s 127us/step - loss: 0.0023\n",
      "Epoch 184/200\n",
      "300/300 [==============================] - 0s 133us/step - loss: 0.0023\n",
      "Epoch 185/200\n",
      "300/300 [==============================] - 0s 132us/step - loss: 0.0022\n",
      "Epoch 186/200\n",
      "300/300 [==============================] - 0s 130us/step - loss: 0.0022\n",
      "Epoch 187/200\n",
      "300/300 [==============================] - 0s 136us/step - loss: 0.0022\n",
      "Epoch 188/200\n",
      "300/300 [==============================] - 0s 148us/step - loss: 0.0022\n",
      "Epoch 189/200\n",
      "300/300 [==============================] - 0s 138us/step - loss: 0.0022\n",
      "Epoch 190/200\n",
      "300/300 [==============================] - 0s 129us/step - loss: 0.0021\n",
      "Epoch 191/200\n",
      "300/300 [==============================] - 0s 137us/step - loss: 0.0021\n",
      "Epoch 192/200\n"
     ]
    },
    {
     "name": "stdout",
     "output_type": "stream",
     "text": [
      "300/300 [==============================] - 0s 130us/step - loss: 0.0021\n",
      "Epoch 193/200\n",
      "300/300 [==============================] - 0s 132us/step - loss: 0.0021\n",
      "Epoch 194/200\n",
      "300/300 [==============================] - 0s 128us/step - loss: 0.0021\n",
      "Epoch 195/200\n",
      "300/300 [==============================] - 0s 145us/step - loss: 0.0021\n",
      "Epoch 196/200\n",
      "300/300 [==============================] - 0s 134us/step - loss: 0.0021\n",
      "Epoch 197/200\n",
      "300/300 [==============================] - 0s 138us/step - loss: 0.0020\n",
      "Epoch 198/200\n",
      "300/300 [==============================] - 0s 127us/step - loss: 0.0020\n",
      "Epoch 199/200\n",
      "300/300 [==============================] - 0s 132us/step - loss: 0.0020\n",
      "Epoch 200/200\n",
      "300/300 [==============================] - 0s 135us/step - loss: 0.0019\n"
     ]
    },
    {
     "data": {
      "text/plain": [
       "<keras.callbacks.History at 0x182cf7d7f0>"
      ]
     },
     "execution_count": 141,
     "metadata": {},
     "output_type": "execute_result"
    }
   ],
   "source": [
    "model2.fit(X_train, Y_train, epochs=200, batch_size=32)"
   ]
  },
  {
   "cell_type": "code",
   "execution_count": 142,
   "metadata": {},
   "outputs": [
    {
     "data": {
      "text/plain": [
       "array([[0., 1., 0.]], dtype=float32)"
      ]
     },
     "execution_count": 142,
     "metadata": {},
     "output_type": "execute_result"
    }
   ],
   "source": [
    "X_test = generate_a_disk()\n",
    "X_test = X_test.reshape(1, X_test.shape[0])\n",
    "model2.predict(X_test)"
   ]
  },
  {
   "cell_type": "markdown",
   "metadata": {},
   "source": [
    "## Visualization of the Solution"
   ]
  },
  {
   "cell_type": "markdown",
   "metadata": {},
   "source": [
    "##### Visualization for SGD:"
   ]
  },
  {
   "cell_type": "markdown",
   "metadata": {},
   "source": [
    "Check the output of the function model.get_weights():"
   ]
  },
  {
   "cell_type": "code",
   "execution_count": 143,
   "metadata": {},
   "outputs": [
    {
     "data": {
      "text/plain": [
       "[array([[-5.1517945e-02,  2.7449455e-02,  2.8909747e-02, ...,\n",
       "          1.4621785e-02, -1.9878542e-02,  2.9065978e-02],\n",
       "        [-3.0549543e-02,  4.5202006e-02, -1.9858071e-05, ...,\n",
       "         -1.3066895e-02,  4.7969561e-02, -1.9068969e-02],\n",
       "        [-2.8820513e-02, -1.1046063e-02, -1.8792763e-02, ...,\n",
       "          4.6519581e-02, -2.6659714e-02,  3.3103004e-03],\n",
       "        ...,\n",
       "        [-3.8516533e-02,  4.7398414e-02,  2.2087669e-02, ...,\n",
       "          9.1711860e-03, -3.6247537e-02, -3.2124091e-02],\n",
       "        [-8.3463686e-03,  2.0117950e-02, -5.1407501e-02, ...,\n",
       "         -2.1652434e-02,  2.2588437e-02,  1.9854512e-02],\n",
       "        [ 4.2053279e-02,  2.9147658e-02, -4.6910673e-02, ...,\n",
       "         -3.4474149e-02,  4.4202499e-02, -2.5266076e-02]], dtype=float32),\n",
       " array([-6.73523825e-03,  0.00000000e+00, -1.88472606e-02, -7.21660443e-04,\n",
       "        -2.23093256e-02, -2.33232812e-03, -2.89513147e-03, -1.68305784e-02,\n",
       "        -2.77567049e-03, -2.68904958e-03, -6.58369763e-03,  0.00000000e+00,\n",
       "        -5.84846130e-03,  0.00000000e+00, -2.05777687e-04, -5.09819714e-03,\n",
       "        -6.89586578e-03, -6.36214099e-04, -6.95318813e-05, -1.69521966e-03,\n",
       "         0.00000000e+00,  0.00000000e+00, -6.42041792e-04, -5.91688324e-03,\n",
       "         0.00000000e+00, -2.48664804e-03, -8.72968696e-03,  0.00000000e+00,\n",
       "        -2.01537423e-02, -3.86351370e-04, -1.03476086e-04,  0.00000000e+00],\n",
       "       dtype=float32),\n",
       " array([[-2.36379206e-02,  1.25592992e-01, -4.73499298e-03,\n",
       "         -3.97906676e-02, -1.45827851e-03,  3.69482450e-02,\n",
       "          2.06606597e-01, -1.12916902e-01, -1.67433769e-02,\n",
       "         -1.33120492e-01],\n",
       "        [-2.18897350e-02,  1.71902217e-02,  2.45602243e-02,\n",
       "          1.41783468e-02, -9.46437195e-03, -3.75258327e-02,\n",
       "          8.53325054e-03, -1.78408995e-02, -3.38033810e-02,\n",
       "         -1.79428831e-02],\n",
       "        [ 2.56759912e-01, -1.97644174e-01, -4.81814854e-02,\n",
       "          5.94684929e-02, -7.33567476e-02, -1.37514677e-02,\n",
       "         -5.51126301e-02,  4.74003315e-01,  4.97642100e-01,\n",
       "          4.64413196e-01],\n",
       "        [-1.18792811e-02, -6.41149608e-03,  2.84722559e-02,\n",
       "          4.18678559e-02,  1.34729240e-02, -2.85073346e-03,\n",
       "         -1.66544784e-02, -4.48830053e-03,  4.00479883e-02,\n",
       "         -2.56097969e-02],\n",
       "        [-4.64874730e-02,  2.37118512e-01, -3.08801755e-02,\n",
       "         -3.32629196e-02,  1.71112996e-02, -4.36053574e-02,\n",
       "          2.26760522e-01, -9.75496545e-02, -9.58369300e-03,\n",
       "          2.94659310e-03],\n",
       "        [-4.44791950e-02,  9.48717371e-02, -4.76647504e-02,\n",
       "         -2.11558454e-02,  1.19288070e-02, -3.66353750e-04,\n",
       "         -2.86806468e-02,  6.54337704e-02, -7.17397034e-03,\n",
       "          1.67624205e-02],\n",
       "        [ 2.22176872e-03,  1.35980099e-01, -3.39240655e-02,\n",
       "         -3.41804624e-02, -1.30535271e-02, -1.53847253e-02,\n",
       "          1.92476600e-01, -1.09532058e-01,  3.48159708e-02,\n",
       "         -8.89033675e-02],\n",
       "        [-4.25757393e-02,  1.59446567e-01, -3.18933427e-02,\n",
       "          2.01457459e-02,  2.21404955e-02,  2.77613141e-02,\n",
       "          1.57406271e-01, -6.00337125e-02, -3.43867838e-02,\n",
       "         -1.01641402e-01],\n",
       "        [ 4.06721346e-02,  6.84796497e-02, -1.52300950e-02,\n",
       "          2.19874978e-02,  6.79237489e-03, -1.66147426e-02,\n",
       "          5.74852340e-02,  6.87560998e-03,  1.45388884e-03,\n",
       "          6.73393020e-03],\n",
       "        [ 4.55135107e-03, -1.66445792e-01,  2.77175219e-03,\n",
       "         -1.26302904e-02, -3.18920203e-02,  1.24655478e-02,\n",
       "         -1.52544916e-01,  1.68527424e-01,  3.70665118e-02,\n",
       "          1.72092482e-01],\n",
       "        [-8.66520852e-02, -1.15048930e-01, -3.68297435e-02,\n",
       "         -3.55038866e-02, -1.79600380e-02, -1.36233335e-02,\n",
       "         -1.11146152e-01,  2.94473857e-01,  2.24070653e-01,\n",
       "          3.34574938e-01],\n",
       "        [-3.19507867e-02, -1.33834109e-02,  4.38352264e-02,\n",
       "         -3.55078094e-02,  4.63771820e-03, -2.33148225e-02,\n",
       "         -1.94082148e-02,  6.96329027e-03, -8.28803703e-03,\n",
       "         -2.04203725e-02],\n",
       "        [ 3.61040980e-02,  1.14253446e-01,  3.28855179e-02,\n",
       "          7.17932777e-03, -1.35051878e-03, -4.79015522e-02,\n",
       "          1.46544859e-01, -6.49943650e-02, -4.89609912e-02,\n",
       "         -1.32513151e-01],\n",
       "        [ 4.70054485e-02, -1.66441686e-02,  1.20436549e-02,\n",
       "          2.83615664e-03, -6.96501881e-03,  4.78946306e-02,\n",
       "          2.69653909e-02, -9.92107391e-03, -4.63638902e-02,\n",
       "         -1.25141069e-03],\n",
       "        [ 2.91610286e-02, -1.97204091e-02, -1.91267617e-02,\n",
       "          3.12884748e-02, -3.85392667e-03,  1.48581890e-02,\n",
       "          3.89414020e-02,  2.58141644e-02, -1.44469459e-02,\n",
       "         -3.58509012e-02],\n",
       "        [-4.63496745e-02, -2.99030185e-01,  8.62510130e-03,\n",
       "         -4.58944496e-03, -1.01325307e-02, -2.61289557e-03,\n",
       "         -2.91426778e-01,  3.43793511e-01,  2.66008139e-01,\n",
       "          2.61642456e-01],\n",
       "        [-1.23322252e-02, -1.16792075e-01, -3.63308340e-02,\n",
       "         -2.54238117e-03, -3.51707116e-02, -7.45945564e-03,\n",
       "         -1.36301935e-01,  3.18308234e-01,  3.21136326e-01,\n",
       "          2.58195072e-01],\n",
       "        [-4.88760939e-04,  4.38465104e-02, -1.08508840e-02,\n",
       "         -4.58172895e-02, -1.68102551e-02,  3.71793695e-02,\n",
       "         -1.66242104e-02,  4.14104725e-04,  4.57184464e-02,\n",
       "         -3.71667184e-02],\n",
       "        [ 3.30349468e-02, -4.31899391e-02, -1.12355947e-02,\n",
       "          1.51737186e-03, -2.56588943e-02, -7.57467188e-03,\n",
       "          1.48288521e-03,  1.41510703e-02, -4.37030345e-02,\n",
       "          3.01047545e-02],\n",
       "        [ 2.96641942e-02, -7.45078847e-02,  4.67248634e-02,\n",
       "          1.67211555e-02,  7.12144328e-03, -2.07931250e-02,\n",
       "         -1.09695062e-01,  9.98458490e-02,  1.79836694e-02,\n",
       "          1.08284689e-01],\n",
       "        [ 4.17889468e-02, -7.82923773e-03,  5.05826622e-03,\n",
       "          7.81621784e-03,  1.88738592e-02,  3.36363204e-02,\n",
       "         -3.82170454e-02, -2.39828471e-02,  1.63356178e-02,\n",
       "          4.04101275e-02],\n",
       "        [ 2.41525210e-02, -2.44897734e-02, -2.56463289e-02,\n",
       "         -7.93387741e-03,  1.17621534e-02, -3.42019200e-02,\n",
       "          4.25611474e-02,  3.13103832e-02,  1.77139528e-02,\n",
       "          3.46525647e-02],\n",
       "        [-3.85712422e-02,  7.83249214e-02,  2.53697876e-02,\n",
       "          2.28793616e-03,  1.22109512e-02,  6.14418052e-02,\n",
       "          2.34430712e-02,  1.44460797e-02,  1.35239568e-02,\n",
       "          8.53790063e-03],\n",
       "        [-1.15751068e-03, -1.46901622e-01, -3.36654112e-02,\n",
       "         -4.48177345e-02, -2.42430381e-02, -4.23815027e-02,\n",
       "         -1.79014966e-01,  1.94911450e-01,  1.06767289e-01,\n",
       "          1.14696704e-01],\n",
       "        [-1.57752633e-02,  1.56578533e-02,  3.35741788e-04,\n",
       "          4.18930128e-03, -4.93383780e-02,  8.24733824e-03,\n",
       "          6.26157969e-04,  4.97492440e-02, -3.85510549e-02,\n",
       "         -3.95871326e-03],\n",
       "        [-6.05825558e-02,  5.31812966e-01, -1.00757685e-02,\n",
       "         -4.11698520e-02,  5.93114853e-01, -8.43892223e-04,\n",
       "          5.26263297e-01, -2.10909352e-01, -1.20072752e-01,\n",
       "         -2.03198358e-01],\n",
       "        [-2.25149170e-02, -5.72460219e-02,  3.04210111e-02,\n",
       "         -2.08448190e-02,  1.85810328e-02, -2.12333035e-02,\n",
       "         -1.96859911e-01,  1.50700942e-01,  1.79856077e-01,\n",
       "          2.56260991e-01],\n",
       "        [-2.96280980e-02,  1.43627077e-03,  1.25701763e-02,\n",
       "          1.92921273e-02,  3.39849256e-02, -5.93726709e-03,\n",
       "         -2.35881936e-02,  1.31971762e-03, -8.87355953e-03,\n",
       "          2.72223689e-02],\n",
       "        [-2.05450365e-03,  2.27701679e-01, -4.03687842e-02,\n",
       "         -1.21919541e-02,  6.29632697e-02, -2.59809811e-02,\n",
       "          2.83611208e-01, -9.47309881e-02, -6.74112886e-02,\n",
       "         -8.13191757e-02],\n",
       "        [-3.81368883e-02,  3.54061392e-03, -3.17903757e-02,\n",
       "          3.94419730e-02, -4.75061312e-02,  1.67250503e-02,\n",
       "          2.66068596e-02, -4.22359332e-02, -1.27683310e-02,\n",
       "          4.87865210e-02],\n",
       "        [-1.70423985e-02, -4.13255394e-02,  1.00234151e-02,\n",
       "          2.60539167e-02, -2.81132590e-02, -1.87346805e-02,\n",
       "          1.61410682e-02,  4.07177806e-02, -1.95034686e-02,\n",
       "          2.55794507e-02],\n",
       "        [ 3.29147913e-02, -1.88095216e-02, -4.01782617e-02,\n",
       "          1.56787150e-02, -8.37337971e-03, -1.62303932e-02,\n",
       "         -4.90922593e-02, -1.33556835e-02,  2.06045546e-02,\n",
       "         -3.80112305e-02]], dtype=float32),\n",
       " array([ 2.7922252e-01, -4.5232065e-03, -5.6338238e-05, -1.2926658e-02,\n",
       "        -4.2778593e-03, -1.2729293e-03, -2.8599555e-02, -4.0585387e-02,\n",
       "        -2.8089244e-02,  1.5044102e-01], dtype=float32),\n",
       " array([[ 0.08667649,  0.19969265, -0.3180473 ],\n",
       "        [-0.3213482 , -0.32773626,  0.6015506 ],\n",
       "        [-0.03035102,  0.02479467,  0.0332755 ],\n",
       "        [-0.04485618,  0.03468378, -0.02888157],\n",
       "        [-0.29782686, -0.18868306,  0.47562703],\n",
       "        [ 0.00396201, -0.04715724, -0.02374491],\n",
       "        [-0.32066327, -0.29924157,  0.63793284],\n",
       "        [ 0.22108406,  0.5425286 , -0.7681423 ],\n",
       "        [ 0.16589013,  0.5261428 , -0.60543203],\n",
       "        [ 0.30702186,  0.4710924 , -0.6976605 ]], dtype=float32),\n",
       " array([ 0.5285303 ,  0.42150107, -0.9500324 ], dtype=float32)]"
      ]
     },
     "execution_count": 143,
     "metadata": {},
     "output_type": "execute_result"
    }
   ],
   "source": [
    "model.get_weights()"
   ]
  },
  {
   "cell_type": "code",
   "execution_count": 144,
   "metadata": {
    "collapsed": true
   },
   "outputs": [],
   "source": [
    "A=model.get_weights()[0]"
   ]
  },
  {
   "cell_type": "code",
   "execution_count": 145,
   "metadata": {
    "collapsed": true
   },
   "outputs": [],
   "source": [
    "im1=A[:,0]\n",
    "im2=A[:,1]\n",
    "im3=A[:,2]"
   ]
  },
  {
   "cell_type": "code",
   "execution_count": 146,
   "metadata": {},
   "outputs": [
    {
     "data": {
      "text/plain": [
       "<matplotlib.image.AxesImage at 0x182b744470>"
      ]
     },
     "execution_count": 146,
     "metadata": {},
     "output_type": "execute_result"
    },
    {
     "data": {
      "image/png": "[encoded data removed]",
      "text/plain": [
       "<matplotlib.figure.Figure at 0x182b755940>"
      ]
     },
     "metadata": {},
     "output_type": "display_data"
    }
   ],
   "source": [
    "plt.imshow(im1.reshape(IMAGE_SIZE, IMAGE_SIZE), interpolation='nearest', cmap='ocean')"
   ]
  },
  {
   "cell_type": "code",
   "execution_count": 147,
   "metadata": {},
   "outputs": [
    {
     "data": {
      "text/plain": [
       "<matplotlib.image.AxesImage at 0x18221d0f98>"
      ]
     },
     "execution_count": 147,
     "metadata": {},
     "output_type": "execute_result"
    },
    {
     "data": {
      "image/png": "[encoded data removed]",
      "text/plain": [
       "<matplotlib.figure.Figure at 0x1822170b70>"
      ]
     },
     "metadata": {},
     "output_type": "display_data"
    }
   ],
   "source": [
    "plt.imshow(im2.reshape(IMAGE_SIZE, IMAGE_SIZE), interpolation='nearest', cmap='gray')"
   ]
  },
  {
   "cell_type": "code",
   "execution_count": 148,
   "metadata": {},
   "outputs": [
    {
     "data": {
      "text/plain": [
       "<matplotlib.image.AxesImage at 0x182cf834e0>"
      ]
     },
     "execution_count": 148,
     "metadata": {},
     "output_type": "execute_result"
    },
    {
     "data": {
      "image/png": "[encoded data removed]",
      "text/plain": [
       "<matplotlib.figure.Figure at 0x1822167048>"
      ]
     },
     "metadata": {},
     "output_type": "display_data"
    }
   ],
   "source": [
    "plt.imshow(im3.reshape(IMAGE_SIZE, IMAGE_SIZE), interpolation='nearest', cmap='gray')"
   ]
  },
  {
   "cell_type": "markdown",
   "metadata": {},
   "source": [
    "##### Visualization for Adam:"
   ]
  },
  {
   "cell_type": "code",
   "execution_count": 149,
   "metadata": {},
   "outputs": [
    {
     "data": {
      "text/plain": [
       "[array([[-0.04434911, -0.004837  ,  0.01013964],\n",
       "        [ 0.03799769, -0.00301278,  0.04063138],\n",
       "        [-0.02456405,  0.0209684 , -0.05095705],\n",
       "        ...,\n",
       "        [ 0.03828674, -0.04931716, -0.04815431],\n",
       "        [-0.04049332, -0.02818363, -0.03862282],\n",
       "        [ 0.00342622,  0.03005443, -0.0019228 ]], dtype=float32),\n",
       " array([ 0.00220232, -0.00081152, -0.00131947], dtype=float32)]"
      ]
     },
     "execution_count": 149,
     "metadata": {},
     "output_type": "execute_result"
    }
   ],
   "source": [
    "model2.get_weights()"
   ]
  },
  {
   "cell_type": "code",
   "execution_count": 150,
   "metadata": {
    "collapsed": true
   },
   "outputs": [],
   "source": [
    "A2=model2.get_weights()[0]"
   ]
  },
  {
   "cell_type": "code",
   "execution_count": 151,
   "metadata": {
    "collapsed": true
   },
   "outputs": [],
   "source": [
    "im4=A2[:,0]\n",
    "im5=A2[:,1]\n",
    "im6=A2[:,2]"
   ]
  },
  {
   "cell_type": "code",
   "execution_count": 152,
   "metadata": {},
   "outputs": [
    {
     "data": {
      "text/plain": [
       "<matplotlib.image.AxesImage at 0x182a5d7e48>"
      ]
     },
     "execution_count": 152,
     "metadata": {},
     "output_type": "execute_result"
    },
    {
     "data": {
      "image/png": "[encoded data removed]",
      "text/plain": [
       "<matplotlib.figure.Figure at 0x182cf65ef0>"
      ]
     },
     "metadata": {},
     "output_type": "display_data"
    }
   ],
   "source": [
    "plt.imshow(im4.reshape(IMAGE_SIZE, IMAGE_SIZE), cmap='ocean')"
   ]
  },
  {
   "cell_type": "code",
   "execution_count": 153,
   "metadata": {},
   "outputs": [
    {
     "data": {
      "text/plain": [
       "<matplotlib.image.AxesImage at 0x182a53d0b8>"
      ]
     },
     "execution_count": 153,
     "metadata": {},
     "output_type": "execute_result"
    },
    {
     "data": {
      "image/png": "[encoded data removed]",
      "text/plain": [
       "<matplotlib.figure.Figure at 0x182a6014e0>"
      ]
     },
     "metadata": {},
     "output_type": "display_data"
    }
   ],
   "source": [
    "plt.imshow(im5.reshape(IMAGE_SIZE, IMAGE_SIZE), interpolation='nearest')"
   ]
  },
  {
   "cell_type": "code",
   "execution_count": 154,
   "metadata": {},
   "outputs": [
    {
     "data": {
      "text/plain": [
       "<matplotlib.image.AxesImage at 0x1829ce1400>"
      ]
     },
     "execution_count": 154,
     "metadata": {},
     "output_type": "execute_result"
    },
    {
     "data": {
      "image/png": "[encoded data removed]",
      "text/plain": [
       "<matplotlib.figure.Figure at 0x182a511470>"
      ]
     },
     "metadata": {},
     "output_type": "display_data"
    }
   ],
   "source": [
    "plt.imshow(im6.reshape(IMAGE_SIZE, IMAGE_SIZE), interpolation='nearest')"
   ]
  },
  {
   "cell_type": "markdown",
   "metadata": {},
   "source": [
    "# A more difficult classicification problem "
   ]
  },
  {
   "cell_type": "code",
   "execution_count": 155,
   "metadata": {},
   "outputs": [
    {
     "name": "stdout",
     "output_type": "stream",
     "text": [
      "Creating data:\n",
      "0\n",
      "10\n",
      "20\n",
      "30\n",
      "40\n",
      "50\n",
      "60\n",
      "70\n",
      "80\n",
      "90\n",
      "100\n",
      "110\n",
      "120\n",
      "130\n",
      "140\n",
      "150\n",
      "160\n",
      "170\n",
      "180\n",
      "190\n",
      "200\n",
      "210\n",
      "220\n",
      "230\n",
      "240\n",
      "250\n",
      "260\n",
      "270\n",
      "280\n",
      "290\n"
     ]
    }
   ],
   "source": [
    "[X_train5, Y_train5] = generate_dataset_classification(300, 20, True)\n",
    "Y_trainc5 = keras.utils.to_categorical(Y_train5, 3)"
   ]
  },
  {
   "cell_type": "code",
   "execution_count": 156,
   "metadata": {},
   "outputs": [
    {
     "data": {
      "text/plain": [
       "<matplotlib.image.AxesImage at 0x182ad65400>"
      ]
     },
     "execution_count": 156,
     "metadata": {},
     "output_type": "execute_result"
    },
    {
     "data": {
      "image/png": "[encoded data removed]",
      "text/plain": [
       "<matplotlib.figure.Figure at 0x182acfdc50>"
      ]
     },
     "metadata": {},
     "output_type": "display_data"
    }
   ],
   "source": [
    "plt.imshow(X_train5[280].reshape(IMAGE_SIZE, IMAGE_SIZE), cmap='gray')"
   ]
  },
  {
   "cell_type": "code",
   "execution_count": 160,
   "metadata": {},
   "outputs": [],
   "source": [
    "model51 = Sequential()\n",
    "model51.add(Dense(units=32,kernel_initializer= 'uniform',activation=\"relu\", input_shape=(X_train.shape[1],)))\n",
    "model51.add(Dropout(rate=0.2))\n",
    "model51.add(Dense(units=10,kernel_initializer= 'uniform',activation=\"relu\"))\n",
    "model51.add(Dropout(rate=0.2))\n",
    "model51.add(Dense(units=3,kernel_initializer= 'uniform',activation=\"softmax\"))\n",
    "\n"
   ]
  },
  {
   "cell_type": "code",
   "execution_count": 161,
   "metadata": {
    "collapsed": true
   },
   "outputs": [],
   "source": [
    "sgd = SGD(lr=0.01,decay=1e-6, momentum=0.9,nesterov=True)\n",
    "model51.compile(loss='categorical_crossentropy',optimizer=sgd, metrics=[\"accuracy\"])"
   ]
  },
  {
   "cell_type": "code",
   "execution_count": 162,
   "metadata": {},
   "outputs": [
    {
     "name": "stdout",
     "output_type": "stream",
     "text": [
      "Epoch 1/200\n",
      "300/300 [==============================] - 1s 2ms/step - loss: 1.0983 - acc: 0.3567\n",
      "Epoch 2/200\n",
      "300/300 [==============================] - 0s 192us/step - loss: 1.0971 - acc: 0.3633\n",
      "Epoch 3/200\n",
      "300/300 [==============================] - 0s 190us/step - loss: 1.0964 - acc: 0.3600\n",
      "Epoch 4/200\n",
      "300/300 [==============================] - 0s 216us/step - loss: 1.0963 - acc: 0.3500\n",
      "Epoch 5/200\n",
      "300/300 [==============================] - 0s 195us/step - loss: 1.0947 - acc: 0.3500\n",
      "Epoch 6/200\n",
      "300/300 [==============================] - 0s 219us/step - loss: 1.0934 - acc: 0.3367\n",
      "Epoch 7/200\n",
      "300/300 [==============================] - 0s 200us/step - loss: 1.0900 - acc: 0.3600\n",
      "Epoch 8/200\n",
      "300/300 [==============================] - 0s 194us/step - loss: 1.0878 - acc: 0.3667\n",
      "Epoch 9/200\n",
      "300/300 [==============================] - 0s 195us/step - loss: 1.0813 - acc: 0.4033\n",
      "Epoch 10/200\n",
      "300/300 [==============================] - 0s 218us/step - loss: 1.0690 - acc: 0.4267\n",
      "Epoch 11/200\n",
      "300/300 [==============================] - 0s 220us/step - loss: 1.0577 - acc: 0.4467\n",
      "Epoch 12/200\n",
      "300/300 [==============================] - 0s 230us/step - loss: 1.0291 - acc: 0.4800\n",
      "Epoch 13/200\n",
      "300/300 [==============================] - 0s 202us/step - loss: 0.9942 - acc: 0.4900\n",
      "Epoch 14/200\n",
      "300/300 [==============================] - 0s 232us/step - loss: 0.9649 - acc: 0.4933\n",
      "Epoch 15/200\n",
      "300/300 [==============================] - 0s 232us/step - loss: 0.9304 - acc: 0.5067\n",
      "Epoch 16/200\n",
      "300/300 [==============================] - 0s 236us/step - loss: 0.9235 - acc: 0.4933\n",
      "Epoch 17/200\n",
      "300/300 [==============================] - 0s 239us/step - loss: 0.9175 - acc: 0.5533\n",
      "Epoch 18/200\n",
      "300/300 [==============================] - 0s 233us/step - loss: 0.9870 - acc: 0.4600\n",
      "Epoch 19/200\n",
      "300/300 [==============================] - 0s 200us/step - loss: 0.8573 - acc: 0.5000\n",
      "Epoch 20/200\n",
      "300/300 [==============================] - 0s 202us/step - loss: 0.8777 - acc: 0.5467\n",
      "Epoch 21/200\n",
      "300/300 [==============================] - 0s 236us/step - loss: 0.8104 - acc: 0.5533\n",
      "Epoch 22/200\n",
      "300/300 [==============================] - 0s 244us/step - loss: 0.8287 - acc: 0.5633\n",
      "Epoch 23/200\n",
      "300/300 [==============================] - 0s 262us/step - loss: 0.8293 - acc: 0.5733\n",
      "Epoch 24/200\n",
      "300/300 [==============================] - 0s 209us/step - loss: 0.7837 - acc: 0.5900\n",
      "Epoch 25/200\n",
      "300/300 [==============================] - 0s 197us/step - loss: 0.9690 - acc: 0.4967\n",
      "Epoch 26/200\n",
      "300/300 [==============================] - 0s 233us/step - loss: 0.8705 - acc: 0.5567\n",
      "Epoch 27/200\n",
      "300/300 [==============================] - 0s 201us/step - loss: 0.8216 - acc: 0.5633\n",
      "Epoch 28/200\n",
      "300/300 [==============================] - 0s 198us/step - loss: 0.7725 - acc: 0.6000\n",
      "Epoch 29/200\n",
      "300/300 [==============================] - 0s 213us/step - loss: 0.8557 - acc: 0.5833\n",
      "Epoch 30/200\n",
      "300/300 [==============================] - 0s 204us/step - loss: 0.7913 - acc: 0.5967\n",
      "Epoch 31/200\n",
      "300/300 [==============================] - 0s 219us/step - loss: 0.8122 - acc: 0.5467\n",
      "Epoch 32/200\n",
      "300/300 [==============================] - 0s 225us/step - loss: 0.8662 - acc: 0.5600\n",
      "Epoch 33/200\n",
      "300/300 [==============================] - 0s 228us/step - loss: 1.0279 - acc: 0.4900\n",
      "Epoch 34/200\n",
      "300/300 [==============================] - 0s 245us/step - loss: 0.8739 - acc: 0.5700\n",
      "Epoch 35/200\n",
      "300/300 [==============================] - 0s 213us/step - loss: 0.8325 - acc: 0.5633\n",
      "Epoch 36/200\n",
      "300/300 [==============================] - ETA: 0s - loss: 1.1727 - acc: 0.336 - 0s 216us/step - loss: 1.1635 - acc: 0.3433\n",
      "Epoch 37/200\n",
      "300/300 [==============================] - 0s 225us/step - loss: 1.0770 - acc: 0.3433\n",
      "Epoch 38/200\n",
      "300/300 [==============================] - 0s 214us/step - loss: 1.0599 - acc: 0.3400\n",
      "Epoch 39/200\n",
      "300/300 [==============================] - 0s 218us/step - loss: 1.0961 - acc: 0.3333\n",
      "Epoch 40/200\n",
      "300/300 [==============================] - 0s 248us/step - loss: 1.0966 - acc: 0.3533\n",
      "Epoch 41/200\n",
      "300/300 [==============================] - 0s 198us/step - loss: 1.0980 - acc: 0.3533\n",
      "Epoch 42/200\n",
      "300/300 [==============================] - 0s 192us/step - loss: 1.0980 - acc: 0.3467\n",
      "Epoch 43/200\n",
      "300/300 [==============================] - 0s 198us/step - loss: 1.0965 - acc: 0.3633\n",
      "Epoch 44/200\n",
      "300/300 [==============================] - 0s 224us/step - loss: 1.0974 - acc: 0.3400\n",
      "Epoch 45/200\n",
      "300/300 [==============================] - 0s 186us/step - loss: 1.0978 - acc: 0.3400\n",
      "Epoch 46/200\n",
      "300/300 [==============================] - 0s 192us/step - loss: 1.0974 - acc: 0.3567\n",
      "Epoch 47/200\n",
      "300/300 [==============================] - 0s 235us/step - loss: 1.0968 - acc: 0.3633\n",
      "Epoch 48/200\n",
      "300/300 [==============================] - 0s 216us/step - loss: 1.0960 - acc: 0.3500\n",
      "Epoch 49/200\n",
      "300/300 [==============================] - 0s 210us/step - loss: 1.0971 - acc: 0.3533\n",
      "Epoch 50/200\n",
      "300/300 [==============================] - 0s 194us/step - loss: 1.0968 - acc: 0.3533\n",
      "Epoch 51/200\n",
      "300/300 [==============================] - 0s 230us/step - loss: 1.0966 - acc: 0.3467\n",
      "Epoch 52/200\n",
      "300/300 [==============================] - 0s 237us/step - loss: 1.0977 - acc: 0.3400\n",
      "Epoch 53/200\n",
      "300/300 [==============================] - 0s 227us/step - loss: 1.0973 - acc: 0.3367\n",
      "Epoch 54/200\n",
      "300/300 [==============================] - 0s 238us/step - loss: 1.0962 - acc: 0.3600\n",
      "Epoch 55/200\n",
      "300/300 [==============================] - 0s 231us/step - loss: 1.0970 - acc: 0.3367\n",
      "Epoch 56/200\n",
      "300/300 [==============================] - 0s 194us/step - loss: 1.0971 - acc: 0.3633\n",
      "Epoch 57/200\n",
      "300/300 [==============================] - 0s 204us/step - loss: 1.0971 - acc: 0.3500\n",
      "Epoch 58/200\n",
      "300/300 [==============================] - 0s 206us/step - loss: 1.0966 - acc: 0.3433\n",
      "Epoch 59/200\n",
      "300/300 [==============================] - 0s 201us/step - loss: 1.0978 - acc: 0.3567\n",
      "Epoch 60/200\n",
      "300/300 [==============================] - 0s 191us/step - loss: 1.0966 - acc: 0.3667\n",
      "Epoch 61/200\n",
      "300/300 [==============================] - 0s 194us/step - loss: 1.0954 - acc: 0.4000\n",
      "Epoch 62/200\n",
      "300/300 [==============================] - 0s 234us/step - loss: 1.0965 - acc: 0.4133\n",
      "Epoch 63/200\n",
      "300/300 [==============================] - 0s 235us/step - loss: 1.0972 - acc: 0.3267\n",
      "Epoch 64/200\n",
      "300/300 [==============================] - 0s 193us/step - loss: 1.0979 - acc: 0.3633\n",
      "Epoch 65/200\n",
      "300/300 [==============================] - 0s 186us/step - loss: 1.0969 - acc: 0.3233\n",
      "Epoch 66/200\n",
      "300/300 [==============================] - 0s 228us/step - loss: 1.0966 - acc: 0.3500\n",
      "Epoch 67/200\n",
      "300/300 [==============================] - 0s 230us/step - loss: 1.0971 - acc: 0.3267\n",
      "Epoch 68/200\n",
      "300/300 [==============================] - 0s 234us/step - loss: 1.0971 - acc: 0.3500\n",
      "Epoch 69/200\n",
      "300/300 [==============================] - 0s 230us/step - loss: 1.0973 - acc: 0.3433\n",
      "Epoch 70/200\n",
      "300/300 [==============================] - 0s 243us/step - loss: 1.0980 - acc: 0.3533\n",
      "Epoch 71/200\n",
      "300/300 [==============================] - 0s 224us/step - loss: 1.0963 - acc: 0.3567\n",
      "Epoch 72/200\n",
      "300/300 [==============================] - 0s 201us/step - loss: 1.0975 - acc: 0.3533\n",
      "Epoch 73/200\n",
      "300/300 [==============================] - 0s 191us/step - loss: 1.0963 - acc: 0.3533\n",
      "Epoch 74/200\n",
      "300/300 [==============================] - 0s 197us/step - loss: 1.0968 - acc: 0.3533\n",
      "Epoch 75/200\n",
      "300/300 [==============================] - 0s 253us/step - loss: 1.0978 - acc: 0.3533\n",
      "Epoch 76/200\n",
      "300/300 [==============================] - 0s 249us/step - loss: 1.0966 - acc: 0.3533\n",
      "Epoch 77/200\n",
      "300/300 [==============================] - 0s 250us/step - loss: 1.0977 - acc: 0.3467\n",
      "Epoch 78/200\n",
      "300/300 [==============================] - 0s 232us/step - loss: 1.0964 - acc: 0.3633\n",
      "Epoch 79/200\n",
      "300/300 [==============================] - 0s 234us/step - loss: 1.0976 - acc: 0.3600\n",
      "Epoch 80/200\n",
      "300/300 [==============================] - 0s 233us/step - loss: 1.0961 - acc: 0.3533\n",
      "Epoch 81/200\n",
      "300/300 [==============================] - 0s 208us/step - loss: 1.0977 - acc: 0.3333\n",
      "Epoch 82/200\n",
      "300/300 [==============================] - 0s 195us/step - loss: 1.0966 - acc: 0.3600\n",
      "Epoch 83/200\n"
     ]
    },
    {
     "name": "stdout",
     "output_type": "stream",
     "text": [
      "300/300 [==============================] - 0s 195us/step - loss: 1.0968 - acc: 0.3500\n",
      "Epoch 84/200\n",
      "300/300 [==============================] - 0s 202us/step - loss: 1.0969 - acc: 0.3733\n",
      "Epoch 85/200\n",
      "300/300 [==============================] - 0s 203us/step - loss: 1.0970 - acc: 0.3433\n",
      "Epoch 86/200\n",
      "300/300 [==============================] - 0s 193us/step - loss: 1.0968 - acc: 0.3533\n",
      "Epoch 87/200\n",
      "300/300 [==============================] - 0s 201us/step - loss: 1.0971 - acc: 0.3533\n",
      "Epoch 88/200\n",
      "300/300 [==============================] - 0s 193us/step - loss: 1.0970 - acc: 0.3600\n",
      "Epoch 89/200\n",
      "300/300 [==============================] - 0s 183us/step - loss: 1.0983 - acc: 0.3233\n",
      "Epoch 90/200\n",
      "300/300 [==============================] - 0s 184us/step - loss: 1.0962 - acc: 0.3567\n",
      "Epoch 91/200\n",
      "300/300 [==============================] - 0s 201us/step - loss: 1.0974 - acc: 0.3633\n",
      "Epoch 92/200\n",
      "300/300 [==============================] - 0s 232us/step - loss: 1.0962 - acc: 0.3600\n",
      "Epoch 93/200\n",
      "300/300 [==============================] - 0s 246us/step - loss: 1.0970 - acc: 0.3533\n",
      "Epoch 94/200\n",
      "300/300 [==============================] - 0s 230us/step - loss: 1.0959 - acc: 0.3533\n",
      "Epoch 95/200\n",
      "300/300 [==============================] - 0s 196us/step - loss: 1.0982 - acc: 0.3467\n",
      "Epoch 96/200\n",
      "300/300 [==============================] - 0s 221us/step - loss: 1.0977 - acc: 0.3267\n",
      "Epoch 97/200\n",
      "300/300 [==============================] - 0s 220us/step - loss: 1.0971 - acc: 0.3633\n",
      "Epoch 98/200\n",
      "300/300 [==============================] - 0s 228us/step - loss: 1.0973 - acc: 0.3200\n",
      "Epoch 99/200\n",
      "300/300 [==============================] - 0s 217us/step - loss: 1.0968 - acc: 0.3600\n",
      "Epoch 100/200\n",
      "300/300 [==============================] - 0s 212us/step - loss: 1.0985 - acc: 0.3567\n",
      "Epoch 101/200\n",
      "300/300 [==============================] - 0s 244us/step - loss: 1.0965 - acc: 0.3500\n",
      "Epoch 102/200\n",
      "300/300 [==============================] - 0s 223us/step - loss: 1.0975 - acc: 0.3300\n",
      "Epoch 103/200\n",
      "300/300 [==============================] - 0s 220us/step - loss: 1.0966 - acc: 0.3600\n",
      "Epoch 104/200\n",
      "300/300 [==============================] - 0s 200us/step - loss: 1.0966 - acc: 0.3667\n",
      "Epoch 105/200\n",
      "300/300 [==============================] - 0s 215us/step - loss: 1.0970 - acc: 0.3600\n",
      "Epoch 106/200\n",
      "300/300 [==============================] - 0s 206us/step - loss: 1.0971 - acc: 0.3467\n",
      "Epoch 107/200\n",
      "300/300 [==============================] - 0s 205us/step - loss: 1.0971 - acc: 0.3500\n",
      "Epoch 108/200\n",
      "300/300 [==============================] - 0s 191us/step - loss: 1.0975 - acc: 0.3333\n",
      "Epoch 109/200\n",
      "300/300 [==============================] - 0s 200us/step - loss: 1.0968 - acc: 0.3633\n",
      "Epoch 110/200\n",
      "300/300 [==============================] - 0s 204us/step - loss: 1.0969 - acc: 0.3567\n",
      "Epoch 111/200\n",
      "300/300 [==============================] - 0s 181us/step - loss: 1.0973 - acc: 0.3467\n",
      "Epoch 112/200\n",
      "300/300 [==============================] - 0s 174us/step - loss: 1.0969 - acc: 0.3600\n",
      "Epoch 113/200\n",
      "300/300 [==============================] - 0s 197us/step - loss: 1.0970 - acc: 0.3567\n",
      "Epoch 114/200\n",
      "300/300 [==============================] - 0s 193us/step - loss: 1.0966 - acc: 0.3733\n",
      "Epoch 115/200\n",
      "300/300 [==============================] - 0s 197us/step - loss: 1.0964 - acc: 0.3667\n",
      "Epoch 116/200\n",
      "300/300 [==============================] - 0s 193us/step - loss: 1.0968 - acc: 0.3433\n",
      "Epoch 117/200\n",
      "300/300 [==============================] - 0s 177us/step - loss: 1.0967 - acc: 0.3533\n",
      "Epoch 118/200\n",
      "300/300 [==============================] - 0s 192us/step - loss: 1.0974 - acc: 0.3533\n",
      "Epoch 119/200\n",
      "300/300 [==============================] - 0s 186us/step - loss: 1.0974 - acc: 0.3533\n",
      "Epoch 120/200\n",
      "300/300 [==============================] - 0s 195us/step - loss: 1.0973 - acc: 0.3533\n",
      "Epoch 121/200\n",
      "300/300 [==============================] - 0s 185us/step - loss: 1.0973 - acc: 0.3533\n",
      "Epoch 122/200\n",
      "300/300 [==============================] - 0s 224us/step - loss: 1.0962 - acc: 0.3533\n",
      "Epoch 123/200\n",
      "300/300 [==============================] - ETA: 0s - loss: 1.0997 - acc: 0.335 - 0s 241us/step - loss: 1.0968 - acc: 0.3533\n",
      "Epoch 124/200\n",
      "300/300 [==============================] - 0s 205us/step - loss: 1.0966 - acc: 0.3533\n",
      "Epoch 125/200\n",
      "300/300 [==============================] - 0s 198us/step - loss: 1.0969 - acc: 0.3533\n",
      "Epoch 126/200\n",
      "300/300 [==============================] - 0s 197us/step - loss: 1.0966 - acc: 0.3533\n",
      "Epoch 127/200\n",
      "300/300 [==============================] - 0s 216us/step - loss: 1.0965 - acc: 0.3633\n",
      "Epoch 128/200\n",
      "300/300 [==============================] - 0s 197us/step - loss: 1.0968 - acc: 0.3500\n",
      "Epoch 129/200\n",
      "300/300 [==============================] - 0s 230us/step - loss: 1.0973 - acc: 0.3533\n",
      "Epoch 130/200\n",
      "300/300 [==============================] - 0s 198us/step - loss: 1.0974 - acc: 0.3533\n",
      "Epoch 131/200\n",
      "300/300 [==============================] - 0s 210us/step - loss: 1.0970 - acc: 0.3567\n",
      "Epoch 132/200\n",
      "300/300 [==============================] - 0s 195us/step - loss: 1.0975 - acc: 0.3433\n",
      "Epoch 133/200\n",
      "300/300 [==============================] - 0s 201us/step - loss: 1.0967 - acc: 0.3500\n",
      "Epoch 134/200\n",
      "300/300 [==============================] - 0s 215us/step - loss: 1.0969 - acc: 0.3333\n",
      "Epoch 135/200\n",
      "300/300 [==============================] - 0s 228us/step - loss: 1.0974 - acc: 0.3533\n",
      "Epoch 136/200\n",
      "300/300 [==============================] - 0s 232us/step - loss: 1.0968 - acc: 0.3433\n",
      "Epoch 137/200\n",
      "300/300 [==============================] - 0s 205us/step - loss: 1.0973 - acc: 0.3567\n",
      "Epoch 138/200\n",
      "300/300 [==============================] - 0s 216us/step - loss: 1.0963 - acc: 0.3533\n",
      "Epoch 139/200\n",
      "300/300 [==============================] - 0s 228us/step - loss: 1.0974 - acc: 0.3500\n",
      "Epoch 140/200\n",
      "300/300 [==============================] - 0s 235us/step - loss: 1.0965 - acc: 0.3633\n",
      "Epoch 141/200\n",
      "300/300 [==============================] - 0s 232us/step - loss: 1.0967 - acc: 0.3633\n",
      "Epoch 142/200\n",
      "300/300 [==============================] - 0s 240us/step - loss: 1.0971 - acc: 0.3433\n",
      "Epoch 143/200\n",
      "300/300 [==============================] - 0s 210us/step - loss: 1.0965 - acc: 0.3433\n",
      "Epoch 144/200\n",
      "300/300 [==============================] - 0s 217us/step - loss: 1.0972 - acc: 0.3400\n",
      "Epoch 145/200\n",
      "300/300 [==============================] - 0s 189us/step - loss: 1.0962 - acc: 0.3433\n",
      "Epoch 146/200\n",
      "300/300 [==============================] - 0s 188us/step - loss: 1.0968 - acc: 0.3567\n",
      "Epoch 147/200\n",
      "300/300 [==============================] - 0s 189us/step - loss: 1.0974 - acc: 0.3500\n",
      "Epoch 148/200\n",
      "300/300 [==============================] - 0s 192us/step - loss: 1.0968 - acc: 0.3533\n",
      "Epoch 149/200\n",
      "300/300 [==============================] - 0s 189us/step - loss: 1.0961 - acc: 0.3533\n",
      "Epoch 150/200\n",
      "300/300 [==============================] - 0s 201us/step - loss: 1.0973 - acc: 0.3533\n",
      "Epoch 151/200\n",
      "300/300 [==============================] - 0s 185us/step - loss: 1.0971 - acc: 0.3400\n",
      "Epoch 152/200\n",
      "300/300 [==============================] - 0s 178us/step - loss: 1.0970 - acc: 0.3533\n",
      "Epoch 153/200\n",
      "300/300 [==============================] - 0s 184us/step - loss: 1.0964 - acc: 0.3533\n",
      "Epoch 154/200\n",
      "300/300 [==============================] - 0s 204us/step - loss: 1.0978 - acc: 0.3367\n",
      "Epoch 155/200\n",
      "300/300 [==============================] - 0s 189us/step - loss: 1.0966 - acc: 0.3533\n",
      "Epoch 156/200\n",
      "300/300 [==============================] - 0s 183us/step - loss: 1.0972 - acc: 0.3533\n",
      "Epoch 157/200\n",
      "300/300 [==============================] - 0s 183us/step - loss: 1.0968 - acc: 0.3567\n",
      "Epoch 158/200\n",
      "300/300 [==============================] - 0s 185us/step - loss: 1.0966 - acc: 0.3533\n",
      "Epoch 159/200\n",
      "300/300 [==============================] - 0s 176us/step - loss: 1.0972 - acc: 0.3533\n",
      "Epoch 160/200\n",
      "300/300 [==============================] - 0s 190us/step - loss: 1.0966 - acc: 0.3533\n",
      "Epoch 161/200\n",
      "300/300 [==============================] - 0s 180us/step - loss: 1.0970 - acc: 0.3533\n",
      "Epoch 162/200\n",
      "300/300 [==============================] - 0s 188us/step - loss: 1.0971 - acc: 0.3533\n",
      "Epoch 163/200\n",
      "300/300 [==============================] - 0s 184us/step - loss: 1.0974 - acc: 0.3533\n",
      "Epoch 164/200\n"
     ]
    },
    {
     "name": "stdout",
     "output_type": "stream",
     "text": [
      "300/300 [==============================] - 0s 189us/step - loss: 1.0976 - acc: 0.3533\n",
      "Epoch 165/200\n",
      "300/300 [==============================] - 0s 184us/step - loss: 1.0966 - acc: 0.3533\n",
      "Epoch 166/200\n",
      "300/300 [==============================] - 0s 202us/step - loss: 1.0968 - acc: 0.3533\n",
      "Epoch 167/200\n",
      "300/300 [==============================] - 0s 190us/step - loss: 1.0972 - acc: 0.3533\n",
      "Epoch 168/200\n",
      "300/300 [==============================] - 0s 190us/step - loss: 1.0967 - acc: 0.3533\n",
      "Epoch 169/200\n",
      "300/300 [==============================] - 0s 182us/step - loss: 1.0975 - acc: 0.3433\n",
      "Epoch 170/200\n",
      "300/300 [==============================] - 0s 190us/step - loss: 1.0969 - acc: 0.3433\n",
      "Epoch 171/200\n",
      "300/300 [==============================] - 0s 189us/step - loss: 1.0974 - acc: 0.3433\n",
      "Epoch 172/200\n",
      "300/300 [==============================] - 0s 197us/step - loss: 1.0968 - acc: 0.3533\n",
      "Epoch 173/200\n",
      "300/300 [==============================] - 0s 183us/step - loss: 1.0973 - acc: 0.3533\n",
      "Epoch 174/200\n",
      "300/300 [==============================] - 0s 198us/step - loss: 1.0965 - acc: 0.3400\n",
      "Epoch 175/200\n",
      "300/300 [==============================] - 0s 208us/step - loss: 1.0972 - acc: 0.3300\n",
      "Epoch 176/200\n",
      "300/300 [==============================] - 0s 189us/step - loss: 1.0973 - acc: 0.3433\n",
      "Epoch 177/200\n",
      "300/300 [==============================] - 0s 233us/step - loss: 1.0972 - acc: 0.3433\n",
      "Epoch 178/200\n",
      "300/300 [==============================] - 0s 198us/step - loss: 1.0975 - acc: 0.3433\n",
      "Epoch 179/200\n",
      "300/300 [==============================] - 0s 194us/step - loss: 1.0972 - acc: 0.3433\n",
      "Epoch 180/200\n",
      "300/300 [==============================] - 0s 195us/step - loss: 1.0972 - acc: 0.3433\n",
      "Epoch 181/200\n",
      "300/300 [==============================] - 0s 193us/step - loss: 1.0968 - acc: 0.3600\n",
      "Epoch 182/200\n",
      "300/300 [==============================] - 0s 197us/step - loss: 1.0964 - acc: 0.3567\n",
      "Epoch 183/200\n",
      "300/300 [==============================] - 0s 189us/step - loss: 1.0976 - acc: 0.3533\n",
      "Epoch 184/200\n",
      "300/300 [==============================] - 0s 192us/step - loss: 1.0967 - acc: 0.3533\n",
      "Epoch 185/200\n",
      "300/300 [==============================] - 0s 180us/step - loss: 1.0974 - acc: 0.3400\n",
      "Epoch 186/200\n",
      "300/300 [==============================] - 0s 188us/step - loss: 1.0974 - acc: 0.3533\n",
      "Epoch 187/200\n",
      "300/300 [==============================] - 0s 183us/step - loss: 1.0969 - acc: 0.3233\n",
      "Epoch 188/200\n",
      "300/300 [==============================] - 0s 230us/step - loss: 1.0967 - acc: 0.3567\n",
      "Epoch 189/200\n",
      "300/300 [==============================] - 0s 184us/step - loss: 1.0970 - acc: 0.3367\n",
      "Epoch 190/200\n",
      "300/300 [==============================] - 0s 203us/step - loss: 1.0965 - acc: 0.3533\n",
      "Epoch 191/200\n",
      "300/300 [==============================] - 0s 216us/step - loss: 1.0966 - acc: 0.3700\n",
      "Epoch 192/200\n",
      "300/300 [==============================] - 0s 192us/step - loss: 1.0966 - acc: 0.3533\n",
      "Epoch 193/200\n",
      "300/300 [==============================] - 0s 183us/step - loss: 1.0976 - acc: 0.3200\n",
      "Epoch 194/200\n",
      "300/300 [==============================] - 0s 182us/step - loss: 1.0964 - acc: 0.3567\n",
      "Epoch 195/200\n",
      "300/300 [==============================] - 0s 188us/step - loss: 1.0967 - acc: 0.3567\n",
      "Epoch 196/200\n",
      "300/300 [==============================] - 0s 188us/step - loss: 1.0969 - acc: 0.3267\n",
      "Epoch 197/200\n",
      "300/300 [==============================] - 0s 192us/step - loss: 1.0966 - acc: 0.3533\n",
      "Epoch 198/200\n",
      "300/300 [==============================] - 0s 188us/step - loss: 1.0970 - acc: 0.3633\n",
      "Epoch 199/200\n",
      "300/300 [==============================] - 0s 200us/step - loss: 1.0968 - acc: 0.3633\n",
      "Epoch 200/200\n",
      "300/300 [==============================] - 0s 189us/step - loss: 1.0969 - acc: 0.3500\n"
     ]
    },
    {
     "data": {
      "text/plain": [
       "<keras.callbacks.History at 0x182b0e6d30>"
      ]
     },
     "execution_count": 162,
     "metadata": {},
     "output_type": "execute_result"
    }
   ],
   "source": [
    "model51.fit(X_train5, Y_trainc5, epochs=200, batch_size=32)"
   ]
  },
  {
   "cell_type": "code",
   "execution_count": 166,
   "metadata": {},
   "outputs": [
    {
     "name": "stdout",
     "output_type": "stream",
     "text": [
      "Creating data:\n",
      "0\n",
      "10\n",
      "20\n",
      "30\n",
      "40\n",
      "50\n",
      "60\n",
      "70\n",
      "80\n",
      "90\n",
      "100\n",
      "110\n",
      "120\n",
      "130\n",
      "140\n",
      "150\n",
      "160\n",
      "170\n",
      "180\n",
      "190\n",
      "200\n",
      "210\n",
      "220\n",
      "230\n",
      "240\n",
      "250\n",
      "260\n",
      "270\n",
      "280\n",
      "290\n"
     ]
    }
   ],
   "source": [
    "[X_test5, Y_test5] = generate_test_set_classification()"
   ]
  },
  {
   "cell_type": "markdown",
   "metadata": {},
   "source": [
    "Evaluating the model:"
   ]
  },
  {
   "cell_type": "code",
   "execution_count": 167,
   "metadata": {},
   "outputs": [
    {
     "name": "stdout",
     "output_type": "stream",
     "text": [
      "300/300 [==============================] - 0s 872us/step\n"
     ]
    },
    {
     "data": {
      "text/plain": [
       "[1.0997201204299927, 0.34000000009934106]"
      ]
     },
     "execution_count": 167,
     "metadata": {},
     "output_type": "execute_result"
    }
   ],
   "source": [
    " model51.evaluate(X_test5, Y_test5)"
   ]
  },
  {
   "cell_type": "markdown",
   "metadata": {},
   "source": [
    "Reshape X_train:"
   ]
  },
  {
   "cell_type": "code",
   "execution_count": 168,
   "metadata": {
    "collapsed": true
   },
   "outputs": [],
   "source": [
    "X_train5 = X_train5.reshape(X_train5.shape[0],72,72,1)"
   ]
  },
  {
   "cell_type": "code",
   "execution_count": 173,
   "metadata": {
    "collapsed": true
   },
   "outputs": [],
   "source": [
    "from keras.layers import MaxPooling2D\n",
    "from keras.layers import Conv2D\n",
    "from keras.layers import Flatten"
   ]
  },
  {
   "cell_type": "markdown",
   "metadata": {},
   "source": [
    "Build the convolutional model:"
   ]
  },
  {
   "cell_type": "code",
   "execution_count": 174,
   "metadata": {},
   "outputs": [],
   "source": [
    "model6 = Sequential()\n",
    "model6.add(Conv2D(16, kernel_size=(5, 5), activation='relu', input_shape=(72,72,1)))\n",
    "model6.add(MaxPooling2D(pool_size=(2, 2)))\n",
    "model6.add(Flatten())\n",
    "model6.add(Dense(70, activation='relu'))\n",
    "model6.add(Dense(3, activation='sigmoid'))"
   ]
  },
  {
   "cell_type": "code",
   "execution_count": 175,
   "metadata": {
    "collapsed": true
   },
   "outputs": [],
   "source": [
    "model6.compile(loss='categorical_crossentropy',optimizer=sgd, metrics=[\"accuracy\"])"
   ]
  },
  {
   "cell_type": "code",
   "execution_count": 176,
   "metadata": {},
   "outputs": [
    {
     "name": "stdout",
     "output_type": "stream",
     "text": [
      "Epoch 1/9\n",
      "300/300 [==============================] - 2s 6ms/step - loss: 1.0968 - acc: 0.3833\n",
      "Epoch 2/9\n",
      "300/300 [==============================] - 1s 4ms/step - loss: 1.0431 - acc: 0.5167\n",
      "Epoch 3/9\n",
      "300/300 [==============================] - 1s 5ms/step - loss: 0.9509 - acc: 0.5667\n",
      "Epoch 4/9\n",
      "300/300 [==============================] - 1s 5ms/step - loss: 0.8141 - acc: 0.6367\n",
      "Epoch 5/9\n",
      "300/300 [==============================] - 1s 5ms/step - loss: 0.7922 - acc: 0.6500\n",
      "Epoch 6/9\n",
      "300/300 [==============================] - 1s 5ms/step - loss: 0.6650 - acc: 0.7267\n",
      "Epoch 7/9\n",
      "300/300 [==============================] - 1s 5ms/step - loss: 0.5596 - acc: 0.7800\n",
      "Epoch 8/9\n",
      "300/300 [==============================] - 1s 5ms/step - loss: 0.3789 - acc: 0.8700\n",
      "Epoch 9/9\n",
      "300/300 [==============================] - 1s 4ms/step - loss: 0.2707 - acc: 0.9200\n"
     ]
    },
    {
     "data": {
      "text/plain": [
       "<keras.callbacks.History at 0x18294711d0>"
      ]
     },
     "execution_count": 176,
     "metadata": {},
     "output_type": "execute_result"
    }
   ],
   "source": [
    "model6.fit(X_train5, Y_trainc5, batch_size=12, epochs=9)"
   ]
  },
  {
   "cell_type": "code",
   "execution_count": 177,
   "metadata": {},
   "outputs": [
    {
     "name": "stdout",
     "output_type": "stream",
     "text": [
      "Creating data:\n",
      "0\n",
      "10\n",
      "20\n",
      "30\n",
      "40\n",
      "50\n",
      "60\n",
      "70\n",
      "80\n",
      "90\n",
      "100\n",
      "110\n",
      "120\n",
      "130\n",
      "140\n",
      "150\n",
      "160\n",
      "170\n",
      "180\n",
      "190\n",
      "200\n",
      "210\n",
      "220\n",
      "230\n",
      "240\n",
      "250\n",
      "260\n",
      "270\n",
      "280\n",
      "290\n"
     ]
    }
   ],
   "source": [
    "[X_test5, Y_test5] = generate_test_set_classification()"
   ]
  },
  {
   "cell_type": "markdown",
   "metadata": {},
   "source": [
    "Evaluate the model:"
   ]
  },
  {
   "cell_type": "code",
   "execution_count": 178,
   "metadata": {},
   "outputs": [
    {
     "name": "stdout",
     "output_type": "stream",
     "text": [
      "300/300 [==============================] - 1s 3ms/step\n"
     ]
    },
    {
     "data": {
      "text/plain": [
       "[0.2124850700298945, 0.9566666666666667]"
      ]
     },
     "execution_count": 178,
     "metadata": {},
     "output_type": "execute_result"
    }
   ],
   "source": [
    "model6.evaluate(X_train5, Y_trainc5)"
   ]
  },
  {
   "cell_type": "markdown",
   "metadata": {},
   "source": [
    "See the name of the metrics:"
   ]
  },
  {
   "cell_type": "code",
   "execution_count": 180,
   "metadata": {},
   "outputs": [
    {
     "data": {
      "text/plain": [
       "['loss', 'acc']"
      ]
     },
     "execution_count": 180,
     "metadata": {},
     "output_type": "execute_result"
    }
   ],
   "source": [
    "model6.metrics_names"
   ]
  },
  {
   "cell_type": "markdown",
   "metadata": {},
   "source": [
    "# Regression problem"
   ]
  },
  {
   "cell_type": "markdown",
   "metadata": {},
   "source": [
    "####  Predict the image locations of the vertices of a triangle"
   ]
  },
  {
   "cell_type": "markdown",
   "metadata": {},
   "source": [
    "Generate a training set: "
   ]
  },
  {
   "cell_type": "code",
   "execution_count": 181,
   "metadata": {},
   "outputs": [
    {
     "name": "stdout",
     "output_type": "stream",
     "text": [
      "Creating data:\n",
      "0\n",
      "10\n",
      "20\n",
      "30\n",
      "40\n",
      "50\n",
      "60\n",
      "70\n",
      "80\n",
      "90\n",
      "100\n",
      "110\n",
      "120\n",
      "130\n",
      "140\n",
      "150\n",
      "160\n",
      "170\n",
      "180\n",
      "190\n",
      "200\n",
      "210\n",
      "220\n",
      "230\n",
      "240\n",
      "250\n",
      "260\n",
      "270\n",
      "280\n",
      "290\n"
     ]
    }
   ],
   "source": [
    "[X_train, Y_train] = generate_dataset_regression(300, 20)"
   ]
  },
  {
   "cell_type": "markdown",
   "metadata": {},
   "source": [
    "Visualize a training sample:"
   ]
  },
  {
   "cell_type": "code",
   "execution_count": 182,
   "metadata": {},
   "outputs": [
    {
     "data": {
      "image/png": "[encoded data removed]",
      "text/plain": [
       "<matplotlib.figure.Figure at 0x18284fc4a8>"
      ]
     },
     "metadata": {},
     "output_type": "display_data"
    }
   ],
   "source": [
    "visualize_prediction(X_train[0], Y_train[0])"
   ]
  },
  {
   "cell_type": "markdown",
   "metadata": {},
   "source": [
    "Generate the dataset regression: "
   ]
  },
  {
   "cell_type": "code",
   "execution_count": 227,
   "metadata": {
    "collapsed": true
   },
   "outputs": [],
   "source": [
    "def generate_dataset_regression(nb_samples, noise=0.0):\n",
    "    # Getting im_size:\n",
    "    im_size = generate_a_triangle()[0].shape[0]\n",
    "    X = np.zeros([nb_samples,im_size])\n",
    "    Y = np.zeros([nb_samples, 6])\n",
    "    print('Creating data:')\n",
    "    for i in range(nb_samples):\n",
    "        if i % 10 == 0:\n",
    "            print(i)\n",
    "        [X[i], Y[i]] = generate_a_triangle(noise, True)\n",
    "    X = (X + noise) / (255 + 2 * noise)\n",
    "    return [X, Y]"
   ]
  },
  {
   "cell_type": "markdown",
   "metadata": {},
   "source": [
    "Create the definition visualize prediction: "
   ]
  },
  {
   "cell_type": "code",
   "execution_count": 184,
   "metadata": {
    "collapsed": true
   },
   "outputs": [],
   "source": [
    "def visualize_prediction(x, y):\n",
    "    fig, ax = plt.subplots(figsize=(5, 5))\n",
    "    I = x.reshape((IMAGE_SIZE,IMAGE_SIZE))\n",
    "    ax.imshow(I, extent=[-0.15,1.15,-0.15,1.15],cmap='gray')\n",
    "    ax.set_xlim([0,1])\n",
    "    ax.set_ylim([0,1])\n",
    "\n",
    "    xy = y.reshape(3,2)\n",
    "    print(xy)\n",
    "    tri = patches.Polygon(xy, closed=True, fill = False, edgecolor = 'r', linewidth = 5, alpha = 0.5)\n",
    "    ax.add_patch(tri)\n",
    "\n",
    "    plt.show()"
   ]
  },
  {
   "cell_type": "code",
   "execution_count": 185,
   "metadata": {},
   "outputs": [
    {
     "name": "stdout",
     "output_type": "stream",
     "text": [
      "[[0.71986584 0.92000602]\n",
      " [0.31926686 0.97619732]\n",
      " [0.56522072 0.02423682]]\n"
     ]
    },
    {
     "data": {
      "image/png": "[encoded data removed]",
      "text/plain": [
       "<matplotlib.figure.Figure at 0x1828539dd8>"
      ]
     },
     "metadata": {},
     "output_type": "display_data"
    },
    {
     "name": "stdout",
     "output_type": "stream",
     "text": [
      "[0.71986584 0.92000602 0.31926686 0.97619732 0.56522072 0.02423682]\n"
     ]
    }
   ],
   "source": [
    "visualize_prediction(X_train[0], Y_train[0])\n",
    "print(Y_train[0])"
   ]
  },
  {
   "cell_type": "markdown",
   "metadata": {},
   "source": [
    "Generate the dataset regression:"
   ]
  },
  {
   "cell_type": "code",
   "execution_count": 187,
   "metadata": {},
   "outputs": [
    {
     "name": "stdout",
     "output_type": "stream",
     "text": [
      "Creating data:\n",
      "0\n",
      "10\n",
      "20\n",
      "30\n",
      "40\n",
      "50\n",
      "60\n",
      "70\n",
      "80\n",
      "90\n",
      "100\n",
      "110\n",
      "120\n",
      "130\n",
      "140\n",
      "150\n",
      "160\n",
      "170\n",
      "180\n",
      "190\n",
      "200\n",
      "210\n",
      "220\n",
      "230\n",
      "240\n",
      "250\n",
      "260\n",
      "270\n",
      "280\n",
      "290\n"
     ]
    }
   ],
   "source": [
    "[X_re, Y_re] = generate_dataset_regression(300, 20)"
   ]
  },
  {
   "cell_type": "markdown",
   "metadata": {},
   "source": [
    "Modelize the regressor: "
   ]
  },
  {
   "cell_type": "code",
   "execution_count": 189,
   "metadata": {
    "collapsed": true
   },
   "outputs": [],
   "source": [
    "regressor = Sequential()"
   ]
  },
  {
   "cell_type": "code",
   "execution_count": 190,
   "metadata": {},
   "outputs": [
    {
     "name": "stdout",
     "output_type": "stream",
     "text": [
      "Train on 300 samples, validate on 300 samples\n",
      "Epoch 1/300\n",
      "300/300 [==============================] - 1s 3ms/step - loss: 0.1827 - mean_squared_error: 0.1827 - val_loss: 0.0891 - val_mean_squared_error: 0.0891\n",
      "Epoch 2/300\n",
      "300/300 [==============================] - 0s 739us/step - loss: 0.1211 - mean_squared_error: 0.1211 - val_loss: 0.1006 - val_mean_squared_error: 0.1006\n",
      "Epoch 3/300\n",
      "300/300 [==============================] - 0s 713us/step - loss: 0.1049 - mean_squared_error: 0.1049 - val_loss: 0.0851 - val_mean_squared_error: 0.0851\n",
      "Epoch 4/300\n",
      "300/300 [==============================] - 0s 730us/step - loss: 0.0970 - mean_squared_error: 0.0970 - val_loss: 0.0845 - val_mean_squared_error: 0.0845\n",
      "Epoch 5/300\n",
      "300/300 [==============================] - 0s 797us/step - loss: 0.0978 - mean_squared_error: 0.0978 - val_loss: 0.0932 - val_mean_squared_error: 0.0932\n",
      "Epoch 6/300\n",
      "300/300 [==============================] - 0s 768us/step - loss: 0.0915 - mean_squared_error: 0.0915 - val_loss: 0.0859 - val_mean_squared_error: 0.0859\n",
      "Epoch 7/300\n",
      "300/300 [==============================] - 0s 777us/step - loss: 0.0904 - mean_squared_error: 0.0904 - val_loss: 0.0792 - val_mean_squared_error: 0.0792\n",
      "Epoch 8/300\n",
      "300/300 [==============================] - 0s 790us/step - loss: 0.0897 - mean_squared_error: 0.0897 - val_loss: 0.0885 - val_mean_squared_error: 0.0885\n",
      "Epoch 9/300\n",
      "300/300 [==============================] - 0s 797us/step - loss: 0.0843 - mean_squared_error: 0.0843 - val_loss: 0.0875 - val_mean_squared_error: 0.0875\n",
      "Epoch 10/300\n",
      "300/300 [==============================] - 0s 789us/step - loss: 0.0871 - mean_squared_error: 0.0871 - val_loss: 0.0889 - val_mean_squared_error: 0.0889\n",
      "Epoch 11/300\n",
      "300/300 [==============================] - 0s 867us/step - loss: 0.0840 - mean_squared_error: 0.0840 - val_loss: 0.0836 - val_mean_squared_error: 0.0836\n",
      "Epoch 12/300\n",
      "300/300 [==============================] - 0s 756us/step - loss: 0.0874 - mean_squared_error: 0.0874 - val_loss: 0.0838 - val_mean_squared_error: 0.0838\n",
      "Epoch 13/300\n",
      "300/300 [==============================] - 0s 739us/step - loss: 0.0828 - mean_squared_error: 0.0828 - val_loss: 0.0854 - val_mean_squared_error: 0.0854\n",
      "Epoch 14/300\n",
      "300/300 [==============================] - 0s 759us/step - loss: 0.0827 - mean_squared_error: 0.0827 - val_loss: 0.0881 - val_mean_squared_error: 0.0881\n",
      "Epoch 15/300\n",
      "300/300 [==============================] - 0s 768us/step - loss: 0.0835 - mean_squared_error: 0.0835 - val_loss: 0.0840 - val_mean_squared_error: 0.0840\n",
      "Epoch 16/300\n",
      "300/300 [==============================] - 0s 857us/step - loss: 0.0814 - mean_squared_error: 0.0814 - val_loss: 0.0935 - val_mean_squared_error: 0.0935\n",
      "Epoch 17/300\n",
      "300/300 [==============================] - 0s 756us/step - loss: 0.0811 - mean_squared_error: 0.0811 - val_loss: 0.0851 - val_mean_squared_error: 0.0851\n",
      "Epoch 18/300\n",
      "300/300 [==============================] - 0s 759us/step - loss: 0.0797 - mean_squared_error: 0.0797 - val_loss: 0.0756 - val_mean_squared_error: 0.0756\n",
      "Epoch 19/300\n",
      "300/300 [==============================] - 0s 786us/step - loss: 0.0814 - mean_squared_error: 0.0814 - val_loss: 0.0868 - val_mean_squared_error: 0.0868\n",
      "Epoch 20/300\n",
      "300/300 [==============================] - 0s 736us/step - loss: 0.0796 - mean_squared_error: 0.0796 - val_loss: 0.0774 - val_mean_squared_error: 0.0774\n",
      "Epoch 21/300\n",
      "300/300 [==============================] - 0s 850us/step - loss: 0.0805 - mean_squared_error: 0.0805 - val_loss: 0.0867 - val_mean_squared_error: 0.0867\n",
      "Epoch 22/300\n",
      "300/300 [==============================] - 0s 1ms/step - loss: 0.0783 - mean_squared_error: 0.0783 - val_loss: 0.0976 - val_mean_squared_error: 0.0976\n",
      "Epoch 23/300\n",
      "300/300 [==============================] - 0s 765us/step - loss: 0.0839 - mean_squared_error: 0.0839 - val_loss: 0.0946 - val_mean_squared_error: 0.0946\n",
      "Epoch 24/300\n",
      "300/300 [==============================] - 0s 764us/step - loss: 0.0822 - mean_squared_error: 0.0822 - val_loss: 0.0921 - val_mean_squared_error: 0.0921\n",
      "Epoch 25/300\n",
      "300/300 [==============================] - 0s 760us/step - loss: 0.0817 - mean_squared_error: 0.0817 - val_loss: 0.0866 - val_mean_squared_error: 0.0866\n",
      "Epoch 26/300\n",
      "300/300 [==============================] - 0s 717us/step - loss: 0.0822 - mean_squared_error: 0.0822 - val_loss: 0.0998 - val_mean_squared_error: 0.0998\n",
      "Epoch 27/300\n",
      "300/300 [==============================] - 0s 759us/step - loss: 0.0814 - mean_squared_error: 0.0814 - val_loss: 0.1030 - val_mean_squared_error: 0.1030\n",
      "Epoch 28/300\n",
      "300/300 [==============================] - 0s 734us/step - loss: 0.0795 - mean_squared_error: 0.0795 - val_loss: 0.0864 - val_mean_squared_error: 0.0864\n",
      "Epoch 29/300\n",
      "300/300 [==============================] - 0s 756us/step - loss: 0.0794 - mean_squared_error: 0.0794 - val_loss: 0.0839 - val_mean_squared_error: 0.0839\n",
      "Epoch 30/300\n",
      "300/300 [==============================] - 0s 744us/step - loss: 0.0813 - mean_squared_error: 0.0813 - val_loss: 0.0879 - val_mean_squared_error: 0.0879\n",
      "Epoch 31/300\n",
      "300/300 [==============================] - 0s 816us/step - loss: 0.0793 - mean_squared_error: 0.0793 - val_loss: 0.0961 - val_mean_squared_error: 0.0961\n",
      "Epoch 32/300\n",
      "300/300 [==============================] - 0s 769us/step - loss: 0.0780 - mean_squared_error: 0.0780 - val_loss: 0.0855 - val_mean_squared_error: 0.0855\n",
      "Epoch 33/300\n",
      "300/300 [==============================] - 0s 738us/step - loss: 0.0797 - mean_squared_error: 0.0797 - val_loss: 0.0834 - val_mean_squared_error: 0.0834\n",
      "Epoch 34/300\n",
      "300/300 [==============================] - 0s 756us/step - loss: 0.0786 - mean_squared_error: 0.0786 - val_loss: 0.0838 - val_mean_squared_error: 0.0838\n",
      "Epoch 35/300\n",
      "300/300 [==============================] - 0s 816us/step - loss: 0.0781 - mean_squared_error: 0.0781 - val_loss: 0.0910 - val_mean_squared_error: 0.0910\n",
      "Epoch 36/300\n",
      "300/300 [==============================] - 0s 827us/step - loss: 0.0750 - mean_squared_error: 0.0750 - val_loss: 0.0885 - val_mean_squared_error: 0.0885\n",
      "Epoch 37/300\n",
      "300/300 [==============================] - 0s 861us/step - loss: 0.0763 - mean_squared_error: 0.0763 - val_loss: 0.0879 - val_mean_squared_error: 0.0879\n",
      "Epoch 38/300\n",
      "300/300 [==============================] - 0s 851us/step - loss: 0.0764 - mean_squared_error: 0.0764 - val_loss: 0.0891 - val_mean_squared_error: 0.0891\n",
      "Epoch 39/300\n",
      "300/300 [==============================] - 0s 772us/step - loss: 0.0761 - mean_squared_error: 0.0761 - val_loss: 0.0823 - val_mean_squared_error: 0.0823\n",
      "Epoch 40/300\n",
      "300/300 [==============================] - 0s 840us/step - loss: 0.0753 - mean_squared_error: 0.0753 - val_loss: 0.0886 - val_mean_squared_error: 0.0886\n",
      "Epoch 41/300\n",
      "300/300 [==============================] - 0s 849us/step - loss: 0.0778 - mean_squared_error: 0.0778 - val_loss: 0.0902 - val_mean_squared_error: 0.0902\n",
      "Epoch 42/300\n",
      "300/300 [==============================] - 0s 787us/step - loss: 0.0769 - mean_squared_error: 0.0769 - val_loss: 0.0795 - val_mean_squared_error: 0.0795\n",
      "Epoch 43/300\n",
      "300/300 [==============================] - 0s 1ms/step - loss: 0.0757 - mean_squared_error: 0.0757 - val_loss: 0.0874 - val_mean_squared_error: 0.0874\n",
      "Epoch 44/300\n",
      "300/300 [==============================] - 0s 843us/step - loss: 0.0777 - mean_squared_error: 0.0777 - val_loss: 0.0878 - val_mean_squared_error: 0.0878\n",
      "Epoch 45/300\n",
      "300/300 [==============================] - 0s 742us/step - loss: 0.0765 - mean_squared_error: 0.0765 - val_loss: 0.0848 - val_mean_squared_error: 0.0848\n",
      "Epoch 46/300\n",
      "300/300 [==============================] - 0s 698us/step - loss: 0.0798 - mean_squared_error: 0.0798 - val_loss: 0.0889 - val_mean_squared_error: 0.0889\n",
      "Epoch 47/300\n",
      "300/300 [==============================] - 0s 846us/step - loss: 0.0788 - mean_squared_error: 0.0788 - val_loss: 0.0828 - val_mean_squared_error: 0.0828\n",
      "Epoch 48/300\n",
      "300/300 [==============================] - 0s 794us/step - loss: 0.0767 - mean_squared_error: 0.0767 - val_loss: 0.0852 - val_mean_squared_error: 0.0852\n",
      "Epoch 49/300\n",
      "300/300 [==============================] - 0s 802us/step - loss: 0.0795 - mean_squared_error: 0.0795 - val_loss: 0.0875 - val_mean_squared_error: 0.0875\n",
      "Epoch 50/300\n"
     ]
    },
    {
     "name": "stdout",
     "output_type": "stream",
     "text": [
      "300/300 [==============================] - 0s 831us/step - loss: 0.0785 - mean_squared_error: 0.0785 - val_loss: 0.0880 - val_mean_squared_error: 0.0880\n",
      "Epoch 51/300\n",
      "300/300 [==============================] - 0s 886us/step - loss: 0.0770 - mean_squared_error: 0.0770 - val_loss: 0.0832 - val_mean_squared_error: 0.0832\n",
      "Epoch 52/300\n",
      "300/300 [==============================] - 0s 967us/step - loss: 0.0770 - mean_squared_error: 0.0770 - val_loss: 0.0782 - val_mean_squared_error: 0.0782\n",
      "Epoch 53/300\n",
      "300/300 [==============================] - 0s 860us/step - loss: 0.0762 - mean_squared_error: 0.0762 - val_loss: 0.0757 - val_mean_squared_error: 0.0757\n",
      "Epoch 54/300\n",
      "300/300 [==============================] - 0s 881us/step - loss: 0.0771 - mean_squared_error: 0.0771 - val_loss: 0.0806 - val_mean_squared_error: 0.0806\n",
      "Epoch 55/300\n",
      "300/300 [==============================] - 0s 803us/step - loss: 0.0780 - mean_squared_error: 0.0780 - val_loss: 0.0831 - val_mean_squared_error: 0.0831\n",
      "Epoch 56/300\n",
      "300/300 [==============================] - 0s 700us/step - loss: 0.0740 - mean_squared_error: 0.0740 - val_loss: 0.0805 - val_mean_squared_error: 0.0805\n",
      "Epoch 57/300\n",
      "300/300 [==============================] - 0s 720us/step - loss: 0.0777 - mean_squared_error: 0.0777 - val_loss: 0.0870 - val_mean_squared_error: 0.0870\n",
      "Epoch 58/300\n",
      "300/300 [==============================] - 0s 776us/step - loss: 0.0763 - mean_squared_error: 0.0763 - val_loss: 0.0831 - val_mean_squared_error: 0.0831\n",
      "Epoch 59/300\n",
      "300/300 [==============================] - 0s 708us/step - loss: 0.0751 - mean_squared_error: 0.0751 - val_loss: 0.0761 - val_mean_squared_error: 0.0761\n",
      "Epoch 60/300\n",
      "300/300 [==============================] - 0s 840us/step - loss: 0.0747 - mean_squared_error: 0.0747 - val_loss: 0.0829 - val_mean_squared_error: 0.0829\n",
      "Epoch 61/300\n",
      "300/300 [==============================] - 0s 854us/step - loss: 0.0740 - mean_squared_error: 0.0740 - val_loss: 0.0788 - val_mean_squared_error: 0.0788\n",
      "Epoch 62/300\n",
      "300/300 [==============================] - 0s 881us/step - loss: 0.0730 - mean_squared_error: 0.0730 - val_loss: 0.0804 - val_mean_squared_error: 0.0804\n",
      "Epoch 63/300\n",
      "300/300 [==============================] - 0s 852us/step - loss: 0.0729 - mean_squared_error: 0.0729 - val_loss: 0.0789 - val_mean_squared_error: 0.0789\n",
      "Epoch 64/300\n",
      "300/300 [==============================] - 0s 731us/step - loss: 0.0728 - mean_squared_error: 0.0728 - val_loss: 0.0804 - val_mean_squared_error: 0.0804\n",
      "Epoch 65/300\n",
      "300/300 [==============================] - 0s 700us/step - loss: 0.0751 - mean_squared_error: 0.0751 - val_loss: 0.0800 - val_mean_squared_error: 0.0800\n",
      "Epoch 66/300\n",
      "300/300 [==============================] - 0s 717us/step - loss: 0.0741 - mean_squared_error: 0.0741 - val_loss: 0.0790 - val_mean_squared_error: 0.0790\n",
      "Epoch 67/300\n",
      "300/300 [==============================] - 0s 828us/step - loss: 0.0718 - mean_squared_error: 0.0718 - val_loss: 0.0757 - val_mean_squared_error: 0.0757\n",
      "Epoch 68/300\n",
      "300/300 [==============================] - 0s 817us/step - loss: 0.0708 - mean_squared_error: 0.0708 - val_loss: 0.0764 - val_mean_squared_error: 0.0764\n",
      "Epoch 69/300\n",
      "300/300 [==============================] - 0s 722us/step - loss: 0.0728 - mean_squared_error: 0.0728 - val_loss: 0.0824 - val_mean_squared_error: 0.0824\n",
      "Epoch 70/300\n",
      "300/300 [==============================] - 0s 838us/step - loss: 0.0754 - mean_squared_error: 0.0754 - val_loss: 0.0799 - val_mean_squared_error: 0.0799\n",
      "Epoch 71/300\n",
      "300/300 [==============================] - 0s 888us/step - loss: 0.0730 - mean_squared_error: 0.0730 - val_loss: 0.0806 - val_mean_squared_error: 0.0806\n",
      "Epoch 72/300\n",
      "300/300 [==============================] - 0s 878us/step - loss: 0.0755 - mean_squared_error: 0.0755 - val_loss: 0.0832 - val_mean_squared_error: 0.0832\n",
      "Epoch 73/300\n",
      "300/300 [==============================] - 0s 826us/step - loss: 0.0715 - mean_squared_error: 0.0715 - val_loss: 0.0784 - val_mean_squared_error: 0.0784\n",
      "Epoch 74/300\n",
      "300/300 [==============================] - 0s 873us/step - loss: 0.0727 - mean_squared_error: 0.0727 - val_loss: 0.0774 - val_mean_squared_error: 0.0774\n",
      "Epoch 75/300\n",
      "300/300 [==============================] - 0s 787us/step - loss: 0.0727 - mean_squared_error: 0.0727 - val_loss: 0.0774 - val_mean_squared_error: 0.0774\n",
      "Epoch 76/300\n",
      "300/300 [==============================] - 0s 749us/step - loss: 0.0720 - mean_squared_error: 0.0720 - val_loss: 0.0796 - val_mean_squared_error: 0.0796\n",
      "Epoch 77/300\n",
      "300/300 [==============================] - 0s 800us/step - loss: 0.0713 - mean_squared_error: 0.0713 - val_loss: 0.0790 - val_mean_squared_error: 0.0790\n",
      "Epoch 78/300\n",
      "300/300 [==============================] - 0s 868us/step - loss: 0.0718 - mean_squared_error: 0.0718 - val_loss: 0.0760 - val_mean_squared_error: 0.0760\n",
      "Epoch 79/300\n",
      "300/300 [==============================] - 0s 824us/step - loss: 0.0704 - mean_squared_error: 0.0704 - val_loss: 0.0722 - val_mean_squared_error: 0.0722\n",
      "Epoch 80/300\n",
      "300/300 [==============================] - 0s 809us/step - loss: 0.0722 - mean_squared_error: 0.0722 - val_loss: 0.0761 - val_mean_squared_error: 0.0761\n",
      "Epoch 81/300\n",
      "300/300 [==============================] - 0s 793us/step - loss: 0.0731 - mean_squared_error: 0.0731 - val_loss: 0.0796 - val_mean_squared_error: 0.0796\n",
      "Epoch 82/300\n",
      "300/300 [==============================] - 0s 766us/step - loss: 0.0699 - mean_squared_error: 0.0699 - val_loss: 0.0793 - val_mean_squared_error: 0.0793\n",
      "Epoch 83/300\n",
      "300/300 [==============================] - 0s 777us/step - loss: 0.0720 - mean_squared_error: 0.0720 - val_loss: 0.0747 - val_mean_squared_error: 0.0747\n",
      "Epoch 84/300\n",
      "300/300 [==============================] - 0s 779us/step - loss: 0.0724 - mean_squared_error: 0.0724 - val_loss: 0.0752 - val_mean_squared_error: 0.0752\n",
      "Epoch 85/300\n",
      "300/300 [==============================] - 0s 854us/step - loss: 0.0720 - mean_squared_error: 0.0720 - val_loss: 0.0800 - val_mean_squared_error: 0.0800\n",
      "Epoch 86/300\n",
      "300/300 [==============================] - 0s 776us/step - loss: 0.0707 - mean_squared_error: 0.0707 - val_loss: 0.0785 - val_mean_squared_error: 0.0785\n",
      "Epoch 87/300\n",
      "300/300 [==============================] - 0s 809us/step - loss: 0.0703 - mean_squared_error: 0.0703 - val_loss: 0.0760 - val_mean_squared_error: 0.0760\n",
      "Epoch 88/300\n",
      "300/300 [==============================] - 0s 843us/step - loss: 0.0720 - mean_squared_error: 0.0720 - val_loss: 0.0749 - val_mean_squared_error: 0.0749\n",
      "Epoch 89/300\n",
      "300/300 [==============================] - 0s 782us/step - loss: 0.0701 - mean_squared_error: 0.0701 - val_loss: 0.0715 - val_mean_squared_error: 0.0715\n",
      "Epoch 90/300\n",
      "300/300 [==============================] - 0s 695us/step - loss: 0.0733 - mean_squared_error: 0.0733 - val_loss: 0.0763 - val_mean_squared_error: 0.0763\n",
      "Epoch 91/300\n",
      "300/300 [==============================] - 0s 834us/step - loss: 0.0705 - mean_squared_error: 0.0705 - val_loss: 0.0773 - val_mean_squared_error: 0.0773\n",
      "Epoch 92/300\n",
      "300/300 [==============================] - 0s 787us/step - loss: 0.0699 - mean_squared_error: 0.0699 - val_loss: 0.0733 - val_mean_squared_error: 0.0733\n",
      "Epoch 93/300\n",
      "300/300 [==============================] - 0s 718us/step - loss: 0.0717 - mean_squared_error: 0.0717 - val_loss: 0.0730 - val_mean_squared_error: 0.0730\n",
      "Epoch 94/300\n",
      "300/300 [==============================] - 0s 830us/step - loss: 0.0719 - mean_squared_error: 0.0719 - val_loss: 0.0776 - val_mean_squared_error: 0.0776\n",
      "Epoch 95/300\n",
      "300/300 [==============================] - 0s 857us/step - loss: 0.0688 - mean_squared_error: 0.0688 - val_loss: 0.0760 - val_mean_squared_error: 0.0760\n",
      "Epoch 96/300\n",
      "300/300 [==============================] - 0s 832us/step - loss: 0.0694 - mean_squared_error: 0.0694 - val_loss: 0.0789 - val_mean_squared_error: 0.0789\n",
      "Epoch 97/300\n",
      "300/300 [==============================] - 0s 836us/step - loss: 0.0700 - mean_squared_error: 0.0700 - val_loss: 0.0774 - val_mean_squared_error: 0.0774\n",
      "Epoch 98/300\n",
      "300/300 [==============================] - 0s 804us/step - loss: 0.0715 - mean_squared_error: 0.0715 - val_loss: 0.0867 - val_mean_squared_error: 0.0867\n",
      "Epoch 99/300\n"
     ]
    },
    {
     "name": "stdout",
     "output_type": "stream",
     "text": [
      "300/300 [==============================] - 0s 826us/step - loss: 0.0713 - mean_squared_error: 0.0713 - val_loss: 0.0853 - val_mean_squared_error: 0.0853\n",
      "Epoch 100/300\n",
      "300/300 [==============================] - 0s 766us/step - loss: 0.0726 - mean_squared_error: 0.0726 - val_loss: 0.0762 - val_mean_squared_error: 0.0762\n",
      "Epoch 101/300\n",
      "300/300 [==============================] - 0s 887us/step - loss: 0.0711 - mean_squared_error: 0.0711 - val_loss: 0.0755 - val_mean_squared_error: 0.0755\n",
      "Epoch 102/300\n",
      "300/300 [==============================] - 0s 761us/step - loss: 0.0707 - mean_squared_error: 0.0707 - val_loss: 0.0763 - val_mean_squared_error: 0.0763\n",
      "Epoch 103/300\n",
      "300/300 [==============================] - 0s 799us/step - loss: 0.0711 - mean_squared_error: 0.0711 - val_loss: 0.0749 - val_mean_squared_error: 0.0749\n",
      "Epoch 104/300\n",
      "300/300 [==============================] - 0s 772us/step - loss: 0.0696 - mean_squared_error: 0.0696 - val_loss: 0.0748 - val_mean_squared_error: 0.0748\n",
      "Epoch 105/300\n",
      "300/300 [==============================] - 0s 728us/step - loss: 0.0700 - mean_squared_error: 0.0700 - val_loss: 0.0725 - val_mean_squared_error: 0.0725\n",
      "Epoch 106/300\n",
      "300/300 [==============================] - 0s 750us/step - loss: 0.0692 - mean_squared_error: 0.0692 - val_loss: 0.0696 - val_mean_squared_error: 0.0696\n",
      "Epoch 107/300\n",
      "300/300 [==============================] - 0s 742us/step - loss: 0.0698 - mean_squared_error: 0.0698 - val_loss: 0.0720 - val_mean_squared_error: 0.0720\n",
      "Epoch 108/300\n",
      "300/300 [==============================] - 0s 761us/step - loss: 0.0716 - mean_squared_error: 0.0716 - val_loss: 0.0750 - val_mean_squared_error: 0.0750\n",
      "Epoch 109/300\n",
      "300/300 [==============================] - 0s 989us/step - loss: 0.0700 - mean_squared_error: 0.0700 - val_loss: 0.0787 - val_mean_squared_error: 0.0787\n",
      "Epoch 110/300\n",
      "300/300 [==============================] - 0s 863us/step - loss: 0.0728 - mean_squared_error: 0.0728 - val_loss: 0.0762 - val_mean_squared_error: 0.0762\n",
      "Epoch 111/300\n",
      "300/300 [==============================] - 0s 792us/step - loss: 0.0716 - mean_squared_error: 0.0716 - val_loss: 0.0816 - val_mean_squared_error: 0.0816\n",
      "Epoch 112/300\n",
      "300/300 [==============================] - 0s 818us/step - loss: 0.0714 - mean_squared_error: 0.0714 - val_loss: 0.0777 - val_mean_squared_error: 0.0777\n",
      "Epoch 113/300\n",
      "300/300 [==============================] - 0s 866us/step - loss: 0.0710 - mean_squared_error: 0.0710 - val_loss: 0.0774 - val_mean_squared_error: 0.0774\n",
      "Epoch 114/300\n",
      "300/300 [==============================] - 0s 843us/step - loss: 0.0685 - mean_squared_error: 0.0685 - val_loss: 0.0754 - val_mean_squared_error: 0.0754\n",
      "Epoch 115/300\n",
      "300/300 [==============================] - 0s 825us/step - loss: 0.0690 - mean_squared_error: 0.0690 - val_loss: 0.0764 - val_mean_squared_error: 0.0764\n",
      "Epoch 116/300\n",
      "300/300 [==============================] - 0s 912us/step - loss: 0.0717 - mean_squared_error: 0.0717 - val_loss: 0.0743 - val_mean_squared_error: 0.0743\n",
      "Epoch 117/300\n",
      "300/300 [==============================] - 0s 808us/step - loss: 0.0685 - mean_squared_error: 0.0685 - val_loss: 0.0764 - val_mean_squared_error: 0.0764\n",
      "Epoch 118/300\n",
      "300/300 [==============================] - 0s 765us/step - loss: 0.0695 - mean_squared_error: 0.0695 - val_loss: 0.0750 - val_mean_squared_error: 0.0750\n",
      "Epoch 119/300\n",
      "300/300 [==============================] - 0s 932us/step - loss: 0.0708 - mean_squared_error: 0.0708 - val_loss: 0.0785 - val_mean_squared_error: 0.0785\n",
      "Epoch 120/300\n",
      "300/300 [==============================] - 0s 788us/step - loss: 0.0686 - mean_squared_error: 0.0686 - val_loss: 0.0734 - val_mean_squared_error: 0.0734\n",
      "Epoch 121/300\n",
      "300/300 [==============================] - 0s 703us/step - loss: 0.0681 - mean_squared_error: 0.0681 - val_loss: 0.0751 - val_mean_squared_error: 0.0751\n",
      "Epoch 122/300\n",
      "300/300 [==============================] - 0s 849us/step - loss: 0.0691 - mean_squared_error: 0.0691 - val_loss: 0.0728 - val_mean_squared_error: 0.0728\n",
      "Epoch 123/300\n",
      "300/300 [==============================] - 0s 878us/step - loss: 0.0693 - mean_squared_error: 0.0693 - val_loss: 0.0740 - val_mean_squared_error: 0.0740\n",
      "Epoch 124/300\n",
      "300/300 [==============================] - 0s 857us/step - loss: 0.0699 - mean_squared_error: 0.0699 - val_loss: 0.0749 - val_mean_squared_error: 0.0749\n",
      "Epoch 125/300\n",
      "300/300 [==============================] - 0s 888us/step - loss: 0.0736 - mean_squared_error: 0.0736 - val_loss: 0.0737 - val_mean_squared_error: 0.0737\n",
      "Epoch 126/300\n",
      "300/300 [==============================] - 0s 966us/step - loss: 0.0684 - mean_squared_error: 0.0684 - val_loss: 0.0737 - val_mean_squared_error: 0.0737\n",
      "Epoch 127/300\n",
      "300/300 [==============================] - 0s 835us/step - loss: 0.0722 - mean_squared_error: 0.0722 - val_loss: 0.0728 - val_mean_squared_error: 0.0728\n",
      "Epoch 128/300\n",
      "300/300 [==============================] - 0s 1ms/step - loss: 0.0694 - mean_squared_error: 0.0694 - val_loss: 0.0731 - val_mean_squared_error: 0.0731\n",
      "Epoch 129/300\n",
      "300/300 [==============================] - 0s 988us/step - loss: 0.0680 - mean_squared_error: 0.0680 - val_loss: 0.0744 - val_mean_squared_error: 0.0744\n",
      "Epoch 130/300\n",
      "300/300 [==============================] - 0s 771us/step - loss: 0.0708 - mean_squared_error: 0.0708 - val_loss: 0.0767 - val_mean_squared_error: 0.0767\n",
      "Epoch 131/300\n",
      "300/300 [==============================] - 0s 866us/step - loss: 0.0673 - mean_squared_error: 0.0673 - val_loss: 0.0732 - val_mean_squared_error: 0.0732\n",
      "Epoch 132/300\n",
      "300/300 [==============================] - 0s 968us/step - loss: 0.0672 - mean_squared_error: 0.0672 - val_loss: 0.0732 - val_mean_squared_error: 0.0732\n",
      "Epoch 133/300\n",
      "300/300 [==============================] - 0s 864us/step - loss: 0.0674 - mean_squared_error: 0.0674 - val_loss: 0.0754 - val_mean_squared_error: 0.0754\n",
      "Epoch 134/300\n",
      "300/300 [==============================] - 0s 839us/step - loss: 0.0678 - mean_squared_error: 0.0678 - val_loss: 0.0756 - val_mean_squared_error: 0.0756\n",
      "Epoch 135/300\n",
      "300/300 [==============================] - 0s 708us/step - loss: 0.0684 - mean_squared_error: 0.0684 - val_loss: 0.0743 - val_mean_squared_error: 0.0743\n",
      "Epoch 136/300\n",
      "300/300 [==============================] - 0s 746us/step - loss: 0.0682 - mean_squared_error: 0.0682 - val_loss: 0.0764 - val_mean_squared_error: 0.0764\n",
      "Epoch 137/300\n",
      "300/300 [==============================] - 0s 811us/step - loss: 0.0682 - mean_squared_error: 0.0682 - val_loss: 0.0718 - val_mean_squared_error: 0.0718\n",
      "Epoch 138/300\n",
      "300/300 [==============================] - 0s 917us/step - loss: 0.0678 - mean_squared_error: 0.0678 - val_loss: 0.0711 - val_mean_squared_error: 0.0711\n",
      "Epoch 139/300\n",
      "300/300 [==============================] - 0s 865us/step - loss: 0.0710 - mean_squared_error: 0.0710 - val_loss: 0.0721 - val_mean_squared_error: 0.0721\n",
      "Epoch 140/300\n",
      "300/300 [==============================] - 0s 831us/step - loss: 0.0700 - mean_squared_error: 0.0700 - val_loss: 0.0744 - val_mean_squared_error: 0.0744\n",
      "Epoch 141/300\n",
      "300/300 [==============================] - 0s 846us/step - loss: 0.0689 - mean_squared_error: 0.0689 - val_loss: 0.0784 - val_mean_squared_error: 0.0784\n",
      "Epoch 142/300\n",
      "300/300 [==============================] - 0s 702us/step - loss: 0.0699 - mean_squared_error: 0.0699 - val_loss: 0.0821 - val_mean_squared_error: 0.0821\n",
      "Epoch 143/300\n",
      "300/300 [==============================] - 0s 706us/step - loss: 0.0697 - mean_squared_error: 0.0697 - val_loss: 0.0768 - val_mean_squared_error: 0.0768\n",
      "Epoch 144/300\n",
      "300/300 [==============================] - 0s 1ms/step - loss: 0.0682 - mean_squared_error: 0.0682 - val_loss: 0.0768 - val_mean_squared_error: 0.0768\n",
      "Epoch 145/300\n",
      "300/300 [==============================] - 0s 965us/step - loss: 0.0689 - mean_squared_error: 0.0689 - val_loss: 0.0819 - val_mean_squared_error: 0.0819\n",
      "Epoch 146/300\n",
      "300/300 [==============================] - 0s 830us/step - loss: 0.0695 - mean_squared_error: 0.0695 - val_loss: 0.0780 - val_mean_squared_error: 0.0780\n",
      "Epoch 147/300\n",
      "300/300 [==============================] - 0s 883us/step - loss: 0.0691 - mean_squared_error: 0.0691 - val_loss: 0.0744 - val_mean_squared_error: 0.0744\n",
      "Epoch 148/300\n"
     ]
    },
    {
     "name": "stdout",
     "output_type": "stream",
     "text": [
      "300/300 [==============================] - 0s 878us/step - loss: 0.0685 - mean_squared_error: 0.0685 - val_loss: 0.0723 - val_mean_squared_error: 0.0723\n",
      "Epoch 149/300\n",
      "300/300 [==============================] - 0s 759us/step - loss: 0.0681 - mean_squared_error: 0.0681 - val_loss: 0.0725 - val_mean_squared_error: 0.0725\n",
      "Epoch 150/300\n",
      "300/300 [==============================] - 0s 916us/step - loss: 0.0675 - mean_squared_error: 0.0675 - val_loss: 0.0773 - val_mean_squared_error: 0.0773\n",
      "Epoch 151/300\n",
      "300/300 [==============================] - 0s 828us/step - loss: 0.0674 - mean_squared_error: 0.0674 - val_loss: 0.0731 - val_mean_squared_error: 0.0731\n",
      "Epoch 152/300\n",
      "300/300 [==============================] - 0s 781us/step - loss: 0.0677 - mean_squared_error: 0.0677 - val_loss: 0.0722 - val_mean_squared_error: 0.0722\n",
      "Epoch 153/300\n",
      "300/300 [==============================] - 0s 771us/step - loss: 0.0689 - mean_squared_error: 0.0689 - val_loss: 0.0714 - val_mean_squared_error: 0.0714\n",
      "Epoch 154/300\n",
      "300/300 [==============================] - 0s 771us/step - loss: 0.0666 - mean_squared_error: 0.0666 - val_loss: 0.0727 - val_mean_squared_error: 0.0727\n",
      "Epoch 155/300\n",
      "300/300 [==============================] - 0s 758us/step - loss: 0.0683 - mean_squared_error: 0.0683 - val_loss: 0.0741 - val_mean_squared_error: 0.0741\n",
      "Epoch 156/300\n",
      "300/300 [==============================] - 0s 809us/step - loss: 0.0691 - mean_squared_error: 0.0691 - val_loss: 0.0732 - val_mean_squared_error: 0.0732\n",
      "Epoch 157/300\n",
      "300/300 [==============================] - 0s 809us/step - loss: 0.0688 - mean_squared_error: 0.0688 - val_loss: 0.0714 - val_mean_squared_error: 0.0714\n",
      "Epoch 158/300\n",
      "300/300 [==============================] - 0s 793us/step - loss: 0.0672 - mean_squared_error: 0.0672 - val_loss: 0.0701 - val_mean_squared_error: 0.0701\n",
      "Epoch 159/300\n",
      "300/300 [==============================] - 0s 703us/step - loss: 0.0683 - mean_squared_error: 0.0683 - val_loss: 0.0693 - val_mean_squared_error: 0.0693\n",
      "Epoch 160/300\n",
      "300/300 [==============================] - 0s 694us/step - loss: 0.0683 - mean_squared_error: 0.0683 - val_loss: 0.0728 - val_mean_squared_error: 0.0728\n",
      "Epoch 161/300\n",
      "300/300 [==============================] - 0s 679us/step - loss: 0.0660 - mean_squared_error: 0.0660 - val_loss: 0.0730 - val_mean_squared_error: 0.0730\n",
      "Epoch 162/300\n",
      "300/300 [==============================] - 0s 698us/step - loss: 0.0659 - mean_squared_error: 0.0659 - val_loss: 0.0761 - val_mean_squared_error: 0.0761\n",
      "Epoch 163/300\n",
      "300/300 [==============================] - 0s 1ms/step - loss: 0.0664 - mean_squared_error: 0.0664 - val_loss: 0.0747 - val_mean_squared_error: 0.0747\n",
      "Epoch 164/300\n",
      "300/300 [==============================] - 0s 849us/step - loss: 0.0663 - mean_squared_error: 0.0663 - val_loss: 0.0710 - val_mean_squared_error: 0.0710\n",
      "Epoch 165/300\n",
      "300/300 [==============================] - 0s 1ms/step - loss: 0.0690 - mean_squared_error: 0.0690 - val_loss: 0.0719 - val_mean_squared_error: 0.0719\n",
      "Epoch 166/300\n",
      "300/300 [==============================] - 0s 705us/step - loss: 0.0700 - mean_squared_error: 0.0700 - val_loss: 0.0771 - val_mean_squared_error: 0.0771\n",
      "Epoch 167/300\n",
      "300/300 [==============================] - 0s 982us/step - loss: 0.0704 - mean_squared_error: 0.0704 - val_loss: 0.0724 - val_mean_squared_error: 0.0724\n",
      "Epoch 168/300\n",
      "300/300 [==============================] - 0s 830us/step - loss: 0.0683 - mean_squared_error: 0.0683 - val_loss: 0.0725 - val_mean_squared_error: 0.0725\n",
      "Epoch 169/300\n",
      "300/300 [==============================] - 0s 887us/step - loss: 0.0669 - mean_squared_error: 0.0669 - val_loss: 0.0737 - val_mean_squared_error: 0.0737\n",
      "Epoch 170/300\n",
      "300/300 [==============================] - 0s 817us/step - loss: 0.0676 - mean_squared_error: 0.0676 - val_loss: 0.0730 - val_mean_squared_error: 0.0730\n",
      "Epoch 171/300\n",
      "300/300 [==============================] - 0s 837us/step - loss: 0.0679 - mean_squared_error: 0.0679 - val_loss: 0.0724 - val_mean_squared_error: 0.0724\n",
      "Epoch 172/300\n",
      "300/300 [==============================] - 0s 758us/step - loss: 0.0684 - mean_squared_error: 0.0684 - val_loss: 0.0710 - val_mean_squared_error: 0.0710\n",
      "Epoch 173/300\n",
      "300/300 [==============================] - 0s 736us/step - loss: 0.0670 - mean_squared_error: 0.0670 - val_loss: 0.0746 - val_mean_squared_error: 0.0746\n",
      "Epoch 174/300\n",
      "300/300 [==============================] - 0s 875us/step - loss: 0.0657 - mean_squared_error: 0.0657 - val_loss: 0.0759 - val_mean_squared_error: 0.0759\n",
      "Epoch 175/300\n",
      "300/300 [==============================] - 0s 688us/step - loss: 0.0640 - mean_squared_error: 0.0640 - val_loss: 0.0737 - val_mean_squared_error: 0.0737\n",
      "Epoch 176/300\n",
      "300/300 [==============================] - 0s 907us/step - loss: 0.0673 - mean_squared_error: 0.0673 - val_loss: 0.0713 - val_mean_squared_error: 0.0713\n",
      "Epoch 177/300\n",
      "300/300 [==============================] - 0s 928us/step - loss: 0.0688 - mean_squared_error: 0.0688 - val_loss: 0.0746 - val_mean_squared_error: 0.0746\n",
      "Epoch 178/300\n",
      "300/300 [==============================] - 0s 822us/step - loss: 0.0673 - mean_squared_error: 0.0673 - val_loss: 0.0751 - val_mean_squared_error: 0.0751\n",
      "Epoch 179/300\n",
      "300/300 [==============================] - 0s 714us/step - loss: 0.0671 - mean_squared_error: 0.0671 - val_loss: 0.0777 - val_mean_squared_error: 0.0777\n",
      "Epoch 180/300\n",
      "300/300 [==============================] - 0s 905us/step - loss: 0.0681 - mean_squared_error: 0.0681 - val_loss: 0.0722 - val_mean_squared_error: 0.0722\n",
      "Epoch 181/300\n",
      "300/300 [==============================] - 0s 787us/step - loss: 0.0710 - mean_squared_error: 0.0710 - val_loss: 0.0783 - val_mean_squared_error: 0.0783\n",
      "Epoch 182/300\n",
      "300/300 [==============================] - 0s 712us/step - loss: 0.0724 - mean_squared_error: 0.0724 - val_loss: 0.0819 - val_mean_squared_error: 0.0819\n",
      "Epoch 183/300\n",
      "300/300 [==============================] - 0s 862us/step - loss: 0.0723 - mean_squared_error: 0.0723 - val_loss: 0.0777 - val_mean_squared_error: 0.0777\n",
      "Epoch 184/300\n",
      "300/300 [==============================] - 0s 810us/step - loss: 0.0680 - mean_squared_error: 0.0680 - val_loss: 0.0753 - val_mean_squared_error: 0.0753\n",
      "Epoch 185/300\n",
      "300/300 [==============================] - 0s 852us/step - loss: 0.0682 - mean_squared_error: 0.0682 - val_loss: 0.0775 - val_mean_squared_error: 0.0775\n",
      "Epoch 186/300\n",
      "300/300 [==============================] - 0s 757us/step - loss: 0.0691 - mean_squared_error: 0.0691 - val_loss: 0.0736 - val_mean_squared_error: 0.0736\n",
      "Epoch 187/300\n",
      "300/300 [==============================] - 0s 751us/step - loss: 0.0678 - mean_squared_error: 0.0678 - val_loss: 0.0728 - val_mean_squared_error: 0.0728\n",
      "Epoch 188/300\n",
      "300/300 [==============================] - 0s 857us/step - loss: 0.0685 - mean_squared_error: 0.0685 - val_loss: 0.0716 - val_mean_squared_error: 0.0716\n",
      "Epoch 189/300\n",
      "300/300 [==============================] - 0s 745us/step - loss: 0.0671 - mean_squared_error: 0.0671 - val_loss: 0.0761 - val_mean_squared_error: 0.0761\n",
      "Epoch 190/300\n",
      "300/300 [==============================] - 0s 691us/step - loss: 0.0694 - mean_squared_error: 0.0694 - val_loss: 0.0759 - val_mean_squared_error: 0.0759\n",
      "Epoch 191/300\n",
      "300/300 [==============================] - 0s 866us/step - loss: 0.0676 - mean_squared_error: 0.0676 - val_loss: 0.0724 - val_mean_squared_error: 0.0724\n",
      "Epoch 192/300\n",
      "300/300 [==============================] - 0s 689us/step - loss: 0.0686 - mean_squared_error: 0.0686 - val_loss: 0.0712 - val_mean_squared_error: 0.0712\n",
      "Epoch 193/300\n",
      "300/300 [==============================] - 0s 674us/step - loss: 0.0692 - mean_squared_error: 0.0692 - val_loss: 0.0733 - val_mean_squared_error: 0.0733\n",
      "Epoch 194/300\n",
      "300/300 [==============================] - 0s 740us/step - loss: 0.0693 - mean_squared_error: 0.0693 - val_loss: 0.0746 - val_mean_squared_error: 0.0746\n",
      "Epoch 195/300\n",
      "300/300 [==============================] - 0s 1ms/step - loss: 0.0669 - mean_squared_error: 0.0669 - val_loss: 0.0739 - val_mean_squared_error: 0.0739\n",
      "Epoch 196/300\n",
      "300/300 [==============================] - 0s 935us/step - loss: 0.0682 - mean_squared_error: 0.0682 - val_loss: 0.0731 - val_mean_squared_error: 0.0731\n",
      "Epoch 197/300\n"
     ]
    },
    {
     "name": "stdout",
     "output_type": "stream",
     "text": [
      "300/300 [==============================] - 0s 859us/step - loss: 0.0666 - mean_squared_error: 0.0666 - val_loss: 0.0720 - val_mean_squared_error: 0.0720\n",
      "Epoch 198/300\n",
      "300/300 [==============================] - 0s 788us/step - loss: 0.0656 - mean_squared_error: 0.0656 - val_loss: 0.0722 - val_mean_squared_error: 0.0722\n",
      "Epoch 199/300\n",
      "300/300 [==============================] - 0s 821us/step - loss: 0.0704 - mean_squared_error: 0.0704 - val_loss: 0.0695 - val_mean_squared_error: 0.0695\n",
      "Epoch 200/300\n",
      "300/300 [==============================] - 0s 793us/step - loss: 0.0706 - mean_squared_error: 0.0706 - val_loss: 0.0766 - val_mean_squared_error: 0.0766\n",
      "Epoch 201/300\n",
      "300/300 [==============================] - 0s 729us/step - loss: 0.0705 - mean_squared_error: 0.0705 - val_loss: 0.0769 - val_mean_squared_error: 0.0769\n",
      "Epoch 202/300\n",
      "300/300 [==============================] - 0s 707us/step - loss: 0.0696 - mean_squared_error: 0.0696 - val_loss: 0.0747 - val_mean_squared_error: 0.0747\n",
      "Epoch 203/300\n",
      "300/300 [==============================] - 0s 728us/step - loss: 0.0697 - mean_squared_error: 0.0697 - val_loss: 0.0751 - val_mean_squared_error: 0.0751\n",
      "Epoch 204/300\n",
      "300/300 [==============================] - 0s 783us/step - loss: 0.0685 - mean_squared_error: 0.0685 - val_loss: 0.0727 - val_mean_squared_error: 0.0727\n",
      "Epoch 205/300\n",
      "300/300 [==============================] - 0s 705us/step - loss: 0.0679 - mean_squared_error: 0.0679 - val_loss: 0.0714 - val_mean_squared_error: 0.0714\n",
      "Epoch 206/300\n",
      "300/300 [==============================] - 0s 801us/step - loss: 0.0673 - mean_squared_error: 0.0673 - val_loss: 0.0739 - val_mean_squared_error: 0.0739\n",
      "Epoch 207/300\n",
      "300/300 [==============================] - 0s 689us/step - loss: 0.0675 - mean_squared_error: 0.0675 - val_loss: 0.0719 - val_mean_squared_error: 0.0719\n",
      "Epoch 208/300\n",
      "300/300 [==============================] - 0s 702us/step - loss: 0.0694 - mean_squared_error: 0.0694 - val_loss: 0.0708 - val_mean_squared_error: 0.0708\n",
      "Epoch 209/300\n",
      "300/300 [==============================] - 0s 816us/step - loss: 0.0664 - mean_squared_error: 0.0664 - val_loss: 0.0714 - val_mean_squared_error: 0.0714\n",
      "Epoch 210/300\n",
      "300/300 [==============================] - 0s 795us/step - loss: 0.0678 - mean_squared_error: 0.0678 - val_loss: 0.0721 - val_mean_squared_error: 0.0721\n",
      "Epoch 211/300\n",
      "300/300 [==============================] - 0s 774us/step - loss: 0.0691 - mean_squared_error: 0.0691 - val_loss: 0.0734 - val_mean_squared_error: 0.0734\n",
      "Epoch 212/300\n",
      "300/300 [==============================] - 0s 721us/step - loss: 0.0675 - mean_squared_error: 0.0675 - val_loss: 0.0798 - val_mean_squared_error: 0.0798\n",
      "Epoch 213/300\n",
      "300/300 [==============================] - 0s 785us/step - loss: 0.0688 - mean_squared_error: 0.0688 - val_loss: 0.0770 - val_mean_squared_error: 0.0770\n",
      "Epoch 214/300\n",
      "300/300 [==============================] - 0s 672us/step - loss: 0.0670 - mean_squared_error: 0.0670 - val_loss: 0.0732 - val_mean_squared_error: 0.0732\n",
      "Epoch 215/300\n",
      "300/300 [==============================] - 0s 678us/step - loss: 0.0676 - mean_squared_error: 0.0676 - val_loss: 0.0712 - val_mean_squared_error: 0.0712\n",
      "Epoch 216/300\n",
      "300/300 [==============================] - 0s 673us/step - loss: 0.0676 - mean_squared_error: 0.0676 - val_loss: 0.0708 - val_mean_squared_error: 0.0708\n",
      "Epoch 217/300\n",
      "300/300 [==============================] - 0s 688us/step - loss: 0.0675 - mean_squared_error: 0.0675 - val_loss: 0.0731 - val_mean_squared_error: 0.0731\n",
      "Epoch 218/300\n",
      "300/300 [==============================] - 0s 768us/step - loss: 0.0663 - mean_squared_error: 0.0663 - val_loss: 0.0721 - val_mean_squared_error: 0.0721\n",
      "Epoch 219/300\n",
      "300/300 [==============================] - 0s 986us/step - loss: 0.0669 - mean_squared_error: 0.0669 - val_loss: 0.0738 - val_mean_squared_error: 0.0738\n",
      "Epoch 220/300\n",
      "300/300 [==============================] - 0s 827us/step - loss: 0.0696 - mean_squared_error: 0.0696 - val_loss: 0.0712 - val_mean_squared_error: 0.0712\n",
      "Epoch 221/300\n",
      "300/300 [==============================] - 0s 785us/step - loss: 0.0676 - mean_squared_error: 0.0676 - val_loss: 0.0714 - val_mean_squared_error: 0.0714\n",
      "Epoch 222/300\n",
      "300/300 [==============================] - 0s 814us/step - loss: 0.0673 - mean_squared_error: 0.0673 - val_loss: 0.0738 - val_mean_squared_error: 0.0738\n",
      "Epoch 223/300\n",
      "300/300 [==============================] - 0s 794us/step - loss: 0.0673 - mean_squared_error: 0.0673 - val_loss: 0.0755 - val_mean_squared_error: 0.0755\n",
      "Epoch 224/300\n",
      "300/300 [==============================] - 0s 797us/step - loss: 0.0669 - mean_squared_error: 0.0669 - val_loss: 0.0736 - val_mean_squared_error: 0.0736\n",
      "Epoch 225/300\n",
      "300/300 [==============================] - 0s 791us/step - loss: 0.0658 - mean_squared_error: 0.0658 - val_loss: 0.0726 - val_mean_squared_error: 0.0726\n",
      "Epoch 226/300\n",
      "300/300 [==============================] - 0s 860us/step - loss: 0.0663 - mean_squared_error: 0.0663 - val_loss: 0.0758 - val_mean_squared_error: 0.0758\n",
      "Epoch 227/300\n",
      "300/300 [==============================] - 0s 747us/step - loss: 0.0665 - mean_squared_error: 0.0665 - val_loss: 0.0729 - val_mean_squared_error: 0.0729\n",
      "Epoch 228/300\n",
      "300/300 [==============================] - 0s 757us/step - loss: 0.0669 - mean_squared_error: 0.0669 - val_loss: 0.0733 - val_mean_squared_error: 0.0733\n",
      "Epoch 229/300\n",
      "300/300 [==============================] - 0s 730us/step - loss: 0.0690 - mean_squared_error: 0.0690 - val_loss: 0.0723 - val_mean_squared_error: 0.0723\n",
      "Epoch 230/300\n",
      "300/300 [==============================] - 0s 818us/step - loss: 0.0664 - mean_squared_error: 0.0664 - val_loss: 0.0760 - val_mean_squared_error: 0.0760\n",
      "Epoch 231/300\n",
      "300/300 [==============================] - 0s 780us/step - loss: 0.0676 - mean_squared_error: 0.0676 - val_loss: 0.0764 - val_mean_squared_error: 0.0764\n",
      "Epoch 232/300\n",
      "300/300 [==============================] - 0s 695us/step - loss: 0.0669 - mean_squared_error: 0.0669 - val_loss: 0.0776 - val_mean_squared_error: 0.0776\n",
      "Epoch 233/300\n",
      "300/300 [==============================] - 0s 710us/step - loss: 0.0668 - mean_squared_error: 0.0668 - val_loss: 0.0776 - val_mean_squared_error: 0.0776\n",
      "Epoch 234/300\n",
      "300/300 [==============================] - 0s 956us/step - loss: 0.0683 - mean_squared_error: 0.0683 - val_loss: 0.0774 - val_mean_squared_error: 0.0774\n",
      "Epoch 235/300\n",
      "300/300 [==============================] - 0s 910us/step - loss: 0.0680 - mean_squared_error: 0.0680 - val_loss: 0.0734 - val_mean_squared_error: 0.0734\n",
      "Epoch 236/300\n",
      "300/300 [==============================] - 0s 805us/step - loss: 0.0649 - mean_squared_error: 0.0649 - val_loss: 0.0754 - val_mean_squared_error: 0.0754\n",
      "Epoch 237/300\n",
      "300/300 [==============================] - 0s 764us/step - loss: 0.0668 - mean_squared_error: 0.0668 - val_loss: 0.0756 - val_mean_squared_error: 0.0756\n",
      "Epoch 238/300\n",
      "300/300 [==============================] - 0s 788us/step - loss: 0.0669 - mean_squared_error: 0.0669 - val_loss: 0.0744 - val_mean_squared_error: 0.0744\n",
      "Epoch 239/300\n",
      "300/300 [==============================] - 0s 855us/step - loss: 0.0667 - mean_squared_error: 0.0667 - val_loss: 0.0725 - val_mean_squared_error: 0.0725\n",
      "Epoch 240/300\n",
      "300/300 [==============================] - 0s 907us/step - loss: 0.0677 - mean_squared_error: 0.0677 - val_loss: 0.0716 - val_mean_squared_error: 0.0716\n",
      "Epoch 241/300\n",
      "300/300 [==============================] - 0s 854us/step - loss: 0.0676 - mean_squared_error: 0.0676 - val_loss: 0.0754 - val_mean_squared_error: 0.0754\n",
      "Epoch 242/300\n",
      "300/300 [==============================] - 0s 798us/step - loss: 0.0665 - mean_squared_error: 0.0665 - val_loss: 0.0763 - val_mean_squared_error: 0.0763\n",
      "Epoch 243/300\n",
      "300/300 [==============================] - 0s 757us/step - loss: 0.0670 - mean_squared_error: 0.0670 - val_loss: 0.0760 - val_mean_squared_error: 0.0760\n",
      "Epoch 244/300\n",
      "300/300 [==============================] - 0s 787us/step - loss: 0.0660 - mean_squared_error: 0.0660 - val_loss: 0.0741 - val_mean_squared_error: 0.0741\n",
      "Epoch 245/300\n",
      "300/300 [==============================] - 0s 784us/step - loss: 0.0653 - mean_squared_error: 0.0653 - val_loss: 0.0733 - val_mean_squared_error: 0.0733\n",
      "Epoch 246/300\n"
     ]
    },
    {
     "name": "stdout",
     "output_type": "stream",
     "text": [
      "300/300 [==============================] - 0s 741us/step - loss: 0.0668 - mean_squared_error: 0.0668 - val_loss: 0.0726 - val_mean_squared_error: 0.0726\n",
      "Epoch 247/300\n",
      "300/300 [==============================] - 0s 778us/step - loss: 0.0668 - mean_squared_error: 0.0668 - val_loss: 0.0737 - val_mean_squared_error: 0.0737\n",
      "Epoch 248/300\n",
      "300/300 [==============================] - 0s 683us/step - loss: 0.0665 - mean_squared_error: 0.0665 - val_loss: 0.0739 - val_mean_squared_error: 0.0739\n",
      "Epoch 249/300\n",
      "300/300 [==============================] - 0s 691us/step - loss: 0.0669 - mean_squared_error: 0.0669 - val_loss: 0.0758 - val_mean_squared_error: 0.0758\n",
      "Epoch 250/300\n",
      "300/300 [==============================] - 0s 679us/step - loss: 0.0679 - mean_squared_error: 0.0679 - val_loss: 0.0729 - val_mean_squared_error: 0.0729\n",
      "Epoch 251/300\n",
      "300/300 [==============================] - 0s 686us/step - loss: 0.0673 - mean_squared_error: 0.0673 - val_loss: 0.0720 - val_mean_squared_error: 0.0720\n",
      "Epoch 252/300\n",
      "300/300 [==============================] - 0s 718us/step - loss: 0.0686 - mean_squared_error: 0.0686 - val_loss: 0.0742 - val_mean_squared_error: 0.0742\n",
      "Epoch 253/300\n",
      "300/300 [==============================] - 0s 782us/step - loss: 0.0693 - mean_squared_error: 0.0693 - val_loss: 0.0716 - val_mean_squared_error: 0.0716\n",
      "Epoch 254/300\n",
      "300/300 [==============================] - 0s 686us/step - loss: 0.0675 - mean_squared_error: 0.0675 - val_loss: 0.0725 - val_mean_squared_error: 0.0725\n",
      "Epoch 255/300\n",
      "300/300 [==============================] - 0s 720us/step - loss: 0.0693 - mean_squared_error: 0.0693 - val_loss: 0.0768 - val_mean_squared_error: 0.0768\n",
      "Epoch 256/300\n",
      "300/300 [==============================] - 0s 722us/step - loss: 0.0674 - mean_squared_error: 0.0674 - val_loss: 0.0745 - val_mean_squared_error: 0.0745\n",
      "Epoch 257/300\n",
      "300/300 [==============================] - 0s 705us/step - loss: 0.0660 - mean_squared_error: 0.0660 - val_loss: 0.0745 - val_mean_squared_error: 0.0745\n",
      "Epoch 258/300\n",
      "300/300 [==============================] - 0s 681us/step - loss: 0.0679 - mean_squared_error: 0.0679 - val_loss: 0.0726 - val_mean_squared_error: 0.0726\n",
      "Epoch 259/300\n",
      "300/300 [==============================] - 0s 678us/step - loss: 0.0679 - mean_squared_error: 0.0679 - val_loss: 0.0710 - val_mean_squared_error: 0.0710\n",
      "Epoch 260/300\n",
      "300/300 [==============================] - 0s 687us/step - loss: 0.0671 - mean_squared_error: 0.0671 - val_loss: 0.0723 - val_mean_squared_error: 0.0723\n",
      "Epoch 261/300\n",
      "300/300 [==============================] - 0s 676us/step - loss: 0.0673 - mean_squared_error: 0.0673 - val_loss: 0.0726 - val_mean_squared_error: 0.0726\n",
      "Epoch 262/300\n",
      "300/300 [==============================] - 0s 729us/step - loss: 0.0661 - mean_squared_error: 0.0661 - val_loss: 0.0719 - val_mean_squared_error: 0.0719\n",
      "Epoch 263/300\n",
      "300/300 [==============================] - 0s 717us/step - loss: 0.0668 - mean_squared_error: 0.0668 - val_loss: 0.0713 - val_mean_squared_error: 0.0713\n",
      "Epoch 264/300\n",
      "300/300 [==============================] - 0s 659us/step - loss: 0.0653 - mean_squared_error: 0.0653 - val_loss: 0.0717 - val_mean_squared_error: 0.0717\n",
      "Epoch 265/300\n",
      "300/300 [==============================] - 0s 703us/step - loss: 0.0659 - mean_squared_error: 0.0659 - val_loss: 0.0746 - val_mean_squared_error: 0.0746\n",
      "Epoch 266/300\n",
      "300/300 [==============================] - 0s 734us/step - loss: 0.0696 - mean_squared_error: 0.0696 - val_loss: 0.0744 - val_mean_squared_error: 0.0744\n",
      "Epoch 267/300\n",
      "300/300 [==============================] - 0s 711us/step - loss: 0.0688 - mean_squared_error: 0.0688 - val_loss: 0.0758 - val_mean_squared_error: 0.0758\n",
      "Epoch 268/300\n",
      "300/300 [==============================] - 0s 693us/step - loss: 0.0684 - mean_squared_error: 0.0684 - val_loss: 0.0727 - val_mean_squared_error: 0.0727\n",
      "Epoch 269/300\n",
      "300/300 [==============================] - 0s 688us/step - loss: 0.0658 - mean_squared_error: 0.0658 - val_loss: 0.0744 - val_mean_squared_error: 0.0744\n",
      "Epoch 270/300\n",
      "300/300 [==============================] - 0s 683us/step - loss: 0.0656 - mean_squared_error: 0.0656 - val_loss: 0.0705 - val_mean_squared_error: 0.0705\n",
      "Epoch 271/300\n",
      "300/300 [==============================] - 0s 695us/step - loss: 0.0671 - mean_squared_error: 0.0671 - val_loss: 0.0719 - val_mean_squared_error: 0.0719\n",
      "Epoch 272/300\n",
      "300/300 [==============================] - 0s 715us/step - loss: 0.0654 - mean_squared_error: 0.0654 - val_loss: 0.0719 - val_mean_squared_error: 0.0719\n",
      "Epoch 273/300\n",
      "300/300 [==============================] - 0s 691us/step - loss: 0.0674 - mean_squared_error: 0.0674 - val_loss: 0.0719 - val_mean_squared_error: 0.0719\n",
      "Epoch 274/300\n",
      "300/300 [==============================] - 0s 686us/step - loss: 0.0675 - mean_squared_error: 0.0675 - val_loss: 0.0782 - val_mean_squared_error: 0.0782\n",
      "Epoch 275/300\n",
      "300/300 [==============================] - 0s 730us/step - loss: 0.0687 - mean_squared_error: 0.0687 - val_loss: 0.0804 - val_mean_squared_error: 0.0804\n",
      "Epoch 276/300\n",
      "300/300 [==============================] - 0s 757us/step - loss: 0.0686 - mean_squared_error: 0.0686 - val_loss: 0.0718 - val_mean_squared_error: 0.0718\n",
      "Epoch 277/300\n",
      "300/300 [==============================] - 0s 738us/step - loss: 0.0670 - mean_squared_error: 0.0670 - val_loss: 0.0712 - val_mean_squared_error: 0.0712\n",
      "Epoch 278/300\n",
      "300/300 [==============================] - 0s 686us/step - loss: 0.0666 - mean_squared_error: 0.0666 - val_loss: 0.0736 - val_mean_squared_error: 0.0736\n",
      "Epoch 279/300\n",
      "300/300 [==============================] - 0s 690us/step - loss: 0.0651 - mean_squared_error: 0.0651 - val_loss: 0.0743 - val_mean_squared_error: 0.0743\n",
      "Epoch 280/300\n",
      "300/300 [==============================] - 0s 704us/step - loss: 0.0663 - mean_squared_error: 0.0663 - val_loss: 0.0720 - val_mean_squared_error: 0.0720\n",
      "Epoch 281/300\n",
      "300/300 [==============================] - 0s 679us/step - loss: 0.0663 - mean_squared_error: 0.0663 - val_loss: 0.0724 - val_mean_squared_error: 0.0724\n",
      "Epoch 282/300\n",
      "300/300 [==============================] - 0s 944us/step - loss: 0.0684 - mean_squared_error: 0.0684 - val_loss: 0.0737 - val_mean_squared_error: 0.0737\n",
      "Epoch 283/300\n",
      "300/300 [==============================] - 0s 733us/step - loss: 0.0670 - mean_squared_error: 0.0670 - val_loss: 0.0736 - val_mean_squared_error: 0.0736\n",
      "Epoch 284/300\n",
      "300/300 [==============================] - 0s 719us/step - loss: 0.0659 - mean_squared_error: 0.0659 - val_loss: 0.0759 - val_mean_squared_error: 0.0759\n",
      "Epoch 285/300\n",
      "300/300 [==============================] - 0s 889us/step - loss: 0.0657 - mean_squared_error: 0.0657 - val_loss: 0.0784 - val_mean_squared_error: 0.0784\n",
      "Epoch 286/300\n",
      "300/300 [==============================] - 0s 788us/step - loss: 0.0687 - mean_squared_error: 0.0687 - val_loss: 0.0762 - val_mean_squared_error: 0.0762\n",
      "Epoch 287/300\n",
      "300/300 [==============================] - 0s 920us/step - loss: 0.0674 - mean_squared_error: 0.0674 - val_loss: 0.0743 - val_mean_squared_error: 0.0743\n",
      "Epoch 288/300\n",
      "300/300 [==============================] - 0s 890us/step - loss: 0.0658 - mean_squared_error: 0.0658 - val_loss: 0.0736 - val_mean_squared_error: 0.0736\n",
      "Epoch 289/300\n",
      "300/300 [==============================] - 0s 898us/step - loss: 0.0666 - mean_squared_error: 0.0666 - val_loss: 0.0753 - val_mean_squared_error: 0.0753\n",
      "Epoch 290/300\n",
      "300/300 [==============================] - 0s 873us/step - loss: 0.0680 - mean_squared_error: 0.0680 - val_loss: 0.0752 - val_mean_squared_error: 0.0752\n",
      "Epoch 291/300\n",
      "300/300 [==============================] - 0s 845us/step - loss: 0.0680 - mean_squared_error: 0.0680 - val_loss: 0.0735 - val_mean_squared_error: 0.0735\n",
      "Epoch 292/300\n",
      "300/300 [==============================] - 0s 698us/step - loss: 0.0658 - mean_squared_error: 0.0658 - val_loss: 0.0739 - val_mean_squared_error: 0.0739\n",
      "Epoch 293/300\n",
      "300/300 [==============================] - 0s 709us/step - loss: 0.0677 - mean_squared_error: 0.0677 - val_loss: 0.0753 - val_mean_squared_error: 0.0753\n",
      "Epoch 294/300\n",
      "300/300 [==============================] - 0s 723us/step - loss: 0.0668 - mean_squared_error: 0.0668 - val_loss: 0.0757 - val_mean_squared_error: 0.0757\n",
      "Epoch 295/300\n"
     ]
    },
    {
     "name": "stdout",
     "output_type": "stream",
     "text": [
      "300/300 [==============================] - 0s 737us/step - loss: 0.0687 - mean_squared_error: 0.0687 - val_loss: 0.0765 - val_mean_squared_error: 0.0765\n",
      "Epoch 296/300\n",
      "300/300 [==============================] - 0s 731us/step - loss: 0.0665 - mean_squared_error: 0.0665 - val_loss: 0.0788 - val_mean_squared_error: 0.0788\n",
      "Epoch 297/300\n",
      "300/300 [==============================] - 0s 728us/step - loss: 0.0662 - mean_squared_error: 0.0662 - val_loss: 0.0764 - val_mean_squared_error: 0.0764\n",
      "Epoch 298/300\n",
      "300/300 [==============================] - 0s 713us/step - loss: 0.0670 - mean_squared_error: 0.0670 - val_loss: 0.0730 - val_mean_squared_error: 0.0730\n",
      "Epoch 299/300\n",
      "300/300 [==============================] - 0s 817us/step - loss: 0.0705 - mean_squared_error: 0.0705 - val_loss: 0.0747 - val_mean_squared_error: 0.0747\n",
      "Epoch 300/300\n",
      "300/300 [==============================] - 0s 746us/step - loss: 0.0696 - mean_squared_error: 0.0696 - val_loss: 0.0754 - val_mean_squared_error: 0.0754\n"
     ]
    }
   ],
   "source": [
    "regressor.add(Dense(units=130,kernel_initializer= 'uniform',activation=\"relu\", input_shape=(5184,)))\n",
    "regressor.add(Dropout(0.3))\n",
    "regressor.add(Dense(units=130,kernel_initializer= 'uniform',activation=\"relu\"))\n",
    "regressor.add(Dropout(0.3))\n",
    "regressor.add(Dense(units=6,kernel_initializer= 'uniform'))\n",
    "regressor.compile(optimizer=\"adam\", loss='mse', metrics= [\"mse\"])\n",
    "history=regressor.fit(X_train,Y_train,validation_data=(X_re,Y_re),batch_size=32, epochs=300)"
   ]
  },
  {
   "cell_type": "code",
   "execution_count": 191,
   "metadata": {},
   "outputs": [
    {
     "data": {
      "text/plain": [
       "[<matplotlib.lines.Line2D at 0x1825f5e080>]"
      ]
     },
     "execution_count": 191,
     "metadata": {},
     "output_type": "execute_result"
    },
    {
     "data": {
      "image/png": "[encoded data removed]",
      "text/plain": [
       "<matplotlib.figure.Figure at 0x1825f5e0b8>"
      ]
     },
     "metadata": {},
     "output_type": "display_data"
    }
   ],
   "source": [
    "plt.plot(history.history[\"mean_squared_error\"])\n",
    "plt.plot(history.history[\"val_mean_squared_error\"])"
   ]
  },
  {
   "cell_type": "code",
   "execution_count": 192,
   "metadata": {
    "collapsed": true
   },
   "outputs": [],
   "source": [
    "def generate_test_set_regression():\n",
    "    np.random.seed(42)\n",
    "    [X_test, Y_test] = generate_dataset_regression(300, 20)\n",
    "    return [X_test, Y_test]"
   ]
  },
  {
   "cell_type": "code",
   "execution_count": 193,
   "metadata": {},
   "outputs": [
    {
     "name": "stdout",
     "output_type": "stream",
     "text": [
      "Creating data:\n",
      "0\n",
      "10\n",
      "20\n",
      "30\n",
      "40\n",
      "50\n",
      "60\n",
      "70\n",
      "80\n",
      "90\n",
      "100\n",
      "110\n",
      "120\n",
      "130\n",
      "140\n",
      "150\n",
      "160\n",
      "170\n",
      "180\n",
      "190\n",
      "200\n",
      "210\n",
      "220\n",
      "230\n",
      "240\n",
      "250\n",
      "260\n",
      "270\n",
      "280\n",
      "290\n"
     ]
    }
   ],
   "source": [
    "[X_test, Y_test] = generate_test_set_regression()"
   ]
  },
  {
   "cell_type": "code",
   "execution_count": 194,
   "metadata": {
    "collapsed": true
   },
   "outputs": [],
   "source": [
    "Y_pred=regressor.predict(X_test)"
   ]
  },
  {
   "cell_type": "markdown",
   "metadata": {},
   "source": [
    "Visualize the prediction:"
   ]
  },
  {
   "cell_type": "code",
   "execution_count": 195,
   "metadata": {},
   "outputs": [
    {
     "name": "stdout",
     "output_type": "stream",
     "text": [
      "[[0.23325432 0.15415605]\n",
      " [0.5149824  0.45317341]\n",
      " [0.32182751 0.87390724]]\n"
     ]
    },
    {
     "data": {
      "image/png": "[encoded data removed]",
      "text/plain": [
       "<matplotlib.figure.Figure at 0x18245f1630>"
      ]
     },
     "metadata": {},
     "output_type": "display_data"
    },
    {
     "name": "stdout",
     "output_type": "stream",
     "text": [
      "[[0.43085912 0.39329618]\n",
      " [0.43879294 0.47794563]\n",
      " [0.4281205  0.49273968]]\n"
     ]
    },
    {
     "data": {
      "image/png": "[encoded data removed]",
      "text/plain": [
       "<matplotlib.figure.Figure at 0x18245acfd0>"
      ]
     },
     "metadata": {},
     "output_type": "display_data"
    }
   ],
   "source": [
    "visualize_prediction(X_test[2], Y_test[2])\n",
    "visualize_prediction(X_test[2], Y_pred[2])"
   ]
  },
  {
   "cell_type": "code",
   "execution_count": 198,
   "metadata": {
    "collapsed": true
   },
   "outputs": [],
   "source": [
    "X_Train = X_train.reshape([-1, 72,72,1])\n",
    "X_re = X_re.reshape([-1, 72,72,1])"
   ]
  },
  {
   "cell_type": "markdown",
   "metadata": {},
   "source": [
    "Normalize and apply the convulation model: "
   ]
  },
  {
   "cell_type": "code",
   "execution_count": 199,
   "metadata": {
    "collapsed": true
   },
   "outputs": [],
   "source": [
    "from keras.layers import BatchNormalization"
   ]
  },
  {
   "cell_type": "code",
   "execution_count": 200,
   "metadata": {},
   "outputs": [
    {
     "name": "stdout",
     "output_type": "stream",
     "text": [
      "Train on 300 samples, validate on 300 samples\n",
      "Epoch 1/20\n",
      "300/300 [==============================] - 124s 412ms/step - loss: 0.3367 - mean_squared_error: 0.3367 - val_loss: 0.4788 - val_mean_squared_error: 0.4788\n",
      "Epoch 2/20\n",
      "300/300 [==============================] - 117s 389ms/step - loss: 0.2812 - mean_squared_error: 0.2812 - val_loss: 0.4177 - val_mean_squared_error: 0.4177\n",
      "Epoch 3/20\n",
      "300/300 [==============================] - 109s 363ms/step - loss: 0.2583 - mean_squared_error: 0.2583 - val_loss: 0.3021 - val_mean_squared_error: 0.3021\n",
      "Epoch 4/20\n",
      "300/300 [==============================] - 102s 340ms/step - loss: 0.2359 - mean_squared_error: 0.2359 - val_loss: 0.2743 - val_mean_squared_error: 0.2743\n",
      "Epoch 5/20\n",
      "300/300 [==============================] - 99s 332ms/step - loss: 0.2090 - mean_squared_error: 0.2090 - val_loss: 0.2497 - val_mean_squared_error: 0.2497\n",
      "Epoch 6/20\n",
      "300/300 [==============================] - 101s 336ms/step - loss: 0.1772 - mean_squared_error: 0.1772 - val_loss: 0.2603 - val_mean_squared_error: 0.2603\n",
      "Epoch 7/20\n",
      "300/300 [==============================] - 99s 331ms/step - loss: 0.1423 - mean_squared_error: 0.1423 - val_loss: 0.2301 - val_mean_squared_error: 0.2301\n",
      "Epoch 8/20\n",
      "300/300 [==============================] - 103s 343ms/step - loss: 0.1059 - mean_squared_error: 0.1059 - val_loss: 0.4916 - val_mean_squared_error: 0.4916\n",
      "Epoch 9/20\n",
      "300/300 [==============================] - 103s 342ms/step - loss: 0.0721 - mean_squared_error: 0.0721 - val_loss: 0.8261 - val_mean_squared_error: 0.8261\n",
      "Epoch 10/20\n",
      "300/300 [==============================] - 102s 340ms/step - loss: 0.0520 - mean_squared_error: 0.0520 - val_loss: 0.1130 - val_mean_squared_error: 0.1130\n",
      "Epoch 11/20\n",
      "300/300 [==============================] - 116s 387ms/step - loss: 0.0547 - mean_squared_error: 0.0547 - val_loss: 0.2070 - val_mean_squared_error: 0.2070\n",
      "Epoch 12/20\n",
      "300/300 [==============================] - 117s 389ms/step - loss: 0.0491 - mean_squared_error: 0.0491 - val_loss: 0.3838 - val_mean_squared_error: 0.3838\n",
      "Epoch 13/20\n",
      "300/300 [==============================] - 116s 387ms/step - loss: 0.0404 - mean_squared_error: 0.0404 - val_loss: 0.2864 - val_mean_squared_error: 0.2864\n",
      "Epoch 14/20\n",
      "300/300 [==============================] - 130s 435ms/step - loss: 0.0318 - mean_squared_error: 0.0318 - val_loss: 0.6265 - val_mean_squared_error: 0.6265\n",
      "Epoch 15/20\n",
      "300/300 [==============================] - 108s 359ms/step - loss: 0.0250 - mean_squared_error: 0.0250 - val_loss: 0.7243 - val_mean_squared_error: 0.7243\n",
      "Epoch 16/20\n",
      "300/300 [==============================] - 122s 406ms/step - loss: 0.0197 - mean_squared_error: 0.0197 - val_loss: 0.5284 - val_mean_squared_error: 0.5284\n",
      "Epoch 17/20\n",
      "300/300 [==============================] - 115s 384ms/step - loss: 0.0168 - mean_squared_error: 0.0168 - val_loss: 0.2470 - val_mean_squared_error: 0.2470\n",
      "Epoch 18/20\n",
      "300/300 [==============================] - 118s 392ms/step - loss: 0.0139 - mean_squared_error: 0.0139 - val_loss: 0.4012 - val_mean_squared_error: 0.4012\n",
      "Epoch 19/20\n",
      "300/300 [==============================] - 119s 396ms/step - loss: 0.0116 - mean_squared_error: 0.0116 - val_loss: 2.4408 - val_mean_squared_error: 2.4408\n",
      "Epoch 20/20\n",
      "300/300 [==============================] - 123s 409ms/step - loss: 0.0096 - mean_squared_error: 0.0096 - val_loss: 0.8301 - val_mean_squared_error: 0.8301\n"
     ]
    }
   ],
   "source": [
    "regressor2 = Sequential()\n",
    "\n",
    "regressor2.add(Conv2D(256,(3,3),input_shape=(72,72,1,),padding=\"same\", activation='relu'))\n",
    "regressor2.add(BatchNormalization())\n",
    "regressor2.add(MaxPooling2D(pool_size=(2,2)))\n",
    "\n",
    "regressor2.add(Conv2D(256,(3,3),input_shape=(72,72,1,), padding=\"same\",activation='relu'))\n",
    "regressor2.add(BatchNormalization())\n",
    "regressor2.add(MaxPooling2D(pool_size=(2,2)))\n",
    "\n",
    "regressor2.add(Conv2D(256,(3,3),input_shape=(72,72,1,), padding=\"same\",activation='relu'))\n",
    "regressor2.add(BatchNormalization())\n",
    "regressor2.add(MaxPooling2D(pool_size=(2,2)))\n",
    "\n",
    "\n",
    "regressor2.add(Flatten())\n",
    "regressor2.add(Dense(units=64, kernel_initializer=\"uniform\", activation=\"relu\"))\n",
    "regressor2.add(BatchNormalization())\n",
    "regressor2.add(Dense(units=6, kernel_initializer=\"uniform\"))\n",
    "regressor2.compile(loss='mse', optimizer='adam', metrics= [\"mse\"])\n",
    "history=regressor2.fit(X_Train,Y_train,batch_size=32, validation_data=(X_re, Y_re),epochs=20)"
   ]
  },
  {
   "cell_type": "code",
   "execution_count": 201,
   "metadata": {
    "collapsed": true
   },
   "outputs": [],
   "source": [
    "X_Test = X_test.reshape([-1, 72,72,1])"
   ]
  },
  {
   "cell_type": "code",
   "execution_count": 202,
   "metadata": {
    "collapsed": true
   },
   "outputs": [],
   "source": [
    "Y_pred=regressor2.predict(X_Test)"
   ]
  },
  {
   "cell_type": "markdown",
   "metadata": {},
   "source": [
    "Visualize the prediction:"
   ]
  },
  {
   "cell_type": "code",
   "execution_count": 203,
   "metadata": {},
   "outputs": [
    {
     "name": "stdout",
     "output_type": "stream",
     "text": [
      "[[0.94133439 0.93818117]\n",
      " [0.67661723 0.27556678]\n",
      " [0.36340393 0.33217252]]\n"
     ]
    },
    {
     "data": {
      "image/png": "[encoded data removed]",
      "text/plain": [
       "<matplotlib.figure.Figure at 0x1824aee710>"
      ]
     },
     "metadata": {},
     "output_type": "display_data"
    },
    {
     "name": "stdout",
     "output_type": "stream",
     "text": [
      "[[ 0.07798275 -0.05685088]\n",
      " [ 0.91880643  1.1643611 ]\n",
      " [ 0.7295503   0.04006678]]\n"
     ]
    },
    {
     "data": {
      "image/png": "[encoded data removed]",
      "text/plain": [
       "<matplotlib.figure.Figure at 0x1825f39a90>"
      ]
     },
     "metadata": {},
     "output_type": "display_data"
    }
   ],
   "source": [
    "visualize_prediction(X_test[0], Y_test[0])\n",
    "visualize_prediction(X_test[0], Y_pred[0])"
   ]
  },
  {
   "cell_type": "markdown",
   "metadata": {},
   "source": [
    "## Denoise with an hourglass network"
   ]
  },
  {
   "cell_type": "code",
   "execution_count": 204,
   "metadata": {
    "collapsed": true
   },
   "outputs": [],
   "source": [
    "def generate_a_drawing_denoise(figsize, U, V, noise=0.0):\n",
    "    fig = plt.figure(figsize=(figsize, figsize))\n",
    "    ax = plt.subplot(111)\n",
    "    plt.axis('Off')\n",
    "    ax.set_xlim(0, figsize)\n",
    "    ax.set_ylim(0, figsize)\n",
    "    ax.fill(U, V, \"k\")\n",
    "    fig.canvas.draw()\n",
    "    imdata = np.frombuffer(fig.canvas.tostring_rgb(), dtype=np.uint8)[\n",
    "        ::3].astype(np.float32)\n",
    "    imdatan = imdata + noise * np.random.random(imdata.size)\n",
    "    plt.close(fig)\n",
    "    return imdatan, imdata"
   ]
  },
  {
   "cell_type": "code",
   "execution_count": 205,
   "metadata": {
    "collapsed": true
   },
   "outputs": [],
   "source": [
    "def generate_a_triangle_denoise(noise=0.0, free_location=False):\n",
    "    figsize = 1.0\n",
    "    if free_location:\n",
    "        U = np.random.random(3)\n",
    "        V = np.random.random(3)\n",
    "    else:\n",
    "        size = (0.3 + 0.7 * np.random.random()) * figsize / 2\n",
    "        middle = figsize / 2\n",
    "        U = (middle, middle + size, middle - size)\n",
    "        V = (middle + size, middle - size, middle - size)\n",
    "    imdatan, imdata = generate_a_drawing_denoise(figsize, U, V, noise)\n",
    "    return [imdatan,imdata, [U[0], V[0], U[1], V[1], U[2], V[2]]]"
   ]
  },
  {
   "cell_type": "code",
   "execution_count": 206,
   "metadata": {
    "collapsed": true
   },
   "outputs": [],
   "source": [
    "def generate_a_rectangle_denoise(noise=0.0, free_location=False):\n",
    "    figsize = 1.0\n",
    "    U = np.zeros(4)\n",
    "    V = np.zeros(4)\n",
    "    if free_location:\n",
    "        corners = np.random.random(4)\n",
    "        top = max(corners[0], corners[1])\n",
    "        bottom = min(corners[0], corners[1])\n",
    "        left = min(corners[2], corners[3])\n",
    "        right = max(corners[2], corners[3])\n",
    "    else:\n",
    "        side = (0.3 + 0.7 * np.random.random()) * figsize\n",
    "        top = figsize / 2 + side / 2\n",
    "        bottom = figsize / 2 - side / 2\n",
    "        left = bottom\n",
    "        right = top\n",
    "    U[0] = U[1] = top\n",
    "    U[2] = U[3] = bottom\n",
    "    V[0] = V[3] = left\n",
    "    V[1] = V[2] = right\n",
    "    return generate_a_drawing_denoise(figsize, U, V, noise)"
   ]
  },
  {
   "cell_type": "code",
   "execution_count": 207,
   "metadata": {
    "collapsed": true
   },
   "outputs": [],
   "source": [
    "def generate_a_disk_denoise(noise=0.0, free_location=False):\n",
    "    figsize = 1.0\n",
    "    if free_location:\n",
    "        center = np.random.random(2)\n",
    "    else:\n",
    "        center = (figsize / 2, figsize / 2)\n",
    "    radius = (0.3 + 0.7 * np.random.random()) * figsize / 2\n",
    "    N = 50\n",
    "    U = np.zeros(N)\n",
    "    V = np.zeros(N)\n",
    "    i = 0\n",
    "    for t in np.linspace(0, 2 * np.pi, N):\n",
    "        U[i] = center[0] + np.cos(t) * radius\n",
    "        V[i] = center[1] + np.sin(t) * radius\n",
    "        i = i + 1\n",
    "    return generate_a_drawing_denoise(figsize, U, V, noise)"
   ]
  },
  {
   "cell_type": "code",
   "execution_count": 208,
   "metadata": {
    "collapsed": true
   },
   "outputs": [],
   "source": [
    "def generate_dataset_denoise(nb_samples, noise=0.0, free_location=False):\n",
    "    # Getting im_size:\n",
    "    im_size = generate_a_rectangle_denoise()[0].shape[0]\n",
    "    X = np.zeros([nb_samples, im_size])\n",
    "    Y = np.zeros([nb_samples, im_size])\n",
    "    print('Creating data:')\n",
    "    for i in range(nb_samples):\n",
    "        if i % 100 == 0:\n",
    "            print(i)\n",
    "        category = np.random.randint(3)\n",
    "        if category == 0:\n",
    "            X[i], Y[i] = generate_a_rectangle_denoise(noise, free_location)\n",
    "        elif category == 1:\n",
    "            X[i],Y[i] = generate_a_disk_denoise(noise, free_location)\n",
    "        else:\n",
    "            [X[i],Y[i], V] = generate_a_triangle_denoise(noise, free_location)\n",
    "    X = (X + noise) / (255 + 2 * noise)\n",
    "    Y = Y/255\n",
    "    return [X, Y]"
   ]
  },
  {
   "cell_type": "code",
   "execution_count": 209,
   "metadata": {},
   "outputs": [
    {
     "name": "stdout",
     "output_type": "stream",
     "text": [
      "Creating data:\n",
      "0\n",
      "100\n",
      "200\n",
      "300\n",
      "400\n"
     ]
    }
   ],
   "source": [
    "[X_train7,Y_train7]=generate_dataset_denoise(500,20,True)"
   ]
  },
  {
   "cell_type": "code",
   "execution_count": 211,
   "metadata": {},
   "outputs": [
    {
     "data": {
      "text/plain": [
       "<matplotlib.image.AxesImage at 0x183b39f7b8>"
      ]
     },
     "execution_count": 211,
     "metadata": {},
     "output_type": "execute_result"
    },
    {
     "data": {
      "image/png": "[encoded data removed]",
      "text/plain": [
       "<matplotlib.figure.Figure at 0x183b287be0>"
      ]
     },
     "metadata": {},
     "output_type": "display_data"
    }
   ],
   "source": [
    "plt.imshow(Y_train7[400].reshape(IMAGE_SIZE, IMAGE_SIZE), cmap='gray')"
   ]
  },
  {
   "cell_type": "code",
   "execution_count": 212,
   "metadata": {},
   "outputs": [
    {
     "data": {
      "text/plain": [
       "<matplotlib.image.AxesImage at 0x183b47a0b8>"
      ]
     },
     "execution_count": 212,
     "metadata": {},
     "output_type": "execute_result"
    },
    {
     "data": {
      "image/png": "[encoded data removed]",
      "text/plain": [
       "<matplotlib.figure.Figure at 0x183b3a9b00>"
      ]
     },
     "metadata": {},
     "output_type": "display_data"
    }
   ],
   "source": [
    "plt.imshow(X_train7[400].reshape(IMAGE_SIZE, IMAGE_SIZE), cmap='gray')"
   ]
  },
  {
   "cell_type": "code",
   "execution_count": 213,
   "metadata": {
    "collapsed": true
   },
   "outputs": [],
   "source": [
    "X_train7 = X_train7.reshape(X_train7.shape[0],72,72,1)\n",
    "Y_train7 = Y_train7.reshape(Y_train7.shape[0],72,72,1)"
   ]
  },
  {
   "cell_type": "code",
   "execution_count": 214,
   "metadata": {
    "collapsed": true
   },
   "outputs": [],
   "source": [
    "from keras.layers import UpSampling2D"
   ]
  },
  {
   "cell_type": "markdown",
   "metadata": {},
   "source": [
    "Create the convultional model: "
   ]
  },
  {
   "cell_type": "code",
   "execution_count": 215,
   "metadata": {
    "collapsed": true
   },
   "outputs": [],
   "source": [
    "model7 = Sequential()\n",
    "model7.add(Conv2D(32,(3, 3), activation='relu',padding = 'same' ,input_shape=(72,72,1)))\n",
    "model7.add(MaxPooling2D(pool_size=(2, 2)))\n",
    "model7.add(Conv2D(32,(3,3), activation = 'relu', padding = 'same'))\n",
    "model7.add(MaxPooling2D(pool_size=(2,2)))\n",
    "\n",
    "model7.add(Conv2D(32, kernel_size=(3, 3), activation='relu', padding = 'same'))\n",
    "model7.add(UpSampling2D(size=(2, 2)))\n",
    "model7.add(Conv2D(32, kernel_size=(3, 3), activation='relu', padding = 'same'))\n",
    "model7.add(UpSampling2D(size=(2, 2)))\n",
    "model7.add(Conv2D(1, kernel_size=(3, 3), activation='sigmoid', padding = 'same'))"
   ]
  },
  {
   "cell_type": "code",
   "execution_count": 216,
   "metadata": {
    "collapsed": true
   },
   "outputs": [],
   "source": [
    "model7.compile(optimizer='adadelta',loss='binary_crossentropy',metrics=['accuracy'])"
   ]
  },
  {
   "cell_type": "code",
   "execution_count": 217,
   "metadata": {},
   "outputs": [
    {
     "name": "stdout",
     "output_type": "stream",
     "text": [
      "Epoch 1/200\n",
      "500/500 [==============================] - 12s 25ms/step - loss: 0.4676 - acc: 0.8667\n",
      "Epoch 2/200\n",
      "500/500 [==============================] - 11s 22ms/step - loss: 0.2091 - acc: 0.9116\n",
      "Epoch 3/200\n",
      "500/500 [==============================] - 11s 21ms/step - loss: 0.1678 - acc: 0.9277\n",
      "Epoch 4/200\n",
      "500/500 [==============================] - 10s 21ms/step - loss: 0.1052 - acc: 0.9725\n",
      "Epoch 5/200\n",
      "500/500 [==============================] - 11s 23ms/step - loss: 0.0761 - acc: 0.9757\n",
      "Epoch 6/200\n",
      "500/500 [==============================] - 10s 20ms/step - loss: 0.0589 - acc: 0.9785\n",
      "Epoch 7/200\n",
      "500/500 [==============================] - 10s 20ms/step - loss: 0.0413 - acc: 0.9849\n",
      "Epoch 8/200\n",
      "500/500 [==============================] - 10s 21ms/step - loss: 0.0411 - acc: 0.9845\n",
      "Epoch 9/200\n",
      "500/500 [==============================] - 10s 20ms/step - loss: 0.0320 - acc: 0.9885\n",
      "Epoch 10/200\n",
      "500/500 [==============================] - 10s 20ms/step - loss: 0.0373 - acc: 0.9859\n",
      "Epoch 11/200\n",
      "500/500 [==============================] - 11s 22ms/step - loss: 0.0240 - acc: 0.9920\n",
      "Epoch 12/200\n",
      "500/500 [==============================] - 10s 19ms/step - loss: 0.0359 - acc: 0.9860\n",
      "Epoch 13/200\n",
      "500/500 [==============================] - 10s 20ms/step - loss: 0.0240 - acc: 0.9914\n",
      "Epoch 14/200\n",
      "500/500 [==============================] - 11s 21ms/step - loss: 0.0289 - acc: 0.9885\n",
      "Epoch 15/200\n",
      "500/500 [==============================] - 10s 20ms/step - loss: 0.0227 - acc: 0.9918\n",
      "Epoch 16/200\n",
      "500/500 [==============================] - 10s 20ms/step - loss: 0.0279 - acc: 0.9885\n",
      "Epoch 17/200\n",
      "500/500 [==============================] - 9s 19ms/step - loss: 0.0186 - acc: 0.9937\n",
      "Epoch 18/200\n",
      "500/500 [==============================] - 10s 20ms/step - loss: 0.0289 - acc: 0.9887\n",
      "Epoch 19/200\n",
      "500/500 [==============================] - 9s 19ms/step - loss: 0.0198 - acc: 0.9929\n",
      "Epoch 20/200\n",
      "500/500 [==============================] - 10s 21ms/step - loss: 0.0160 - acc: 0.9948\n",
      "Epoch 21/200\n",
      "500/500 [==============================] - 11s 21ms/step - loss: 0.0248 - acc: 0.9901\n",
      "Epoch 22/200\n",
      "500/500 [==============================] - 9s 18ms/step - loss: 0.0194 - acc: 0.9926\n",
      "Epoch 23/200\n",
      "500/500 [==============================] - 9s 19ms/step - loss: 0.0187 - acc: 0.9929\n",
      "Epoch 24/200\n",
      "500/500 [==============================] - 9s 19ms/step - loss: 0.0223 - acc: 0.9911\n",
      "Epoch 25/200\n",
      "500/500 [==============================] - 10s 20ms/step - loss: 0.0203 - acc: 0.9919\n",
      "Epoch 26/200\n",
      "500/500 [==============================] - 10s 20ms/step - loss: 0.0166 - acc: 0.9939\n",
      "Epoch 27/200\n",
      "500/500 [==============================] - 11s 21ms/step - loss: 0.0178 - acc: 0.9930\n",
      "Epoch 28/200\n",
      "500/500 [==============================] - 11s 21ms/step - loss: 0.0198 - acc: 0.9920\n",
      "Epoch 29/200\n",
      "500/500 [==============================] - 9s 18ms/step - loss: 0.0151 - acc: 0.9944\n",
      "Epoch 30/200\n",
      "500/500 [==============================] - 9s 18ms/step - loss: 0.0167 - acc: 0.9934\n",
      "Epoch 31/200\n",
      "500/500 [==============================] - 10s 19ms/step - loss: 0.0211 - acc: 0.9911\n",
      "Epoch 32/200\n",
      "500/500 [==============================] - 9s 18ms/step - loss: 0.0133 - acc: 0.9954\n",
      "Epoch 33/200\n",
      "500/500 [==============================] - 10s 21ms/step - loss: 0.0181 - acc: 0.9927\n",
      "Epoch 34/200\n",
      "500/500 [==============================] - 10s 19ms/step - loss: 0.0152 - acc: 0.9938\n",
      "Epoch 35/200\n",
      "500/500 [==============================] - 9s 19ms/step - loss: 0.0131 - acc: 0.9951\n",
      "Epoch 36/200\n",
      "500/500 [==============================] - 10s 19ms/step - loss: 0.0166 - acc: 0.9930\n",
      "Epoch 37/200\n",
      "500/500 [==============================] - 10s 19ms/step - loss: 0.0167 - acc: 0.9931\n",
      "Epoch 38/200\n",
      "500/500 [==============================] - 10s 19ms/step - loss: 0.0120 - acc: 0.9957\n",
      "Epoch 39/200\n",
      "500/500 [==============================] - 10s 20ms/step - loss: 0.0102 - acc: 0.9966\n",
      "Epoch 40/200\n",
      "500/500 [==============================] - 10s 19ms/step - loss: 0.0112 - acc: 0.9959\n",
      "Epoch 41/200\n",
      "500/500 [==============================] - 10s 19ms/step - loss: 0.0228 - acc: 0.9906\n",
      "Epoch 42/200\n",
      "500/500 [==============================] - 10s 19ms/step - loss: 0.0102 - acc: 0.9966\n",
      "Epoch 43/200\n",
      "500/500 [==============================] - 10s 20ms/step - loss: 0.0095 - acc: 0.9968\n",
      "Epoch 44/200\n",
      "500/500 [==============================] - 10s 20ms/step - loss: 0.0134 - acc: 0.9945\n",
      "Epoch 45/200\n",
      "500/500 [==============================] - 11s 23ms/step - loss: 0.0152 - acc: 0.9935\n",
      "Epoch 46/200\n",
      "500/500 [==============================] - 10s 21ms/step - loss: 0.0116 - acc: 0.9954\n",
      "Epoch 47/200\n",
      "500/500 [==============================] - 11s 23ms/step - loss: 0.0091 - acc: 0.9969\n",
      "Epoch 48/200\n",
      "500/500 [==============================] - 10s 20ms/step - loss: 0.0116 - acc: 0.9954\n",
      "Epoch 49/200\n",
      "500/500 [==============================] - 10s 20ms/step - loss: 0.0161 - acc: 0.9931\n",
      "Epoch 50/200\n",
      "500/500 [==============================] - 9s 19ms/step - loss: 0.0103 - acc: 0.9962\n",
      "Epoch 51/200\n",
      "500/500 [==============================] - 10s 19ms/step - loss: 0.0082 - acc: 0.9972\n",
      "Epoch 52/200\n",
      "500/500 [==============================] - 12s 23ms/step - loss: 0.0083 - acc: 0.9971\n",
      "Epoch 53/200\n",
      "500/500 [==============================] - 9s 19ms/step - loss: 0.0189 - acc: 0.9918\n",
      "Epoch 54/200\n",
      "500/500 [==============================] - 9s 18ms/step - loss: 0.0090 - acc: 0.9968\n",
      "Epoch 55/200\n",
      "500/500 [==============================] - 9s 18ms/step - loss: 0.0078 - acc: 0.9973\n",
      "Epoch 56/200\n",
      "500/500 [==============================] - 10s 21ms/step - loss: 0.0074 - acc: 0.9975\n",
      "Epoch 57/200\n",
      "500/500 [==============================] - 9s 18ms/step - loss: 0.0114 - acc: 0.9953\n",
      "Epoch 58/200\n",
      "500/500 [==============================] - 9s 18ms/step - loss: 0.0151 - acc: 0.9936\n",
      "Epoch 59/200\n",
      "500/500 [==============================] - 9s 19ms/step - loss: 0.0074 - acc: 0.9975\n",
      "Epoch 60/200\n",
      "500/500 [==============================] - 9s 18ms/step - loss: 0.0070 - acc: 0.9976\n",
      "Epoch 61/200\n",
      "500/500 [==============================] - 9s 18ms/step - loss: 0.0087 - acc: 0.9966\n",
      "Epoch 62/200\n",
      "500/500 [==============================] - 9s 19ms/step - loss: 0.0127 - acc: 0.9946\n",
      "Epoch 63/200\n",
      "500/500 [==============================] - 9s 18ms/step - loss: 0.0074 - acc: 0.9972\n",
      "Epoch 64/200\n",
      "500/500 [==============================] - 9s 19ms/step - loss: 0.0065 - acc: 0.9978\n",
      "Epoch 65/200\n",
      "500/500 [==============================] - 9s 19ms/step - loss: 0.0079 - acc: 0.9969\n",
      "Epoch 66/200\n",
      "500/500 [==============================] - 9s 18ms/step - loss: 0.0120 - acc: 0.9949\n",
      "Epoch 67/200\n",
      "500/500 [==============================] - 9s 18ms/step - loss: 0.0072 - acc: 0.9973\n",
      "Epoch 68/200\n",
      "500/500 [==============================] - 9s 19ms/step - loss: 0.0063 - acc: 0.9978\n",
      "Epoch 69/200\n",
      "500/500 [==============================] - 9s 19ms/step - loss: 0.0068 - acc: 0.9974\n",
      "Epoch 70/200\n",
      "500/500 [==============================] - 10s 20ms/step - loss: 0.0149 - acc: 0.9934\n",
      "Epoch 71/200\n",
      "500/500 [==============================] - 9s 19ms/step - loss: 0.0075 - acc: 0.9972\n",
      "Epoch 72/200\n",
      "500/500 [==============================] - 9s 18ms/step - loss: 0.0059 - acc: 0.9979\n",
      "Epoch 73/200\n",
      "500/500 [==============================] - 9s 18ms/step - loss: 0.0058 - acc: 0.9979\n",
      "Epoch 74/200\n",
      "500/500 [==============================] - 9s 18ms/step - loss: 0.0057 - acc: 0.9979\n",
      "Epoch 75/200\n",
      "500/500 [==============================] - 9s 18ms/step - loss: 0.0122 - acc: 0.9947\n",
      "Epoch 76/200\n",
      "500/500 [==============================] - 9s 18ms/step - loss: 0.0091 - acc: 0.9963\n",
      "Epoch 77/200\n",
      "500/500 [==============================] - 9s 18ms/step - loss: 0.0055 - acc: 0.9981\n",
      "Epoch 78/200\n",
      "500/500 [==============================] - 9s 18ms/step - loss: 0.0053 - acc: 0.9981\n",
      "Epoch 79/200\n",
      "500/500 [==============================] - 9s 19ms/step - loss: 0.0052 - acc: 0.9982\n",
      "Epoch 80/200\n",
      "500/500 [==============================] - 9s 18ms/step - loss: 0.0050 - acc: 0.9982\n",
      "Epoch 81/200\n",
      "500/500 [==============================] - 9s 18ms/step - loss: 0.0051 - acc: 0.9982\n",
      "Epoch 82/200\n",
      "500/500 [==============================] - 9s 18ms/step - loss: 0.0136 - acc: 0.9941\n",
      "Epoch 83/200\n",
      "500/500 [==============================] - 10s 19ms/step - loss: 0.0073 - acc: 0.9970\n",
      "Epoch 84/200\n"
     ]
    },
    {
     "name": "stdout",
     "output_type": "stream",
     "text": [
      "500/500 [==============================] - 9s 19ms/step - loss: 0.0050 - acc: 0.9983\n",
      "Epoch 85/200\n",
      "500/500 [==============================] - 9s 19ms/step - loss: 0.0048 - acc: 0.9983\n",
      "Epoch 86/200\n",
      "500/500 [==============================] - 10s 20ms/step - loss: 0.0047 - acc: 0.9983\n",
      "Epoch 87/200\n",
      "500/500 [==============================] - 10s 19ms/step - loss: 0.0046 - acc: 0.9983\n",
      "Epoch 88/200\n",
      "500/500 [==============================] - 9s 18ms/step - loss: 0.0048 - acc: 0.9982\n",
      "Epoch 89/200\n",
      "500/500 [==============================] - 9s 18ms/step - loss: 0.0125 - acc: 0.9947\n",
      "Epoch 90/200\n",
      "500/500 [==============================] - 9s 18ms/step - loss: 0.0059 - acc: 0.9977\n",
      "Epoch 91/200\n",
      "500/500 [==============================] - 9s 18ms/step - loss: 0.0046 - acc: 0.9984\n",
      "Epoch 92/200\n",
      "500/500 [==============================] - 10s 19ms/step - loss: 0.0045 - acc: 0.9984\n",
      "Epoch 93/200\n",
      "500/500 [==============================] - 9s 18ms/step - loss: 0.0044 - acc: 0.9984\n",
      "Epoch 94/200\n",
      "500/500 [==============================] - 9s 18ms/step - loss: 0.0051 - acc: 0.9980\n",
      "Epoch 95/200\n",
      "500/500 [==============================] - 9s 18ms/step - loss: 0.0095 - acc: 0.9960\n",
      "Epoch 96/200\n",
      "500/500 [==============================] - 9s 19ms/step - loss: 0.0072 - acc: 0.9970\n",
      "Epoch 97/200\n",
      "500/500 [==============================] - 10s 19ms/step - loss: 0.0044 - acc: 0.9984\n",
      "Epoch 98/200\n",
      "500/500 [==============================] - 9s 18ms/step - loss: 0.0043 - acc: 0.9984\n",
      "Epoch 99/200\n",
      "500/500 [==============================] - 9s 19ms/step - loss: 0.0042 - acc: 0.9985\n",
      "Epoch 100/200\n",
      "500/500 [==============================] - 11s 21ms/step - loss: 0.0042 - acc: 0.9984\n",
      "Epoch 101/200\n",
      "500/500 [==============================] - 10s 20ms/step - loss: 0.0104 - acc: 0.9957\n",
      "Epoch 102/200\n",
      "500/500 [==============================] - 10s 20ms/step - loss: 0.0065 - acc: 0.9973\n",
      "Epoch 103/200\n",
      "500/500 [==============================] - 11s 21ms/step - loss: 0.0041 - acc: 0.9985\n",
      "Epoch 104/200\n",
      "500/500 [==============================] - 10s 20ms/step - loss: 0.0040 - acc: 0.9985\n",
      "Epoch 105/200\n",
      "500/500 [==============================] - 11s 22ms/step - loss: 0.0039 - acc: 0.9986\n",
      "Epoch 106/200\n",
      "500/500 [==============================] - 10s 20ms/step - loss: 0.0039 - acc: 0.9986\n",
      "Epoch 107/200\n",
      "500/500 [==============================] - 10s 21ms/step - loss: 0.0045 - acc: 0.9983\n",
      "Epoch 108/200\n",
      "500/500 [==============================] - 9s 19ms/step - loss: 0.0111 - acc: 0.9954\n",
      "Epoch 109/200\n",
      "500/500 [==============================] - 9s 18ms/step - loss: 0.0071 - acc: 0.9972\n",
      "Epoch 110/200\n",
      "500/500 [==============================] - 10s 20ms/step - loss: 0.0039 - acc: 0.9986\n",
      "Epoch 111/200\n",
      "500/500 [==============================] - 10s 20ms/step - loss: 0.0038 - acc: 0.9986\n",
      "Epoch 112/200\n",
      "500/500 [==============================] - 11s 22ms/step - loss: 0.0037 - acc: 0.9986\n",
      "Epoch 113/200\n",
      "500/500 [==============================] - 12s 23ms/step - loss: 0.0037 - acc: 0.9987\n",
      "Epoch 114/200\n",
      "500/500 [==============================] - 10s 20ms/step - loss: 0.0037 - acc: 0.9986\n",
      "Epoch 115/200\n",
      "500/500 [==============================] - 10s 20ms/step - loss: 0.0069 - acc: 0.9971\n",
      "Epoch 116/200\n",
      "500/500 [==============================] - 9s 18ms/step - loss: 0.0066 - acc: 0.9971\n",
      "Epoch 117/200\n",
      "500/500 [==============================] - 12s 24ms/step - loss: 0.0043 - acc: 0.9983\n",
      "Epoch 118/200\n",
      "500/500 [==============================] - 12s 24ms/step - loss: 0.0036 - acc: 0.9987\n",
      "Epoch 119/200\n",
      "500/500 [==============================] - 11s 23ms/step - loss: 0.0036 - acc: 0.9987\n",
      "Epoch 120/200\n",
      "500/500 [==============================] - 12s 24ms/step - loss: 0.0035 - acc: 0.9987\n",
      "Epoch 121/200\n",
      "500/500 [==============================] - 10s 20ms/step - loss: 0.0045 - acc: 0.9982\n",
      "Epoch 122/200\n",
      "500/500 [==============================] - 9s 19ms/step - loss: 0.0132 - acc: 0.9946\n",
      "Epoch 123/200\n",
      "500/500 [==============================] - 9s 19ms/step - loss: 0.0037 - acc: 0.9987\n",
      "Epoch 124/200\n",
      "500/500 [==============================] - 9s 19ms/step - loss: 0.0035 - acc: 0.9988\n",
      "Epoch 125/200\n",
      "500/500 [==============================] - 9s 19ms/step - loss: 0.0034 - acc: 0.9988\n",
      "Epoch 126/200\n",
      "500/500 [==============================] - 10s 19ms/step - loss: 0.0034 - acc: 0.9988\n",
      "Epoch 127/200\n",
      "500/500 [==============================] - 10s 19ms/step - loss: 0.0033 - acc: 0.9988\n",
      "Epoch 128/200\n",
      "500/500 [==============================] - 9s 19ms/step - loss: 0.0033 - acc: 0.9988\n",
      "Epoch 129/200\n",
      "500/500 [==============================] - 10s 20ms/step - loss: 0.0034 - acc: 0.9987\n",
      "Epoch 130/200\n",
      "500/500 [==============================] - 9s 19ms/step - loss: 0.0067 - acc: 0.9972\n",
      "Epoch 131/200\n",
      "500/500 [==============================] - 11s 22ms/step - loss: 0.0106 - acc: 0.9956\n",
      "Epoch 132/200\n",
      "500/500 [==============================] - 10s 21ms/step - loss: 0.0034 - acc: 0.9988\n",
      "Epoch 133/200\n",
      "500/500 [==============================] - 9s 19ms/step - loss: 0.0033 - acc: 0.9989\n",
      "Epoch 134/200\n",
      "500/500 [==============================] - 9s 18ms/step - loss: 0.0032 - acc: 0.9989\n",
      "Epoch 135/200\n",
      "500/500 [==============================] - 9s 18ms/step - loss: 0.0032 - acc: 0.9989\n",
      "Epoch 136/200\n",
      "500/500 [==============================] - 11s 22ms/step - loss: 0.0032 - acc: 0.9988\n",
      "Epoch 137/200\n",
      "500/500 [==============================] - 13s 26ms/step - loss: 0.0040 - acc: 0.9983\n",
      "Epoch 138/200\n",
      "500/500 [==============================] - 10s 21ms/step - loss: 0.0088 - acc: 0.9963\n",
      "Epoch 139/200\n",
      "500/500 [==============================] - 10s 20ms/step - loss: 0.0040 - acc: 0.9985\n",
      "Epoch 140/200\n",
      "500/500 [==============================] - 9s 19ms/step - loss: 0.0031 - acc: 0.9989\n",
      "Epoch 141/200\n",
      "500/500 [==============================] - 10s 21ms/step - loss: 0.0031 - acc: 0.9989\n",
      "Epoch 142/200\n",
      "500/500 [==============================] - 10s 21ms/step - loss: 0.0030 - acc: 0.9989\n",
      "Epoch 143/200\n",
      "500/500 [==============================] - 10s 20ms/step - loss: 0.0030 - acc: 0.9989\n",
      "Epoch 144/200\n",
      "500/500 [==============================] - 9s 19ms/step - loss: 0.0039 - acc: 0.9984\n",
      "Epoch 145/200\n",
      "500/500 [==============================] - 10s 20ms/step - loss: 0.0115 - acc: 0.9953\n",
      "Epoch 146/200\n",
      "500/500 [==============================] - 10s 20ms/step - loss: 0.0039 - acc: 0.9986\n",
      "Epoch 147/200\n",
      "500/500 [==============================] - 10s 20ms/step - loss: 0.0030 - acc: 0.9990\n",
      "Epoch 148/200\n",
      "500/500 [==============================] - 10s 19ms/step - loss: 0.0030 - acc: 0.9990\n",
      "Epoch 149/200\n",
      "500/500 [==============================] - 10s 20ms/step - loss: 0.0029 - acc: 0.9990\n",
      "Epoch 150/200\n",
      "500/500 [==============================] - 10s 19ms/step - loss: 0.0029 - acc: 0.9990\n",
      "Epoch 151/200\n",
      "500/500 [==============================] - 10s 20ms/step - loss: 0.0032 - acc: 0.9988\n",
      "Epoch 152/200\n",
      "500/500 [==============================] - 10s 21ms/step - loss: 0.0039 - acc: 0.9984\n",
      "Epoch 153/200\n",
      "500/500 [==============================] - 12s 23ms/step - loss: 0.0084 - acc: 0.9965\n",
      "Epoch 154/200\n",
      "500/500 [==============================] - 13s 26ms/step - loss: 0.0120 - acc: 0.9952\n",
      "Epoch 155/200\n",
      "500/500 [==============================] - 10s 21ms/step - loss: 0.0031 - acc: 0.9990\n",
      "Epoch 156/200\n",
      "500/500 [==============================] - 9s 19ms/step - loss: 0.0030 - acc: 0.9990\n",
      "Epoch 157/200\n",
      "500/500 [==============================] - 11s 22ms/step - loss: 0.0029 - acc: 0.9990\n",
      "Epoch 158/200\n",
      "500/500 [==============================] - 10s 21ms/step - loss: 0.0028 - acc: 0.9990\n",
      "Epoch 159/200\n",
      "500/500 [==============================] - 9s 18ms/step - loss: 0.0028 - acc: 0.9990\n",
      "Epoch 160/200\n",
      "500/500 [==============================] - 11s 21ms/step - loss: 0.0028 - acc: 0.9990\n",
      "Epoch 161/200\n",
      "500/500 [==============================] - 12s 23ms/step - loss: 0.0027 - acc: 0.9990\n",
      "Epoch 162/200\n",
      "500/500 [==============================] - 11s 23ms/step - loss: 0.0028 - acc: 0.9990\n",
      "Epoch 163/200\n",
      "500/500 [==============================] - 13s 25ms/step - loss: 0.0065 - acc: 0.9973\n",
      "Epoch 164/200\n",
      "500/500 [==============================] - 11s 22ms/step - loss: 0.0091 - acc: 0.9962\n",
      "Epoch 165/200\n",
      "500/500 [==============================] - 8s 16ms/step - loss: 0.0029 - acc: 0.9990\n",
      "Epoch 166/200\n"
     ]
    },
    {
     "name": "stdout",
     "output_type": "stream",
     "text": [
      "500/500 [==============================] - 9s 18ms/step - loss: 0.0027 - acc: 0.9991\n",
      "Epoch 167/200\n",
      "500/500 [==============================] - 9s 17ms/step - loss: 0.0027 - acc: 0.9991\n",
      "Epoch 168/200\n",
      "500/500 [==============================] - 8s 17ms/step - loss: 0.0027 - acc: 0.9991\n",
      "Epoch 169/200\n",
      "500/500 [==============================] - 8s 16ms/step - loss: 0.0026 - acc: 0.9991\n",
      "Epoch 170/200\n",
      "500/500 [==============================] - 8s 17ms/step - loss: 0.0026 - acc: 0.9991\n",
      "Epoch 171/200\n",
      "500/500 [==============================] - 9s 17ms/step - loss: 0.0042 - acc: 0.9982\n",
      "Epoch 172/200\n",
      "500/500 [==============================] - 9s 18ms/step - loss: 0.0076 - acc: 0.9968\n",
      "Epoch 173/200\n",
      "500/500 [==============================] - 9s 18ms/step - loss: 0.0039 - acc: 0.9984\n",
      "Epoch 174/200\n",
      "500/500 [==============================] - 9s 17ms/step - loss: 0.0027 - acc: 0.9991\n",
      "Epoch 175/200\n",
      "500/500 [==============================] - 9s 18ms/step - loss: 0.0026 - acc: 0.9991\n",
      "Epoch 176/200\n",
      "500/500 [==============================] - 10s 20ms/step - loss: 0.0025 - acc: 0.9991\n",
      "Epoch 177/200\n",
      "500/500 [==============================] - 10s 21ms/step - loss: 0.0025 - acc: 0.9991\n",
      "Epoch 178/200\n",
      "500/500 [==============================] - 11s 22ms/step - loss: 0.0025 - acc: 0.9991\n",
      "Epoch 179/200\n",
      "500/500 [==============================] - 11s 22ms/step - loss: 0.0029 - acc: 0.9989\n",
      "Epoch 180/200\n",
      "500/500 [==============================] - 10s 19ms/step - loss: 0.0091 - acc: 0.9963\n",
      "Epoch 181/200\n",
      "500/500 [==============================] - 8s 17ms/step - loss: 0.0063 - acc: 0.9974\n",
      "Epoch 182/200\n",
      "500/500 [==============================] - 9s 19ms/step - loss: 0.0026 - acc: 0.9992\n",
      "Epoch 183/200\n",
      "500/500 [==============================] - 9s 18ms/step - loss: 0.0025 - acc: 0.9992\n",
      "Epoch 184/200\n",
      "500/500 [==============================] - 9s 17ms/step - loss: 0.0024 - acc: 0.9992\n",
      "Epoch 185/200\n",
      "500/500 [==============================] - 9s 17ms/step - loss: 0.0024 - acc: 0.9992\n",
      "Epoch 186/200\n",
      "500/500 [==============================] - 9s 18ms/step - loss: 0.0024 - acc: 0.9992\n",
      "Epoch 187/200\n",
      "500/500 [==============================] - 11s 22ms/step - loss: 0.0025 - acc: 0.9991\n",
      "Epoch 188/200\n",
      "500/500 [==============================] - 11s 22ms/step - loss: 0.0033 - acc: 0.9986\n",
      "Epoch 189/200\n",
      "500/500 [==============================] - 12s 24ms/step - loss: 0.0081 - acc: 0.9967\n",
      "Epoch 190/200\n",
      "500/500 [==============================] - 9s 18ms/step - loss: 0.0029 - acc: 0.9989\n",
      "Epoch 191/200\n",
      "500/500 [==============================] - 9s 18ms/step - loss: 0.0024 - acc: 0.9992\n",
      "Epoch 192/200\n",
      "500/500 [==============================] - 10s 21ms/step - loss: 0.0024 - acc: 0.9992\n",
      "Epoch 193/200\n",
      "500/500 [==============================] - 10s 20ms/step - loss: 0.0023 - acc: 0.9992\n",
      "Epoch 194/200\n",
      "500/500 [==============================] - 9s 17ms/step - loss: 0.0023 - acc: 0.9992\n",
      "Epoch 195/200\n",
      "500/500 [==============================] - 9s 18ms/step - loss: 0.0023 - acc: 0.9992\n",
      "Epoch 196/200\n",
      "500/500 [==============================] - 9s 17ms/step - loss: 0.0036 - acc: 0.9985\n",
      "Epoch 197/200\n",
      "500/500 [==============================] - 10s 20ms/step - loss: 0.0094 - acc: 0.9963\n",
      "Epoch 198/200\n",
      "500/500 [==============================] - 10s 20ms/step - loss: 0.0121 - acc: 0.9954\n",
      "Epoch 199/200\n",
      "500/500 [==============================] - 9s 18ms/step - loss: 0.0026 - acc: 0.9992\n",
      "Epoch 200/200\n",
      "500/500 [==============================] - 8s 17ms/step - loss: 0.0024 - acc: 0.9992\n"
     ]
    },
    {
     "data": {
      "text/plain": [
       "<keras.callbacks.History at 0x183b489e48>"
      ]
     },
     "execution_count": 217,
     "metadata": {},
     "output_type": "execute_result"
    }
   ],
   "source": [
    "model7.fit(X_train7, Y_train7, epochs=200, batch_size=64)"
   ]
  },
  {
   "cell_type": "code",
   "execution_count": 218,
   "metadata": {
    "collapsed": true
   },
   "outputs": [],
   "source": [
    "Xmod = X_train7[9]"
   ]
  },
  {
   "cell_type": "code",
   "execution_count": 219,
   "metadata": {
    "collapsed": true
   },
   "outputs": [],
   "source": [
    "Xmod = Xmod.reshape(1,72,72,1)"
   ]
  },
  {
   "cell_type": "markdown",
   "metadata": {},
   "source": [
    "Plot the prediction: "
   ]
  },
  {
   "cell_type": "code",
   "execution_count": 220,
   "metadata": {
    "collapsed": true
   },
   "outputs": [],
   "source": [
    "prediction=model7.predict(Xmod)"
   ]
  },
  {
   "cell_type": "code",
   "execution_count": 221,
   "metadata": {
    "collapsed": true
   },
   "outputs": [],
   "source": [
    "prediction=prediction.reshape(72,72)"
   ]
  },
  {
   "cell_type": "code",
   "execution_count": 224,
   "metadata": {},
   "outputs": [
    {
     "data": {
      "text/plain": [
       "<matplotlib.image.AxesImage at 0x1828bc6470>"
      ]
     },
     "execution_count": 224,
     "metadata": {},
     "output_type": "execute_result"
    },
    {
     "data": {
      "image/png": "[encoded data removed]",
      "text/plain": [
       "<matplotlib.figure.Figure at 0x1828a33940>"
      ]
     },
     "metadata": {},
     "output_type": "display_data"
    }
   ],
   "source": [
    "plt.imshow(prediction, cmap='ocean')"
   ]
  },
  {
   "cell_type": "code",
   "execution_count": 226,
   "metadata": {},
   "outputs": [
    {
     "data": {
      "text/plain": [
       "<matplotlib.image.AxesImage at 0x182872a6d8>"
      ]
     },
     "execution_count": 226,
     "metadata": {},
     "output_type": "execute_result"
    },
    {
     "data": {
      "image/png": "[encoded data removed]",
      "text/plain": [
       "<matplotlib.figure.Figure at 0x1828cda470>"
      ]
     },
     "metadata": {},
     "output_type": "display_data"
    }
   ],
   "source": [
    "plt.imshow(prediction.reshape(72,72), cmap='ocean')"
   ]
  },
  {
   "cell_type": "code",
   "execution_count": null,
   "metadata": {
    "collapsed": true
   },
   "outputs": [],
   "source": []
  }
 ],
 "metadata": {
  "kernelspec": {
   "display_name": "Python 3",
   "language": "python",
   "name": "python3"
  },
  "language_info": {
   "codemirror_mode": {
    "name": "ipython",
    "version": 3
   },
   "file_extension": ".py",
   "mimetype": "text/x-python",
   "name": "python",
   "nbconvert_exporter": "python",
   "pygments_lexer": "ipython3",
   "version": "3.6.3"
  }
 },
 "nbformat": 4,
 "nbformat_minor": 2
}
