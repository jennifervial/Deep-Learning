{
 "cells": [
  {
   "cell_type": "markdown",
   "metadata": {},
   "source": [
    "**You may need to install [OpenCV](https://pypi.python.org/pypi/opencv-python) and [scikit-video](http://www.scikit-video.org/stable/).**"
   ]
  },
  {
   "cell_type": "code",
   "execution_count": 1,
   "metadata": {},
   "outputs": [
    {
     "name": "stderr",
     "output_type": "stream",
     "text": [
      "/Users/vadimbenichou/anaconda3/lib/python3.6/site-packages/h5py/__init__.py:36: FutureWarning: Conversion of the second argument of issubdtype from `float` to `np.floating` is deprecated. In future, it will be treated as `np.float64 == np.dtype(float).type`.\n",
      "  from ._conv import register_converters as _register_converters\n",
      "Using TensorFlow backend.\n"
     ]
    }
   ],
   "source": [
    "import keras\n",
    "import numpy as np\n",
    "import io\n",
    "import base64\n",
    "from IPython.display import HTML\n",
    "import skvideo.io\n",
    "import cv2\n",
    "import json\n",
    "from keras.models import Sequential,model_from_json\n",
    "from keras.layers.core import Dense\n",
    "from keras.optimizers import sgd\n",
    "from keras.layers import Conv2D, MaxPooling2D, Activation, AveragePooling2D,Reshape,BatchNormalization"
   ]
  },
  {
   "cell_type": "markdown",
   "metadata": {},
   "source": [
    "# MiniProject #3: Deep Reinforcement Learning"
   ]
  },
  {
   "cell_type": "markdown",
   "metadata": {},
   "source": [
    "__Notations__: $E_p$ is the expectation under probability $p$. Please justify each of your answer and widely comment your code."
   ]
  },
  {
   "cell_type": "markdown",
   "metadata": {},
   "source": [
    "# Context"
   ]
  },
  {
   "cell_type": "markdown",
   "metadata": {},
   "source": [
    "In a reinforcement learning algorithm, we modelize each step $t$ as an action $a_t$ obtained from a state $s_t$, i.e. $\\{(a_{t},s_{t})_{t\\leq T}\\}$ having the Markov property. We consider a discount factor $\\gamma \\in [0,1]$ that ensures convergence. The goal is to find among all the policies $\\pi$, one that maximizes the expected reward:\n",
    "\n",
    "\\begin{equation*}\n",
    "R(\\pi)=\\sum_{t\\leq T}E_{p^{\\pi}}[\\gamma^t r(s_{t},a_{t})] \\> ,\n",
    "\\end{equation*}\n",
    "\n",
    "where: \n",
    "\\begin{equation*}p^{\\pi}(a_{0},a_{1},s_{1},...,a_{T},s_{T})=p(a_{0})\\prod_{t=1}^{T}\\pi(a_{t}|s_{t})p(s_{t+1}|s_{t},a_{t}) \\> .\n",
    "\\end{equation*}\n",
    "\n",
    "We note the $Q$-function:\n",
    "\n",
    "\\begin{equation*}Q^\\pi(s,a)=E_{p^{\\pi}}[\\sum_{t\\leq T}\\gamma^{t}r(s_{t},a_{t})|s_{0}=s,a_{0}=a] \\> .\n",
    "\\end{equation*}\n",
    "\n",
    "Thus, the optimal Q function is:\n",
    "\\begin{equation*}\n",
    "Q^*(s,a)=\\max_{\\pi}Q^\\pi(s,a) \\> .\n",
    "\\end{equation*}\n",
    "\n",
    "In this project, we will apply the deep reinforcement learning techniques to a simple game: an agent will have to learn from scratch a policy that will permit it maximizing a reward."
   ]
  },
  {
   "cell_type": "markdown",
   "metadata": {},
   "source": [
    "## The environment, the agent and the game"
   ]
  },
  {
   "cell_type": "markdown",
   "metadata": {},
   "source": [
    "### The environment"
   ]
  },
  {
   "cell_type": "markdown",
   "metadata": {},
   "source": [
    "```Environment``` is an abstract class that represents the states, rewards, and actions to obtain the new state."
   ]
  },
  {
   "cell_type": "code",
   "execution_count": 2,
   "metadata": {
    "collapsed": true
   },
   "outputs": [],
   "source": [
    "class Environment(object):\n",
    "    def __init__(self):\n",
    "        pass\n",
    "\n",
    "    def act(self, act):\n",
    "        \"\"\"\n",
    "        One can act on the environment and obtain its reaction:\n",
    "        - the new state\n",
    "        - the reward of the new state\n",
    "        - should we continue the game?\n",
    "        :return: state, reward, game_over\n",
    "        \"\"\"\n",
    "        pass\n",
    "\n",
    "\n",
    "    def reset(self):\n",
    "        \"\"\"\n",
    "        Reinitialize the environment to a random state and returns\n",
    "        the original state\n",
    "\n",
    "        :return: state\n",
    "        \"\"\"\n",
    "        pass\n",
    "    \n",
    "    def draw(self):\n",
    "        \"\"\"\n",
    "        Visualize in the console or graphically the current state\n",
    "        \"\"\"\n",
    "        pass"
   ]
  },
  {
   "cell_type": "markdown",
   "metadata": {},
   "source": [
    "The method ```act``` allows to act on the environment at a given state $s_t$ (stored internally), via action $a_t$. The method will return the new state $s_{t+1}$, the reward $r(s_{t},a_{t})$ and determines if $t\\leq T$ (*game_over*).\n",
    "\n",
    "The method ```reset``` simply reinitializes the environment to a random state $s_0$.\n",
    "\n",
    "The method ```draw``` displays the current state $s_t$ (this is useful to check the behavior of the Agent).\n",
    "\n",
    "We modelize $s_t$ as a tensor, while $a_t$ is an integer."
   ]
  },
  {
   "cell_type": "markdown",
   "metadata": {},
   "source": [
    "### The Agent"
   ]
  },
  {
   "cell_type": "markdown",
   "metadata": {},
   "source": [
    "The goal of the ```Agent``` is to interact with the ```Environment``` by proposing actions $a_t$ obtained from a given state $s_t$ to attempt to maximize its __reward__ $r(s_t,a_t)$. We propose the following abstract class:"
   ]
  },
  {
   "cell_type": "code",
   "execution_count": 3,
   "metadata": {
    "collapsed": true
   },
   "outputs": [],
   "source": [
    "class Agent(object):\n",
    "    def __init__(self, epsilon=0.1, n_action=4):\n",
    "        self.epsilon = epsilon\n",
    "        self.n_action = n_action\n",
    "    \n",
    "    def set_epsilon(self,e):\n",
    "        self.epsilon = e\n",
    "\n",
    "    def act(self,s,train=True):\n",
    "        \"\"\" This function should return the next action to do:\n",
    "        an integer between 0 and 4 (not included) with a random exploration of epsilon\"\"\"\n",
    "        if train:\n",
    "            if np.random.rand() <= self.epsilon:\n",
    "                a = np.random.randint(0, self.n_action, size=1)[0]\n",
    "            else:\n",
    "                a = self.learned_act(s)\n",
    "        else: # in some cases, this can improve the performance.. remove it if poor performances\n",
    "            a = self.learned_act(s)\n",
    "\n",
    "        return a\n",
    "\n",
    "    def learned_act(self,s):\n",
    "        \"\"\" Act via the policy of the agent, from a given state s\n",
    "        it proposes an action a\"\"\"\n",
    "        pass\n",
    "\n",
    "    def reinforce(self, s, n_s, a, r, game_over_):\n",
    "        \"\"\" This function is the core of the learning algorithm. \n",
    "        It takes as an input the current state s_, the next state n_s_\n",
    "        the action a_ used to move from s_ to n_s_ and the reward r_.\n",
    "        \n",
    "        Its goal is to learn a policy.\n",
    "        \"\"\"\n",
    "        pass\n",
    "\n",
    "    def save(self):\n",
    "        \"\"\" This function returns basic stats if applicable: the\n",
    "        loss and/or the model\"\"\"\n",
    "        pass\n",
    "\n",
    "    def load(self):\n",
    "        \"\"\" This function allows to restore a model\"\"\"\n",
    "        pass"
   ]
  },
  {
   "cell_type": "markdown",
   "metadata": {},
   "source": [
    "***\n",
    "__Question 1__:\n",
    "Explain the function act. Why is ```epsilon``` essential?"
   ]
  },
  {
   "cell_type": "markdown",
   "metadata": {},
   "source": [
    "Explanation of the fonction act : At a state s, the function prescribes the action to do and the environment takes the output of the function act. For instance a pawn is in a case B at time t, it could go up, down, left, rigt (a= 0 for up for instance, 1 for down and so on...) and the next position will be dictate by act. The environment gets a new state. The aim is that the function determines the best action to undertake based on previous experiences and rewards. \n",
    "\n",
    "Epsilon can be considered as the exploration rate. To optimise exploitation, the rate can be small or equal to 0. \n",
    "Furthermore, Epsilon is essential here because it will determine if  one picks more a stochastic policy or deterministic. "
   ]
  },
  {
   "cell_type": "markdown",
   "metadata": {},
   "source": [
    "***\n",
    "### The Game"
   ]
  },
  {
   "cell_type": "markdown",
   "metadata": {},
   "source": [
    "The ```Agent``` and the ```Environment``` work in an interlaced way as in the following (take some time to understand this code as it is the core of the project)\n",
    "\n",
    "```python\n",
    "\n",
    "epoch = 300\n",
    "env = Environment()\n",
    "agent = Agent()\n",
    "\n",
    "\n",
    "# Number of won games\n",
    "score = 0\n",
    "loss = 0\n",
    "\n",
    "\n",
    "for e in range(epoch):\n",
    "    # At each epoch, we restart to a fresh game and get the initial state\n",
    "    state = env.reset()\n",
    "    # This assumes that the games will end\n",
    "    game_over = False\n",
    "\n",
    "    win = 0\n",
    "    lose = 0\n",
    "    \n",
    "    while not game_over:\n",
    "        # The agent performs an action\n",
    "        action = agent.act(state)\n",
    "\n",
    "        # Apply an action to the environment, get the next state, the reward\n",
    "        # and if the games end\n",
    "        prev_state = state\n",
    "        state, reward, game_over = env.act(action)\n",
    "\n",
    "        # Update the counters\n",
    "        if reward > 0:\n",
    "            win = win + reward\n",
    "        if reward < 0:\n",
    "            lose = lose -reward\n",
    "\n",
    "        # Apply the reinforcement strategy\n",
    "        loss = agent.reinforce(prev_state, state,  action, reward, game_over)\n",
    "\n",
    "    # Save as a mp4\n",
    "    if e % 10 == 0:\n",
    "        env.draw(e)\n",
    "\n",
    "    # Update stats\n",
    "    score += win-lose\n",
    "\n",
    "    print(\"Epoch {:03d}/{:03d} | Loss {:.4f} | Win/lose count {}/{} ({})\"\n",
    "          .format(e, epoch, loss, win, lose, win-lose))\n",
    "    agent.save()\n",
    "```"
   ]
  },
  {
   "cell_type": "markdown",
   "metadata": {},
   "source": [
    "# The game, *eat cheese*"
   ]
  },
  {
   "cell_type": "markdown",
   "metadata": {},
   "source": [
    "A rat runs on an island and tries to eat as much as possible. The island is subdivided into $N\\times N$ cells, in which there are cheese (+0.5) and poisonous cells (-1). The rat has a visibility of 2 cells (thus it can see $5^2$ cells). The rat is given a time $T$ to accumulate as much food as possible. It can perform 4 actions: going up, down, left, right. \n",
    "\n",
    "The goal is to code an agent to solve this task that will learn by trial and error. We propose the following environment:"
   ]
  },
  {
   "cell_type": "code",
   "execution_count": 4,
   "metadata": {
    "collapsed": true
   },
   "outputs": [],
   "source": [
    "class Environment(object):\n",
    "    def __init__(self, grid_size=10, max_time=500, temperature=0.1):\n",
    "        grid_size = grid_size+4\n",
    "        self.grid_size = grid_size\n",
    "        self.max_time = max_time\n",
    "        self.temperature = temperature\n",
    "\n",
    "        #board on which one plays\n",
    "        self.board = np.zeros((grid_size,grid_size))\n",
    "        self.position = np.zeros((grid_size,grid_size))\n",
    "\n",
    "        # coordinate of the cat\n",
    "        self.x = 0\n",
    "        self.y = 1\n",
    "\n",
    "        # self time\n",
    "        self.t = 0\n",
    "\n",
    "        self.scale=16\n",
    "\n",
    "        self.to_draw = np.zeros((max_time+2, grid_size*self.scale, grid_size*self.scale, 3))\n",
    "\n",
    "\n",
    "    def draw(self,e):\n",
    "        skvideo.io.vwrite(str(e) + '.mp4', self.to_draw)\n",
    "\n",
    "    def get_frame(self,t):\n",
    "        b = np.zeros((self.grid_size,self.grid_size,3))+128\n",
    "        b[self.board>0,0] = 256\n",
    "        b[self.board < 0, 2] = 256\n",
    "        b[self.x,self.y,:]=256\n",
    "        b[-2:,:,:]=0\n",
    "        b[:,-2:,:]=0\n",
    "        b[:2,:,:]=0\n",
    "        b[:,:2,:]=0\n",
    "        \n",
    "        b =  cv2.resize(b, None, fx=self.scale, fy=self.scale, interpolation=cv2.INTER_NEAREST)\n",
    "\n",
    "        self.to_draw[t,:,:,:]=b\n",
    "\n",
    "\n",
    "    def act(self, action):\n",
    "        \"\"\"This function returns the new state, reward and decides if the\n",
    "        game ends.\"\"\"\n",
    "\n",
    "        self.get_frame(int(self.t))\n",
    "\n",
    "        self.position = np.zeros((self.grid_size, self.grid_size))\n",
    "\n",
    "        self.position[0:2,:]= -1\n",
    "        self.position[:,0:2] = -1\n",
    "        self.position[-2:, :] = -1\n",
    "        #self.position[-2:, :] = -1\n",
    "        self.position[:,-2:] = -1\n",
    "\n",
    "        self.position[self.x, self.y] = 1\n",
    "        if action == 0: \n",
    "            if self.x == self.grid_size-3:\n",
    "                self.x = self.x-1               # if  edge, go UP \n",
    "            else:\n",
    "                self.x = self.x + 1             # go DOWN\n",
    "        elif action == 1:\n",
    "            if self.x == 2:\n",
    "                self.x = self.x+1               # if  edge, go DOWN\n",
    "            else:\n",
    "                self.x = self.x-1               # go UP \n",
    "        elif action == 2:\n",
    "            if self.y == self.grid_size - 3: \n",
    "                self.y = self.y - 1             # if  edge, go LEFT\n",
    "            else:\n",
    "                self.y = self.y + 1             # go RIGHT\n",
    "        elif action == 3:\n",
    "            if self.y == 2:\n",
    "                self.y = self.y + 1             # if  edge, go RIGHT\n",
    "            else:\n",
    "                self.y = self.y - 1             # go LEFT\n",
    "        else:\n",
    "            RuntimeError('Error: action not recognized')\n",
    "\n",
    "        self.t = self.t + 1\n",
    "        reward = self.board[self.x, self.y]\n",
    "        self.board[self.x, self.y] = 0\n",
    "        game_over = self.t > self.max_time\n",
    "        state = np.concatenate((self.board.reshape(self.grid_size, self.grid_size,1),\n",
    "                        self.position.reshape(self.grid_size, self.grid_size,1)),axis=2)\n",
    "        state = state[self.x-2:self.x+3,self.y-2:self.y+3,:]\n",
    "\n",
    "        return state, reward, game_over\n",
    "\n",
    "    def reset(self):\n",
    "        \"\"\"This function resets the game and returns the initial state\"\"\"\n",
    "\n",
    "        self.x = np.random.randint(3, self.grid_size-3, size=1)[0]\n",
    "        self.y = np.random.randint(3, self.grid_size-3, size=1)[0]\n",
    "\n",
    "\n",
    "        bonus = 0.5*np.random.binomial(1,self.temperature,size=self.grid_size**2)\n",
    "        bonus = bonus.reshape(self.grid_size,self.grid_size)\n",
    "\n",
    "        malus = -1.0*np.random.binomial(1,self.temperature,size=self.grid_size**2)\n",
    "        malus = malus.reshape(self.grid_size, self.grid_size)\n",
    "\n",
    "        self.to_draw = np.zeros((self.max_time+2, self.grid_size*self.scale, self.grid_size*self.scale, 3))\n",
    "\n",
    "\n",
    "        malus[bonus>0]=0\n",
    "\n",
    "        self.board = bonus + malus\n",
    "\n",
    "        self.position = np.zeros((self.grid_size, self.grid_size))\n",
    "        self.position[0:2,:]= -1\n",
    "        self.position[:,0:2] = -1\n",
    "        self.position[-2:, :] = -1\n",
    "        #self.position[-2:, :] = -1\n",
    "        self.position[:,-2:] = -1\n",
    "        self.board[self.x,self.y] = 0\n",
    "        self.t = 0\n",
    "\n",
    "        state = np.concatenate((\n",
    "                               self.board.reshape(self.grid_size, self.grid_size,1),\n",
    "                        self.position.reshape(self.grid_size, self.grid_size,1)),axis=2)\n",
    "\n",
    "        state = state[self.x - 2:self.x + 3, self.y - 2:self.y + 3, :]\n",
    "        return state"
   ]
  },
  {
   "cell_type": "markdown",
   "metadata": {},
   "source": [
    "The following elements are important because they correspond to the hyper parameters for this project:"
   ]
  },
  {
   "cell_type": "code",
   "execution_count": 5,
   "metadata": {
    "collapsed": true
   },
   "outputs": [],
   "source": [
    "# parameters\n",
    "size = 13\n",
    "T= 200\n",
    "temperature = 0.3\n",
    "epochs_train = 7 # set small when debugging\n",
    "epochs_test = 4 # set small when debugging\n",
    "\n",
    "# display videos\n",
    "def display_videos(name):\n",
    "    video = io.open(name, 'r+b').read()\n",
    "    encoded = base64.b64encode(video)\n",
    "    return '''<video alt=\"test\" controls>\n",
    "                <source src=\"data:video/mp4;base64,{0}\" type=\"video/mp4\" />\n",
    "             </video>'''.format(encoded.decode('ascii'))"
   ]
  },
  {
   "cell_type": "markdown",
   "metadata": {},
   "source": [
    "__Question 2__ Explain the use of the arrays ```position``` and ```board```."
   ]
  },
  {
   "cell_type": "markdown",
   "metadata": {},
   "source": [
    "__Board__ represents all the possible positions of the mouse in the board.   \n",
    "__Position__ is used to get the position of coordanates(x,y) of the mouse in the environment (the grid)."
   ]
  },
  {
   "cell_type": "markdown",
   "metadata": {},
   "source": [
    "## Random Agent"
   ]
  },
  {
   "cell_type": "markdown",
   "metadata": {},
   "source": [
    "***\n",
    "__Question 3__ Implement a random Agent (only ```learned_act``` needs to be implemented):"
   ]
  },
  {
   "cell_type": "code",
   "execution_count": 6,
   "metadata": {
    "collapsed": true
   },
   "outputs": [],
   "source": [
    "import random\n",
    "class RandomAgent(Agent):\n",
    "    def __init__(self):\n",
    "        super(RandomAgent, self).__init__()\n",
    "        pass\n",
    "\n",
    "    def learned_act(self, s):\n",
    "        return random.randint(0,3)"
   ]
  },
  {
   "cell_type": "markdown",
   "metadata": {},
   "source": [
    "***\n",
    "***\n",
    "__Question 4__ Visualize the game moves. You need to fill in the following function for the evaluation:"
   ]
  },
  {
   "cell_type": "code",
   "execution_count": 7,
   "metadata": {
    "collapsed": true
   },
   "outputs": [],
   "source": [
    "def test(agent,env,epochs,prefix=''):\n",
    "    # Number of won games\n",
    "    score = 0\n",
    "        \n",
    "    for e in range(epochs):\n",
    "\n",
    "        state = env.reset()#to reset the game at each epoch\n",
    "        \n",
    "        game_over = False #to ensure the end of the game\n",
    "\n",
    "        lose = 0\n",
    "        win = 0\n",
    "        \n",
    "\n",
    "        while not game_over:\n",
    "            action = agent.act(state)# To make the agent perform an action\n",
    "\n",
    "            # to submit the environment to the action and get the next state and the reward\n",
    "            # and if the games end\n",
    "            previousstate = state\n",
    "            state, reward, game_over = env.act(action)\n",
    "\n",
    "            # Update the counters\n",
    "            if reward > 0:\n",
    "                win = win + reward\n",
    "            if reward < 0:\n",
    "                lose = lose -reward\n",
    "\n",
    "            # Apply the reinforcement strategy\n",
    "            loss = agent.reinforce(previousstate, state,  action, reward, game_over)\n",
    "\n",
    "            \n",
    "        # Save as a mp4\n",
    "        env.draw(prefix+str(e))\n",
    "\n",
    "        # Update stats\n",
    "        score = score + win-lose\n",
    "\n",
    "        print(\"Win/lose count {}/{}. Average score ({})\"\n",
    "              .format(win, lose, score/(1+e)))\n",
    "    print('Final score: '+str(score/epochs))"
   ]
  },
  {
   "cell_type": "code",
   "execution_count": 8,
   "metadata": {},
   "outputs": [
    {
     "name": "stdout",
     "output_type": "stream",
     "text": [
      "Win/lose count 10.0/17.0. Average score (-7.0)\n",
      "Win/lose count 5.0/12.0. Average score (-7.0)\n",
      "Win/lose count 7.0/8.0. Average score (-5.0)\n",
      "Win/lose count 10.5/9.0. Average score (-3.375)\n",
      "Final score: -3.375\n"
     ]
    },
    {
     "data": {
      "text/html": [
       "<video alt=\"test\" controls>\n",
       "                <source src=\"data:video/mp4;base64,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\" type=\"video/mp4\" />\n",
       "             </video>"
      ],
      "text/plain": [
       "<IPython.core.display.HTML object>"
      ]
     },
     "execution_count": 8,
     "metadata": {},
     "output_type": "execute_result"
    }
   ],
   "source": [
    "# Initialize the game\n",
    "env = Environment(grid_size=size, max_time=T,temperature=temperature)\n",
    "\n",
    "# Initialize the agent!\n",
    "agent = RandomAgent()\n",
    "\n",
    "test(agent,env,epochs_test,prefix='random')\n",
    "HTML(display_videos('random0.mp4'))"
   ]
  },
  {
   "cell_type": "markdown",
   "metadata": {},
   "source": [
    "***\n",
    "## DQN"
   ]
  },
  {
   "cell_type": "markdown",
   "metadata": {},
   "source": [
    "##A  FAIRE"
   ]
  },
  {
   "cell_type": "markdown",
   "metadata": {},
   "source": [
    "Let us assume here that $T=\\infty$.\n",
    "\n",
    "***\n",
    "__Question 5__ Let $\\pi$ be a policy, show that:\n",
    "\n",
    "\\begin{equation*}\n",
    "Q^{\\pi}(s,a)=E_{(s',a')\\sim p(.|s,a)}[r(s,a)+\\gamma Q^{\\pi}(s',a')]\n",
    "\\end{equation*}\n",
    "\n",
    "Then, show that for the optimal policy $\\pi^*$ (we assume its existence), the following holds: \n",
    "\n",
    "\\begin{equation*}\n",
    "Q^{*}(s,a)=E_{s'\\sim \\pi^*(.|s,a)}[r(s,a)+\\gamma\\max_{a'}Q^{*}(s',a')].\n",
    "\\end{equation*}\n",
    "Finally, deduce that a plausible objective is:\n",
    "\n",
    "\\begin{equation*}\n",
    "\\mathcal{L}(\\theta)=E_{s' \\sim \\pi^*(.|s,a)}\\Vert r+\\gamma\\max\\max_{a'}Q(s',a',\\theta)-Q(s,a,\\theta)\\Vert^{2}.\n",
    "\\end{equation*}\n",
    "\n",
    "\n"
   ]
  },
  {
   "cell_type": "markdown",
   "metadata": {},
   "source": [
    "This formula is provided  \n",
    "$$\n",
    "\\begin{aligned}\n",
    "Q^{\\pi}(s,a) &= E_{\\pi}[ \\sum_{t=0}^{\\infty}\\gamma^t r(s_t,a_t) \\ | \\ s_0 = s, a_0 = a]\\\\\n",
    "&= E[r(s,a)]+ \\gamma E_{\\pi}[ \\sum_{t=1}^{\\infty}\\gamma^{t-1} r(s_{t},a_{t}) \\ | \\ s_0 = s, a_0 = a ]    \\\\\n",
    "&= E[r(s,a)]+ \\gamma \\sum_{s'\\in S}^{} \\sum_{a' \\in A}^{} p(s_1 = s',a_1 = a'|s_0 = s, a_0 = a)E_{\\pi}[\\sum_{t=1}^{\\infty}\\gamma^{t-1} r(s_{t},a_{t}) \\ |\\  s_1 = s',a_1 = a' ]\\\\\n",
    "& E_{\\pi}[\\sum_{t=1}^{\\infty}\\gamma^{t-1} r(s_{t},a_{t}) \\ |\\  s_1 = s',a_1 = a' ] = Q^{\\pi}(s',a') \\; \\text{so we have:}  \\\\\n",
    "& = E[r(s,a)]+ \\gamma \\sum_{s'\\in S}^{} \\sum_{a' \\in A}^{} p(s_1 = s',a_1 = a'|s_0 = s, a_0 = a)Q^{\\pi}(s',a')\\\\\n",
    "&= E_{(s',a')\\sim p(.|s,a)}[r(s,a)+\\gamma Q^{\\pi}(s',a')]\n",
    "\\end{aligned}\n",
    "$$\n",
    "\n",
    "Hence $ Q^{\\pi}(s,a)=E_{(s',a')\\sim p(.|s,a)}[r(s,a)+\\gamma Q^{\\pi}(s',a')] $\n",
    "\n",
    "\n",
    "Let's say that the optimal policy $\\pi^*$ exists with $Q^{*}(s,a) = max_{\\pi} Q^{\\pi}(s,a)$.\n",
    "\n",
    "we can write:\n",
    "\n",
    "$$\n",
    "\\begin{aligned}\n",
    "Q^*(s,a) & = \\max_{\\pi}E_{(s',a')\\sim p(.|s,a)}[r(s,a)+\\gamma Q^{\\pi}(s',a')] \\\\\n",
    " & = r(s,a) + \\gamma \\max_{\\pi} [ \\sum_{s' \\in S}^{}  \\sum_{a' \\in A}^{} p(s',a'|s,a)Q^{\\pi}(s',a') ] \\\\\n",
    " & = r(s,a) + \\gamma  \\sum_{s' \\in S}^{}p(s'|s,a)\n",
    " \\max_{\\pi} [\\sum_{a' \\in A}^{} \\pi(a'|s')Q^{\\pi}(s',a') ]\\\\\n",
    "& = r(s,a) + \\gamma  \\sum_{s' \\in S}^{}p(s'|s,a) \\max_{a'} Q^*(s',a')\\\\\n",
    "& = E_{s'\\sim \\pi^*(.|s,a)}[r(s,a)+\\gamma\\max_{a'}Q^{*}(s',a')]\n",
    "\\end{aligned}\n",
    "$$\n",
    "\n",
    "Hence $Q^{*}(s,a)=E_{s'\\sim \\pi^*(.|s,a)}[r(s,a)+\\gamma\\max_{a'}Q^{*}(s',a')]$"
   ]
  },
  {
   "cell_type": "markdown",
   "metadata": {},
   "source": [
    "***\n",
    "The DQN-learning algorithm relies on these derivations to train the parameters $\\theta$ of a Deep Neural Network:\n",
    "\n",
    "1. At the state $s_t$, select the action $a_t$ with best reward using $Q_t$ and store the results;\n",
    "\n",
    "2. Obtain the new state $s_{t+1}$ from the environment $p$;\n",
    "\n",
    "3. Store $(s_t,a_t,s_{t+1})$;\n",
    "\n",
    "4. Obtain $Q_{t+1}$ by minimizing  $\\mathcal{L}$ from a recovered batch from the previously stored results.\n",
    "\n",
    "***\n",
    "__Question 6__ Implement the class ```Memory``` that stores moves (in a replay buffer) via ```remember``` and provides a ```random_access``` to these. Specify a maximum memory size to avoid side effects. You can for example use a ```list()``` and set by default ```max_memory=100```."
   ]
  },
  {
   "cell_type": "code",
   "execution_count": 9,
   "metadata": {
    "collapsed": true
   },
   "outputs": [],
   "source": [
    "class Memory(object):\n",
    "    def __init__(self, memory, max_memory=100):\n",
    "        self.max_memory = max_memory\n",
    "        self.memory = list()\n",
    "\n",
    "    def remember(self, memo):\n",
    "        self.memory.append(memo)\n",
    "        \n",
    "        if len(self.memory) > self.max_memory:\n",
    "            del self.memory[0]\n",
    "        \n",
    "        pass\n",
    "\n",
    "    def random_access(self):\n",
    "        batch = random.choice(self.memory)\n",
    "        return batch"
   ]
  },
  {
   "cell_type": "markdown",
   "metadata": {},
   "source": [
    "***\n",
    "The pipeline we will use for training is given below:"
   ]
  },
  {
   "cell_type": "code",
   "execution_count": 10,
   "metadata": {
    "collapsed": true
   },
   "outputs": [],
   "source": [
    "def train(agent,env,epoch,prefix=''):\n",
    "    # Number of won games\n",
    "    score = 0\n",
    "    loss = 0\n",
    "\n",
    "    for e in range(epoch):\n",
    "        # At each epoch, we restart to a fresh game and get the initial state\n",
    "        state = env.reset()\n",
    "        # This assumes that the games will terminate\n",
    "        game_over = False\n",
    "\n",
    "        win = 0\n",
    "        lose = 0\n",
    "\n",
    "        while not game_over:\n",
    "            # The agent performs an action\n",
    "            action = agent.act(state)\n",
    "\n",
    "            # Apply an action to the environment, get the next state, the reward\n",
    "            # and if the games end\n",
    "            prev_state = state\n",
    "            state, reward, game_over = env.act(action)\n",
    "\n",
    "            # Update the counters\n",
    "            if reward > 0:\n",
    "                win = win + reward\n",
    "            if reward < 0:\n",
    "                lose = lose -reward\n",
    "\n",
    "            # Apply the reinforcement strategy\n",
    "            loss = agent.reinforce(prev_state, state,  action, reward, game_over)\n",
    "\n",
    "        # Save as a mp4\n",
    "        if e % 10 == 0:\n",
    "            env.draw(prefix+str(e))\n",
    "\n",
    "        # Update stats\n",
    "        score += win-lose\n",
    "\n",
    "        print(\"Epoch {:03d}/{:03d} | Loss {:.4f} | Win/lose count {}/{} ({})\"\n",
    "              .format(e, epoch, loss, win, lose, win-lose))\n",
    "        agent.save(name_weights=prefix+'model.h5',name_model=prefix+'model.json')"
   ]
  },
  {
   "cell_type": "markdown",
   "metadata": {},
   "source": [
    "***\n",
    "__Question 7__ Implement the DQN training algorithm using a cascade of fully connected layers. You can use different learning rate, batch size or memory size parameters. In particular, the loss might oscillate while the player will start to win the games. You have to find a good criterium."
   ]
  },
  {
   "cell_type": "code",
   "execution_count": 11,
   "metadata": {
    "collapsed": true
   },
   "outputs": [],
   "source": [
    "class DQN(Agent):\n",
    "    def __init__(self, grid_size, epsilon = 0.1, memory_size=100, batch_size = 16, n_state=2):\n",
    "        super(DQN, self).__init__()\n",
    "\n",
    "        # Discount for Q learning\n",
    "        self.discount = 0.75\n",
    "        \n",
    "        self.grid_size = grid_size\n",
    "        \n",
    "        # number of state\n",
    "        self.n_state = n_state\n",
    "\n",
    "        # Memory\n",
    "        self.memory = Memory(memory_size)\n",
    "        \n",
    "        # Batch size when learning\n",
    "        self.batch_size = batch_size\n",
    "\n",
    "               \n",
    "\n",
    "    def learned_act(self, s):\n",
    "        \n",
    "        act = self.model.predict(np.array([s],ndmin=2)) \n",
    "        return np.argmax(act[0])\n",
    "\n",
    "    def reinforce(self, s_, n_s, a_, r_, game_over_):\n",
    "        # Two steps: first memorize the states, second learn from the pool\n",
    "\n",
    "        self.memory.remember([s_, n_s, a_, r_, game_over_])\n",
    "        \n",
    "        input_states = np.zeros((self.batch_size, 5, 5, self.n_state))\n",
    "        target_q = np.zeros((self.batch_size, 4)) # 4 actions to take\n",
    "        \n",
    "        \n",
    "        #for state, action, reward, next_state, done in minibatch:\n",
    "        for i in range(self.batch_size):\n",
    "            \n",
    "            # creation of a batchof past experiences:\n",
    "            batch = self.memory.random_access()\n",
    "            \n",
    "            # each row of mini_batch has: state, next_state, action, reward, game_over_\n",
    "            s_ , n_s_, a_, r_, game_over_ = batch\n",
    "\n",
    "            input_states[i] = s_\n",
    "            \n",
    "            if game_over_:\n",
    "                target_q[i, a_] = r_ \n",
    "                \n",
    "            else:\n",
    "                x = np.reshape(n_s_, (1, 5, 5, self.n_state)) \n",
    "                target_q[i, a_] = r_ + self.discount * np.amax(self.model.predict(x)) \n",
    "        \n",
    "        # HINT: Clip the target to avoid exploiding gradients.. -- clipping is a bit tighter\n",
    "        target_q = np.clip(target_q, -3, 3)\n",
    "\n",
    "        l = self.model.train_on_batch(input_states, target_q) # loss function. \n",
    "\n",
    "\n",
    "        \n",
    "        return l\n",
    "\n",
    "    def save(self,name_weights='model.h5',name_model='model.json'):\n",
    "        self.model.save_weights(name_weights, overwrite=True)\n",
    "        with open(name_model, \"w\") as outfile:\n",
    "            json.dump(self.model.to_json(), outfile)\n",
    "            \n",
    "    def load(self,name_weights='model.h5',name_model='model.json'):\n",
    "        with open(name_model, \"r\") as jfile:\n",
    "            model = model_from_json(json.load(jfile))\n",
    "        model.load_weights(name_weights)\n",
    "        model.compile(\"sgd\", \"mse\")\n",
    "        self.model = model\n",
    "\n",
    "            \n",
    "class DQN_FC(DQN):\n",
    "    def __init__(self, *args, lr=0.1,**kwargs):\n",
    "        super(DQN_FC, self).__init__( *args,**kwargs)\n",
    "        \n",
    "        # NN Model\n",
    "        \n",
    "        model = Sequential()\n",
    "        model.add(Reshape((5*5*self.n_state,), input_shape=(5,5,self.n_state)))\n",
    "        model.add(Dense(64, input_dim=5*5*self.n_state))\n",
    "        model.add(Dense(4))\n",
    "        \n",
    "        model.compile(sgd(lr=0.1, decay=0.0001, momentum=0.0), \"mse\")\n",
    "        self.model = model"
   ]
  },
  {
   "cell_type": "code",
   "execution_count": 12,
   "metadata": {},
   "outputs": [
    {
     "name": "stdout",
     "output_type": "stream",
     "text": [
      "Epoch 000/007 | Loss 0.0067 | Win/lose count 4.5/6.0 (-1.5)\n",
      "Epoch 001/007 | Loss 0.0087 | Win/lose count 12.5/1.0 (11.5)\n",
      "Epoch 002/007 | Loss 0.0027 | Win/lose count 2.0/1.0 (1.0)\n",
      "Epoch 003/007 | Loss 0.0026 | Win/lose count 4.5/4.0 (0.5)\n",
      "Epoch 004/007 | Loss 0.0088 | Win/lose count 5.0/1.0 (4.0)\n",
      "Epoch 005/007 | Loss 0.0008 | Win/lose count 7.0/6.0 (1.0)\n",
      "Epoch 006/007 | Loss 0.0021 | Win/lose count 6.0/2.0 (4.0)\n"
     ]
    },
    {
     "data": {
      "text/html": [
       "<video alt=\"test\" controls>\n",
       "                <source src=\"data:video/mp4;base64,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\" type=\"video/mp4\" />\n",
       "             </video>"
      ],
      "text/plain": [
       "<IPython.core.display.HTML object>"
      ]
     },
     "execution_count": 12,
     "metadata": {},
     "output_type": "execute_result"
    }
   ],
   "source": [
    "env = Environment(grid_size=size, max_time=T, temperature=0.3)\n",
    "agent = DQN_FC(size, lr=.1, epsilon = 0.1, memory_size=2000, batch_size = 32)\n",
    "train(agent, env, epochs_train, prefix='fc_train')\n",
    "HTML(display_videos('fc_train10.mp4'))"
   ]
  },
  {
   "cell_type": "markdown",
   "metadata": {},
   "source": [
    "***\n",
    "***\n",
    "__Question 8__ Implement the DQN training algorithm using a CNN (for example, 2 convolutional layers and one final fully connected layer)."
   ]
  },
  {
   "cell_type": "code",
   "execution_count": 13,
   "metadata": {
    "collapsed": true
   },
   "outputs": [],
   "source": [
    "from keras.layers import Flatten\n",
    "\n",
    "class DQN_CNN(DQN):\n",
    "    def __init__(self, *args,lr=0.1,**kwargs):\n",
    "        super(DQN_CNN, self).__init__(*args,**kwargs)\n",
    "        \n",
    "        model = Sequential()\n",
    "        model.add(Conv2D(50, (2, 2), input_shape=(5, 5, self.n_state)))\n",
    "        model.add(Conv2D(10, (2, 2)))\n",
    "        \n",
    "        model.add(Flatten())\n",
    "        model.add(Dense(4))\n",
    "        \n",
    "        model.compile(sgd(lr=lr, decay=1e-4, momentum=0.0), \"mse\")\n",
    "        self.model = model"
   ]
  },
  {
   "cell_type": "code",
   "execution_count": 14,
   "metadata": {},
   "outputs": [
    {
     "name": "stdout",
     "output_type": "stream",
     "text": [
      "Epoch 000/010 | Loss 0.0127 | Win/lose count 9.5/12.0 (-2.5)\n",
      "Epoch 001/010 | Loss 0.0241 | Win/lose count 6.5/8.0 (-1.5)\n",
      "Epoch 002/010 | Loss 0.0141 | Win/lose count 7.0/7.0 (0.0)\n",
      "Epoch 003/010 | Loss 0.0009 | Win/lose count 8.5/1.0 (7.5)\n",
      "Epoch 004/010 | Loss 0.0012 | Win/lose count 5.0/3.0 (2.0)\n",
      "Epoch 005/010 | Loss 0.0093 | Win/lose count 9.5/6.0 (3.5)\n",
      "Epoch 006/010 | Loss 0.0003 | Win/lose count 3.5/3.0 (0.5)\n",
      "Epoch 007/010 | Loss 0.0024 | Win/lose count 7.0/1.0 (6.0)\n",
      "Epoch 008/010 | Loss 0.0005 | Win/lose count 2.5/2.0 (0.5)\n",
      "Epoch 009/010 | Loss 0.0003 | Win/lose count 5.5/4.0 (1.5)\n"
     ]
    },
    {
     "data": {
      "text/html": [
       "<video alt=\"test\" controls>\n",
       "                <source src=\"data:video/mp4;base64,AAAAIGZ0eXBpc29tAAACAGlzb21pc28yYXZjMW1wNDEAAAAIZnJlZQAAFxltZGF0AAACrQYF//+p3EXpvebZSLeWLNgg2SPu73gyNjQgLSBjb3JlIDE1NSByMjkxNyAwYTg0ZDk4IC0gSC4yNjQvTVBFRy00IEFWQyBjb2RlYyAtIENvcHlsZWZ0IDIwMDMtMjAxOCAtIGh0dHA6Ly93d3cudmlkZW9sYW4ub3JnL3gyNjQuaHRtbCAtIG9wdGlvbnM6IGNhYmFjPTEgcmVmPTMgZGVibG9jaz0xOjA6MCBhbmFseXNlPTB4MToweDExMSBtZT1oZXggc3VibWU9NyBwc3k9MSBwc3lfcmQ9MS4wMDowLjAwIG1peGVkX3JlZj0xIG1lX3JhbmdlPTE2IGNocm9tYV9tZT0xIHRyZWxsaXM9MSA4eDhkY3Q9MCBjcW09MCBkZWFkem9uZT0yMSwxMSBmYXN0X3Bza2lwPTEgY2hyb21hX3FwX29mZnNldD00IHRocmVhZHM9NiBsb29rYWhlYWRfdGhyZWFkcz0xIHNsaWNlZF90aHJlYWRzPTAgbnI9MCBkZWNpbWF0ZT0xIGludGVybGFjZWQ9MCBibHVyYXlfY29tcGF0PTAgY29uc3RyYWluZWRfaW50cmE9MCBiZnJhbWVzPTMgYl9weXJhbWlkPTIgYl9hZGFwdD0xIGJfYmlhcz0wIGRpcmVjdD0xIHdlaWdodGI9MSBvcGVuX2dvcD0wIHdlaWdodHA9MiBrZXlpbnQ9MjUwIGtleWludF9taW49MjUgc2NlbmVjdXQ9NDAgaW50cmFfcmVmcmVzaD0wIHJjX2xvb2thaGVhZD00MCByYz1jcmYgbWJ0cmVlPTEgY3JmPTIzLjAgcWNvbXA9MC42MCBxcG1pbj0wIHFwbWF4PTY5IHFwc3RlcD00IGlwX3JhdGlvPTEuNDAgYXE9MToxLjAwAIAAAALlZYiEADf//vaH+BTZWBP+Wb/9DX/cj9uPrP1xYyEE31qvIejAGS+1H+b/rFFs6Z6UB/fgCJQAc24ZwpHZJ3jjgNSrIMcHwKauk6vwKShNuAtv4T/NTbJHQ8+JhR24KlwNvWjL53MRLOUYYZUGM3SY72HMm0pefZyqxqtBR+I6k5u+4dxIpsQwcGRy6Crqq7J2rAU6jCc+eLN5wIkxf1TgPAlPkALH/Q2Eb3cCjZqeZoifHtOYrtRbmJKCeullPyN4gXsTbMVeDIgGFNx8vdqmSi/6oxq1itlRqMdcqDG7tz+6l7x0BJSUWKyplP0xtP69LjaX63SqrSrroHjMbgF8aFPCQfVgHXCioLXVVCu/mC76ge+EEMOFndMQPx8x28sv53+6mx91fXiHvojYG1U4PZUVD86Il7YOMVH44UamuuzHFwaEjmKj3bwD8v6baRgXGefpVJZ320pKxfn+OP8MzNEyMMOeT4SAhGX5JJJRdMz40EIAAKl2tZuFQvwOJnQeGDLGkOO7KJYTW6N6ANWCI4WOpY9Llt7ySlcA6uCqxkQw/LLXkbXvXE3BKWVR7hEc0jxeh4hK6rq59MYPSlhPJANBFhcH0TcbYyaw9MlOTFpEHahFEkvectnpWslYkCSe18eQBH1vavu3oZcF9rOfkaD2ED0q4PpJr8Eiqrd20AUsIAJDIv6DIQVeENOjkJUPvCdyQuC5JNyGN7wAAG90KWpIIYDrGouCQwawZw2q3Z3D/lD9rWckf12tqhNTOKWk7UvbNV9JNvnplRUF/NAo3L2gY2TQrmugzI3IkZmZzh4kYNW/kO9NYoRAnGG/fJGDEdeGHQr9+EUM+OwTk8IcOEHw5NqIGKfqtkbX2aLVTnD2OXICE2maQP+kk3QxgThq1w/bEHaK/ngd3gT4+2A0iIcpTXxtxCBgT7DP3E6vgygqspJCgbyD7inBlLWs/6XBXUYFku2GrxBmLhTQpeIIAMXHQARlAAAAHEGaJGxDf/6nhAPZMJrjU8R2qgQn+XSp0YmcDBwAAAATQZ5CeIX/AVtwgunxMsfTOSPn3QAAAA8BnmF0Qr8BNnZQpNslUVsAAAAQAZ5jakK/AdIfgXX9uHzBwQAAABhBmmVJqEFomUwIb//+p4QD2nMSEAVrxbUAAAAaQZqGSeEKUmUwId/+qZYB1eIQbP7e5CmBkh8AAAAbQZqqSeEOiZTAh3/+qZYAvXox+j+7MWm4xQNTAAAAEEGeyEURPC//ANeI4zuT8+AAAAAQAZ7ndEK/ASZ2pPK/JTZWUAAAAA8BnulqQr8Aw9iB5MEWqYEAAAATQZruSahBaJlMCHf//qmWAACVgAAAAAxBnwxFESwv/wAAsoAAAAAQAZ8rdEK/AMFnJxHZdlTugQAAAA8Bny1qQr8AwWcm6z1Z6Z8AAAATQZsySahBbJlMCHf//qmWAACVgQAAAAxBn1BFFSwv/wAAsoAAAAAQAZ9vdEK/AMFnJxHZdlTugAAAAA8Bn3FqQr8AwWcm6z1Z6Z8AAAATQZt2SahBbJlMCHf//qmWAACVgAAAAAxBn5RFFSwv/wAAsoAAAAAQAZ+zdEK/AMFnJxHZdlTugQAAAA8Bn7VqQr8AwWcm6z1Z6Z8AAAASQZu6SahBbJlMCG///qeEAAEnAAAADEGf2EUVLC//AACygQAAABABn/d0Qr8AwWcnEdl2VO6AAAAADwGf+WpCvwDBZybrPVnpnwAAAB1Bm/xJqEFsmUwUTDv//qmWAMns6IFmgDr48+fregAAABABnhtqQr8BNtnluGzamPuBAAAAHkGaHknhClJlMFLDv/6plgIx2Y4WoWQk2n538OjZgQAAABABnj1qQr8B3oXvSJjWZYeAAAAAEkGaIknhDomUwId//qmWAACVgAAAABNBnkBFFTwv/wFbiWrSjLLkNBxtAAAAEAGef3RCvwHRfwGSW/1ssoAAAAAQAZ5hakK/AdIeDyYHr2yygQAAABNBmmZJqEFomUwId//+qZYAAJWAAAAADEGehEURLC//AACygQAAABABnqN0Qr8BzEgGI7LsqMqBAAAADwGepWpCvwHMSAXWerPRWwAAABNBmqpJqEFsmUwId//+qZYAAJWBAAAADEGeyEUVLC//AACygAAAABABnud0Qr8BzEgGI7LsqMqAAAAADwGe6WpCvwHMSAXWerPRWwAAABNBmu5JqEFsmUwId//+qZYAAJWAAAAADEGfDEUVLC//AACygAAAABABnyt0Qr8BzEgGI7LsqMqBAAAADwGfLWpCvwHMSAXWerPRWwAAABNBmzJJqEFsmUwId//+qZYAAJWBAAAADEGfUEUVLC//AACygAAAABABn290Qr8BzEgGI7LsqMqAAAAADwGfcWpCvwHehe6dRuTxSQAAABxBm3ZJqEFsmUwId//+qZYCAdmPzPglnKDcE4bMAAAAEEGflEUVLC//AVtV1vBAXTAAAAAPAZ+zdEK/AdHnQGSXKMqBAAAAEAGftWpCvwHRsv1R9A+AeMAAAAAZQZu6SahBbJlMCHf//qmWAfTuefvaX2WJ2QAAABBBn9hFFSwv/wFbEa26wXTBAAAAEAGf93RCvwHSQrVeBFdssoAAAAAPAZ/5akK/AdJnmh1oqOaBAAAAE0Gb/kmoQWyZTAh3//6plgAAlYAAAAAMQZ4cRRUsL/8AALKBAAAAEAGeO3RCvwHMSAYjsuyoyoEAAAAPAZ49akK/AcxIBdZ6s9FbAAAAE0GaIkmoQWyZTAh3//6plgAAlYAAAAAMQZ5ARRUsL/8AALKBAAAAEAGef3RCvwHMSAYjsuyoyoAAAAAPAZ5hakK/AcxIBdZ6s9FbAAAAE0GaZkmoQWyZTAh3//6plgAAlYAAAAAMQZ6ERRUsL/8AALKBAAAAEAGeo3RCvwHMSAYjsuyoyoEAAAAPAZ6lakK/AcxIBdZ6s9FbAAAAEkGaqkmoQWyZTAhv//6nhAABJwAAAAxBnshFFSwv/wAAsoAAAAAQAZ7ndEK/AcxIBiOy7KjKgAAAAA8BnulqQr8BzEgF1nqz0VsAAAAcQZruSahBbJlMCGf//p4QDpb+/kFvc1x9Z0SvgAAAABBBnwxFFSwv/wFbVdx7AkrYAAAADwGfK3RCvwHR50BklyjKgQAAABABny1qQr8B0bcmH0BIOJDxAAAAGkGbL0moQWyZTAhv//6nhAGR8dPpfFCQwouBAAAAGUGbUEnhClJlMCG//qeEAPcDwp1nT7ra44AAAAAeQZtySeEOiZTBTRMN//6nhAD9+wfzaXUDw4shTnqmAAAAEAGfkWpCvwDSs3NceKto9WEAAAAcQZuWSeEPJlMCGf/+nhACoe6b3ADlPOXxFXRMqAAAABBBn7RFETwv/wBnA+sKvB9uAAAADgGf03RCvwCK7jvPOLUfAAAAEAGf1WpCvwCK5o3mmKtpEMAAAAAbQZvXSahBaJlMCG///qeEAHEB4U60cPn91t+ZAAAAGEGb+EnhClJlMCG//qeEAHPB4UXwQ0GtdwAAABlBmhtJ4Q6JlMCG//6nhAB2geFOs6fdbe6AAAAAD0GeOUURPCv/AGII0DXUwQAAABABnlpqQr8AYhm5s7qX9/hwAAAAKkGaX0moQWiZTAhv//6nhAB8vZfV8CmvqFfgUqWz8CmdfhBjUrbfgIG9gQAAABBBnn1FESwv/wBLc86lBtMXAAAADwGenHRCvwBiEmp6s77TQAAAABABnp5qQr8AZx1TyXM+SbSAAAAAHUGagUmoQWyZTBRMM//+nhAB5/f39Qt7muPrS+mhAAAAEAGeoGpCvwBpkrYsNYZJD+AAAAAdQZqjSeEKUmUwUsM//p4QAVH3Te4Acp5y+Iq6LKkAAAAQAZ7CakK/AEVzRvNMVbSwwAAAABhBmsRJ4Q6JlMCGf/6eEADY+vv5EiPrCfMAAAAYQZrlSeEPJlMCGf/+nhAAi3xD+2Qx9YWLAAAAGUGbBknhDyZTAhv//qeEABdfdT9RxoSHR8EAAAAeQZsoSeEPJlMFETwz//6eEAA6Pr79Nr3Mc502KnMlAAAAEAGfR2pCvwAMQR251oYX30AAAAAYQZtJSeEPJlMCGf/+nhAAJN8Q/tkMfWJ3AAAAGUGbaknhDyZTAhv//qeEAAYn2D/CcFuhk8EAAAAYQZuLSeEPJlMCG//+p4QAA+XsHr2Z8EZ/AAAAGUGbrEnhDyZTAh3//qmWAAMBUgzQB6S+2NAAAAASQZvQSeEPJlMCHf/+qZYAAJWBAAAADEGf7kURPC//AACygQAAABABng10Qr8AB27FYvP4HOhBAAAAEAGeD2pCvwAEyVI72ePuoYAAAAATQZoUSahBaJlMCHf//qmWAACVgAAAAAxBnjJFESwv/wAAsoEAAAAQAZ5RdEK/AAduxWLz+BzoQAAAABABnlNqQr8ABMlSO9nj7qGAAAAAE0GaWEmoQWyZTAh3//6plgAAlYEAAAAMQZ52RRUsL/8AALKAAAAAEAGelXRCvwAHbsVi8/gc6EEAAAAQAZ6XakK/AATJUjvZ4+6hgQAAABNBmpxJqEFsmUwId//+qZYAAJWAAAAADEGeukUVLC//AACygQAAABABntl0Qr8AB27FYvP4HOhAAAAAEAGe22pCvwAEyVI72ePuoYEAAAATQZrASahBbJlMCHf//qmWAACVgQAAAAxBnv5FFSwv/wAAsoAAAAAQAZ8ddEK/AAduxWLz+BzoQAAAABABnx9qQr8AB2zUOf5lvGBBAAAAHEGbBEmoQWyZTAh3//6plgADBe0v6/qtQshS6g4AAAAQQZ8iRRUsL/8AA4n8PXXawQAAAA8Bn0F0Qr8ABNXZQpNslp0AAAAPAZ9DakK/AAS21ru+777BAAAAE0GbSEmoQWyZTAh3//6plgAAlYEAAAAMQZ9mRRUsL/8AALKBAAAAEAGfhXRCvwAEuEAc/rQOjsEAAAAQAZ+HakK/AAS21rushh0dgAAAABNBm4xJqEFsmUwId//+qZYAAJWAAAAADEGfqkUVLC//AACygQAAABABn8l0Qr8ABLhAHP60Do7AAAAAEAGfy2pCvwAEtta7rIYdHYAAAAATQZvQSahBbJlMCHf//qmWAACVgQAAAAxBn+5FFSwv/wAAsoEAAAAQAZ4NdEK/AAS4QBz+tA6OwQAAABABng9qQr8ABLbWu6yGHR2AAAAAEkGaFEmoQWyZTAhv//6nhAABJwAAAAxBnjJFFSwv/wAAsoEAAAAQAZ5RdEK/AAS4QBz+tA6OwAAAABABnlNqQr8ABLbWu6yGHR2AAAAAEkGaWEmoQWyZTAhv//6nhAABJwAAAAxBnnZFFSwv/wAAsoAAAAAQAZ6VdEK/AAS4QBz+tA6OwQAAABABnpdqQr8ABLbWu6yGHR2BAAAAGUGam0moQWyZTAhn//6eEAAWrgxz+HOb7NMAAAAPQZ65RRUsK/8ABLZXAqFBAAAADQGe2mpCvwAEuDWHjQoAAAAZQZrcSahBbJlMCGf//p4QABbPdNjLk2VgHQAAABhBmv1J4QpSZTAhn/6eEAAWP4nfbIY+sbcAAAAYQZseSeEOiZTAhv/+p4QAA6PsHr2Z8EaXAAAAGUGbP0nhDyZTAhv//qeEAAON77Mf4fVuioAAAAAeQZtBSeEPJlMFETw3//6nhAAFa91OP8TXGqIPm8XrAAAAEAGfYGpCvwAEVeaJkTStTMAAAAAZQZtiSeEPJlMCHf/+qZYAAqnvqyqzNsxTQQAAABZBm4ZJ4Q8mUwId//6plgACgfIM0A/0AAAADkGfpEURPC//AAL8Iw+hAAAADwGfw3RCvwAECVI4jsu0BQAAAA8Bn8VqQr8ABAlSN1nq0Z8AAAATQZvKSahBaJlMCHf//qmWAACVgQAAAAxBn+hFESwv/wAAsoAAAAAPAZ4HdEK/AAQJUjiOy7QFAAAADwGeCWpCvwAECVI3WerRnwAAABNBmg5JqEFsmUwId//+qZYAAJWAAAAADEGeLEUVLC//AACygAAAAA8Bnkt0Qr8ABAlSOI7LtAUAAAAPAZ5NakK/AAQJUjdZ6tGfAAAAEkGaUkmoQWyZTAhv//6nhAABJwAAAAxBnnBFFSwv/wAAsoAAAAAPAZ6PdEK/AAQJUjiOy7QFAAAADwGekWpCvwAECVI3WerRnwAAABpBmpVJqEFsmUwIb//+p4QAB8DjP9VvmPx1IAAAABFBnrNFFSwr/wAGcdp/0ckWQQAAAA4BntRqQr8ABnHarmvZBQAAABpBmthJqEFsmUwIb//+p4QADD0if6rfMfjDwAAAAA9BnvZFFSwr/wAJ824E5kEAAAAPAZ8XakK/AAn3KB5MEi+BAAAAE0GbGkmoQWyZTBRMN//+p4QAAScAAAAQAZ85akK/AAnVtbYZ6tA5gQAAABJBmzxJ4QpSZTBSw3/+p4QAAScAAAAQAZ9bakK/AAnVtbYZ6tA5gQAAABJBm15J4Q6JlMFEwz/+nhAABH0AAAAQAZ99akK/AAnVtbYZ6tA5gAAAABJBm2BJ4Q8mUwU8M//+nhAABHwAAAAQAZ+fakK/AAnVtbYZ6tA5gQAAABhBm4FJ4Q8mUwIZ//6eEAAv/v7u05u4uxwAAAAYQZuiSeEPJlMCGf/+nhAALr7psZcmyrs9AAAAGEGbw0nhDyZTAhn//p4QAC2fE7Ot0DJHLAAAAB5Bm+VJ4Q8mUwURPDP//p4QACx/E74q7ziXdcR9U3MAAAAQAZ4EakK/AAksnznWhhf7QQAAABhBmgZJ4Q8mUwIZ//6eEAAbv19/IkR9YukAAAAaQZopS+EIQ8kRggoB/IB/YeAIV//+OEAAEXEAAAAsQZ5HRRE8K/8Cr2PtQcTdqsNJJuWqhgcstbvNKiCaLJdHGFP6BrT47Q+XA/gAAAAiAZ5oakK/Aq9j7UHE3arDSSblqoYHLLW7zSogmiyW7wUePAAAC/htb292AAAAbG12aGQAAAAAAAAAAAAAAAAAAAPoAAAfkAABAAABAAAAAAAAAAAAAAAAAQAAAAAAAAAAAAAAAAAAAAEAAAAAAAAAAAAAAAAAAEAAAAAAAAAAAAAAAAAAAAAAAAAAAAAAAAAAAAAAAAACAAALInRyYWsAAABcdGtoZAAAAAMAAAAAAAAAAAAAAAEAAAAAAAAfkAAAAAAAAAAAAAAAAAAAAAAAAQAAAAAAAAAAAAAAAAAAAAEAAAAAAAAAAAAAAAAAAEAAAAABEAAAARAAAAAAACRlZHRzAAAAHGVsc3QAAAAAAAAAAQAAH5AAAAQAAAEAAAAACpptZGlhAAAAIG1kaGQAAAAAAAAAAAAAAAAAADIAAAGUAFXEAAAAAAAtaGRscgAAAAAAAAAAdmlkZQAAAAAAAAAAAAAAAFZpZGVvSGFuZGxlcgAAAApFbWluZgAAABR2bWhkAAAAAQAAAAAAAAAAAAAAJGRpbmYAAAAcZHJlZgAAAAAAAAABAAAADHVybCAAAAABAAAKBXN0YmwAAACVc3RzZAAAAAAAAAABAAAAhWF2YzEAAAAAAAAAAQAAAAAAAAAAAAAAAAAAAAABEAEQAEgAAABIAAAAAAAAAAEAAAAAAAAAAAAAAAAAAAAAAAAAAAAAAAAAAAAAAAAAAAAY//8AAAAvYXZjQwH0AA3/4QAXZ/QADZGbKCIR0IAAAAMAgAAAGQeKFMsBAAVo6+PESAAAABhzdHRzAAAAAAAAAAEAAADKAAACAAAAABRzdHNzAAAAAAAAAAEAAAABAAAF0GN0dHMAAAAAAAAAuAAAAAEAAAQAAAAAAQAACgAAAAABAAAEAAAAAAEAAAAAAAAAAQAAAgAAAAACAAAEAAAAAAEAAAoAAAAAAQAABAAAAAABAAAAAAAAAAEAAAIAAAAAAQAACgAAAAABAAAEAAAAAAEAAAAAAAAAAQAAAgAAAAABAAAKAAAAAAEAAAQAAAAAAQAAAAAAAAABAAACAAAAAAEAAAoAAAAAAQAABAAAAAABAAAAAAAAAAEAAAIAAAAAAQAACgAAAAABAAAEAAAAAAEAAAAAAAAAAQAAAgAAAAABAAAGAAAAAAEAAAIAAAAAAQAABgAAAAABAAACAAAAAAEAAAoAAAAAAQAABAAAAAABAAAAAAAAAAEAAAIAAAAAAQAACgAAAAABAAAEAAAAAAEAAAAAAAAAAQAAAgAAAAABAAAKAAAAAAEAAAQAAAAAAQAAAAAAAAABAAACAAAAAAEAAAoAAAAAAQAABAAAAAABAAAAAAAAAAEAAAIAAAAAAQAACgAAAAABAAAEAAAAAAEAAAAAAAAAAQAAAgAAAAABAAAKAAAAAAEAAAQAAAAAAQAAAAAAAAABAAACAAAAAAEAAAoAAAAAAQAABAAAAAABAAAAAAAAAAEAAAIAAAAAAQAACgAAAAABAAAEAAAAAAEAAAAAAAAAAQAAAgAAAAABAAAKAAAAAAEAAAQAAAAAAQAAAAAAAAABAAACAAAAAAEAAAoAAAAAAQAABAAAAAABAAAAAAAAAAEAAAIAAAAAAQAACgAAAAABAAAEAAAAAAEAAAAAAAAAAQAAAgAAAAABAAAKAAAAAAEAAAQAAAAAAQAAAAAAAAABAAACAAAAAAIAAAQAAAAAAQAABgAAAAABAAACAAAAAAEAAAoAAAAAAQAABAAAAAABAAAAAAAAAAEAAAIAAAAAAgAABAAAAAABAAAIAAAAAAIAAAIAAAAAAQAACgAAAAABAAAEAAAAAAEAAAAAAAAAAQAAAgAAAAABAAAGAAAAAAEAAAIAAAAAAQAABgAAAAABAAACAAAAAAMAAAQAAAAAAQAABgAAAAABAAACAAAAAAQAAAQAAAAAAQAACgAAAAABAAAEAAAAAAEAAAAAAAAAAQAAAgAAAAABAAAKAAAAAAEAAAQAAAAAAQAAAAAAAAABAAACAAAAAAEAAAoAAAAAAQAABAAAAAABAAAAAAAAAAEAAAIAAAAAAQAACgAAAAABAAAEAAAAAAEAAAAAAAAAAQAAAgAAAAABAAAKAAAAAAEAAAQAAAAAAQAAAAAAAAABAAACAAAAAAEAAAoAAAAAAQAABAAAAAABAAAAAAAAAAEAAAIAAAAAAQAACgAAAAABAAAEAAAAAAEAAAAAAAAAAQAAAgAAAAABAAAKAAAAAAEAAAQAAAAAAQAAAAAAAAABAAACAAAAAAEAAAoAAAAAAQAABAAAAAABAAAAAAAAAAEAAAIAAAAAAQAACgAAAAABAAAEAAAAAAEAAAAAAAAAAQAAAgAAAAABAAAKAAAAAAEAAAQAAAAAAQAAAAAAAAABAAACAAAAAAEAAAgAAAAAAgAAAgAAAAAEAAAEAAAAAAEAAAYAAAAAAQAAAgAAAAABAAAEAAAAAAEAAAoAAAAAAQAABAAAAAABAAAAAAAAAAEAAAIAAAAAAQAACgAAAAABAAAEAAAAAAEAAAAAAAAAAQAAAgAAAAABAAAKAAAAAAEAAAQAAAAAAQAAAAAAAAABAAACAAAAAAEAAAoAAAAAAQAABAAAAAABAAAAAAAAAAEAAAIAAAAAAQAACAAAAAACAAACAAAAAAEAAAgAAAAAAgAAAgAAAAABAAAGAAAAAAEAAAIAAAAAAQAABgAAAAABAAACAAAAAAEAAAYAAAAAAQAAAgAAAAABAAAGAAAAAAEAAAIAAAAAAwAABAAAAAABAAAGAAAAAAEAAAIAAAAAAQAABAAAAAABAAAIAAAAAAIAAAIAAAAAHHN0c2MAAAAAAAAAAQAAAAEAAADKAAAAAQAAAzxzdHN6AAAAAAAAAAAAAADKAAAFmgAAACAAAAAXAAAAEwAAABQAAAAcAAAAHgAAAB8AAAAUAAAAFAAAABMAAAAXAAAAEAAAABQAAAATAAAAFwAAABAAAAAUAAAAEwAAABcAAAAQAAAAFAAAABMAAAAWAAAAEAAAABQAAAATAAAAIQAAABQAAAAiAAAAFAAAABYAAAAXAAAAFAAAABQAAAAXAAAAEAAAABQAAAATAAAAFwAAABAAAAAUAAAAEwAAABcAAAAQAAAAFAAAABMAAAAXAAAAEAAAABQAAAATAAAAIAAAABQAAAATAAAAFAAAAB0AAAAUAAAAFAAAABMAAAAXAAAAEAAAABQAAAATAAAAFwAAABAAAAAUAAAAEwAAABcAAAAQAAAAFAAAABMAAAAWAAAAEAAAABQAAAATAAAAIAAAABQAAAATAAAAFAAAAB4AAAAdAAAAIgAAABQAAAAgAAAAFAAAABIAAAAUAAAAHwAAABwAAAAdAAAAEwAAABQAAAAuAAAAFAAAABMAAAAUAAAAIQAAABQAAAAhAAAAFAAAABwAAAAcAAAAHQAAACIAAAAUAAAAHAAAAB0AAAAcAAAAHQAAABYAAAAQAAAAFAAAABQAAAAXAAAAEAAAABQAAAAUAAAAFwAAABAAAAAUAAAAFAAAABcAAAAQAAAAFAAAABQAAAAXAAAAEAAAABQAAAAUAAAAIAAAABQAAAATAAAAEwAAABcAAAAQAAAAFAAAABQAAAAXAAAAEAAAABQAAAAUAAAAFwAAABAAAAAUAAAAFAAAABYAAAAQAAAAFAAAABQAAAAWAAAAEAAAABQAAAAUAAAAHQAAABMAAAARAAAAHQAAABwAAAAcAAAAHQAAACIAAAAUAAAAHQAAABoAAAASAAAAEwAAABMAAAAXAAAAEAAAABMAAAATAAAAFwAAABAAAAATAAAAEwAAABYAAAAQAAAAEwAAABMAAAAeAAAAFQAAABIAAAAeAAAAEwAAABMAAAAXAAAAFAAAABYAAAAUAAAAFgAAABQAAAAWAAAAFAAAABwAAAAcAAAAHAAAACIAAAAUAAAAHAAAAB4AAAAwAAAAJgAAABRzdGNvAAAAAAAAAAEAAAAwAAAAYnVkdGEAAABabWV0YQAAAAAAAAAhaGRscgAAAAAAAAAAbWRpcmFwcGwAAAAAAAAAAAAAAAAtaWxzdAAAACWpdG9vAAAAHWRhdGEAAAABAAAAAExhdmY1OC4yMC4xMDA=\" type=\"video/mp4\" />\n",
       "             </video>"
      ],
      "text/plain": [
       "<IPython.core.display.HTML object>"
      ]
     },
     "execution_count": 14,
     "metadata": {},
     "output_type": "execute_result"
    }
   ],
   "source": [
    "env = Environment(grid_size=size, max_time=T, temperature=0.3)\n",
    "agent = DQN_CNN(size, lr=.1, epsilon = 0.1, memory_size=2000, batch_size = 32)\n",
    "train(agent, env, 10, prefix='cnn_train')\n",
    "HTML(display_videos('cnn_train0.mp4'))"
   ]
  },
  {
   "cell_type": "markdown",
   "metadata": {},
   "source": [
    "***\n",
    "***\n",
    "__Question 9__ Test both algorithms and compare their performances. Which issue(s) do you observe? Observe also different behaviors by changing the temperature."
   ]
  },
  {
   "cell_type": "code",
   "execution_count": 15,
   "metadata": {},
   "outputs": [
    {
     "name": "stdout",
     "output_type": "stream",
     "text": [
      "Test of the CNN\n",
      "Win/lose count 12.5/11.0. Average score (1.5)\n",
      "Win/lose count 9.0/2.0. Average score (4.25)\n",
      "Win/lose count 9.5/2.0. Average score (5.333333333333333)\n",
      "Win/lose count 3.5/0. Average score (4.875)\n",
      "Final score: 4.875\n",
      "Test of the FC\n",
      "Win/lose count 5.0/8.0. Average score (-3.0)\n",
      "Win/lose count 2.5/4.0. Average score (-2.25)\n",
      "Win/lose count 5.0/4.0. Average score (-1.1666666666666667)\n",
      "Win/lose count 4.5/5.0. Average score (-1.0)\n",
      "Final score: -1.0\n"
     ]
    }
   ],
   "source": [
    "env = Environment(grid_size=size, max_time=T,temperature=0.3)\n",
    "agent_cnn = DQN_CNN(size, lr=.1, epsilon = 0.1, memory_size=2000, batch_size = 32)\n",
    "agent_cnn.load(name_weights='cnn_trainmodel.h5',name_model='cnn_trainmodel.json')\n",
    "\n",
    "agent_fc = DQN_FC(size, lr=.1, epsilon = 0.1, memory_size=2000, batch_size = 32)\n",
    "agent_cnn.load(name_weights='fc_trainmodel.h5',name_model='fc_trainmodel.json')\n",
    "print('Test of the CNN')\n",
    "test(agent_cnn,env,epochs_test,prefix='cnn_test')\n",
    "print('Test of the FC')\n",
    "test(agent_fc,env,epochs_test,prefix='fc_test')"
   ]
  },
  {
   "cell_type": "code",
   "execution_count": 16,
   "metadata": {},
   "outputs": [
    {
     "name": "stdout",
     "output_type": "stream",
     "text": [
      "Test of the CNN\n",
      "Win/lose count 2.0/1.0. Average score (1.0)\n",
      "Win/lose count 1.5/0. Average score (1.25)\n",
      "Win/lose count 2.0/1.0. Average score (1.1666666666666667)\n",
      "Win/lose count 1.0/1.0. Average score (0.875)\n",
      "Final score: 0.875\n",
      "Test of the FC\n",
      "Win/lose count 0/1.0. Average score (-1.0)\n",
      "Win/lose count 0.5/0. Average score (-0.25)\n",
      "Win/lose count 1.5/2.0. Average score (-0.3333333333333333)\n",
      "Win/lose count 3.0/1.0. Average score (0.25)\n",
      "Final score: 0.25\n"
     ]
    }
   ],
   "source": [
    "env = Environment(grid_size=size, max_time=T,temperature=0.05)\n",
    "agent_cnn = DQN_CNN(size, lr=.1, epsilon = 0.1, memory_size=2000, batch_size = 32)\n",
    "agent_cnn.load(name_weights='cnn_trainmodel.h5',name_model='cnn_trainmodel.json')\n",
    "\n",
    "agent_fc = DQN_FC(size, lr=.1, epsilon = 0.1, memory_size=2000, batch_size = 32)\n",
    "agent_cnn.load(name_weights='fc_trainmodel.h5',name_model='fc_trainmodel.json')\n",
    "print('Test of the CNN')\n",
    "test(agent_cnn,env,epochs_test,prefix='cnn_test')\n",
    "print('Test of the FC')\n",
    "test(agent_fc,env,epochs_test,prefix='fc_test')"
   ]
  },
  {
   "cell_type": "code",
   "execution_count": 17,
   "metadata": {},
   "outputs": [
    {
     "name": "stdout",
     "output_type": "stream",
     "text": [
      "Test of the CNN\n",
      "Win/lose count 18.0/2.0. Average score (16.0)\n",
      "Win/lose count 8.0/7.0. Average score (8.5)\n",
      "Win/lose count 16.0/8.0. Average score (8.333333333333334)\n",
      "Win/lose count 12.5/6.0. Average score (7.875)\n",
      "Final score: 7.875\n",
      "Test of the FC\n",
      "Win/lose count 5.5/4.0. Average score (1.5)\n",
      "Win/lose count 15.0/13.0. Average score (1.75)\n",
      "Win/lose count 8.5/3.0. Average score (3.0)\n",
      "Win/lose count 13.5/6.0. Average score (4.125)\n",
      "Final score: 4.125\n"
     ]
    }
   ],
   "source": [
    "env = Environment(grid_size=size, max_time=T,temperature=0.5)\n",
    "agent_cnn = DQN_CNN(size, lr=.1, epsilon = 0.1, memory_size=2000, batch_size = 32)\n",
    "agent_cnn.load(name_weights='cnn_trainmodel.h5',name_model='cnn_trainmodel.json')\n",
    "\n",
    "agent_fc = DQN_FC(size, lr=.1, epsilon = 0.1, memory_size=2000, batch_size = 32)\n",
    "agent_cnn.load(name_weights='fc_trainmodel.h5',name_model='fc_trainmodel.json')\n",
    "print('Test of the CNN')\n",
    "test(agent_cnn,env,epochs_test,prefix='cnn_test')\n",
    "print('Test of the FC')\n",
    "test(agent_fc,env,epochs_test,prefix='fc_test')"
   ]
  },
  {
   "cell_type": "code",
   "execution_count": 18,
   "metadata": {},
   "outputs": [
    {
     "name": "stdout",
     "output_type": "stream",
     "text": [
      "Test of the CNN\n",
      "Win/lose count 37.5/1.0. Average score (36.5)\n",
      "Win/lose count 22.0/2.0. Average score (28.25)\n",
      "Win/lose count 28.0/1.0. Average score (27.833333333333332)\n",
      "Win/lose count 32.5/3.0. Average score (28.25)\n",
      "Final score: 28.25\n",
      "Test of the FC\n",
      "Win/lose count 22.0/1.0. Average score (21.0)\n",
      "Win/lose count 18.5/4.0. Average score (17.75)\n",
      "Win/lose count 13.5/1.0. Average score (16.0)\n",
      "Win/lose count 7.5/2.0. Average score (13.375)\n",
      "Final score: 13.375\n"
     ]
    }
   ],
   "source": [
    "env = Environment(grid_size=size, max_time=T,temperature=0.9)\n",
    "agent_cnn = DQN_CNN(size, lr=.1, epsilon = 0.1, memory_size=2000, batch_size = 32)\n",
    "agent_cnn.load(name_weights='cnn_trainmodel.h5',name_model='cnn_trainmodel.json')\n",
    "\n",
    "agent_fc = DQN_FC(size, lr=.1, epsilon = 0.1, memory_size=2000, batch_size = 32)\n",
    "agent_cnn.load(name_weights='fc_trainmodel.h5',name_model='fc_trainmodel.json')\n",
    "print('Test of the CNN')\n",
    "test(agent_cnn,env,epochs_test,prefix='cnn_test')\n",
    "print('Test of the FC')\n",
    "test(agent_fc,env,epochs_test,prefix='fc_test')"
   ]
  },
  {
   "cell_type": "markdown",
   "metadata": {},
   "source": [
    "We can notice that with a low temperature level (0.05) the results are not really concluant. \n",
    "It seems that the CNN performs better than the FC, but the more we increase the temperature, the deeper the gap."
   ]
  },
  {
   "cell_type": "markdown",
   "metadata": {},
   "source": [
    "***\n",
    "\n",
    "The algorithm tends to not explore the map which can be an issue. We propose two ideas in order to encourage exploration:\n",
    "1. Incorporating a decreasing $\\epsilon$-greedy exploration. You can use the method ```set_epsilon```\n",
    "2. Append via the environment a new state that describes if a cell has been visited or not\n",
    "\n",
    "***\n",
    "__Question 10__ Design a new ```train_explore``` function and environment class ```EnvironmentExploring``` to tackle the issue of exploration.\n",
    "\n"
   ]
  },
  {
   "cell_type": "code",
   "execution_count": 19,
   "metadata": {
    "collapsed": true
   },
   "outputs": [],
   "source": [
    "def train_explore(agent,env,epoch,prefix=''):\n",
    "    # Number of won games\n",
    "    score = 0\n",
    "    loss = 0\n",
    "\n",
    "    for e in range(epoch):\n",
    "        # At each epoch, we restart to a fresh game and get the initial state\n",
    "        state = env.reset()\n",
    "        # This assumes that the games will terminate\n",
    "        game_over = False\n",
    "\n",
    "        win = 0\n",
    "        lose = 0\n",
    "\n",
    "        while not game_over:\n",
    "            # The agent performs an action\n",
    "            action = agent.act(state, train=True)\n",
    "\n",
    "            # Apply an action to the environment, get the next state, the reward\n",
    "            # and if the games end\n",
    "            previousstate = state\n",
    "            #state, reward, game_over = env.act(action)\n",
    "            state, reward, game_over = env.act(action, train=True)\n",
    "\n",
    "            \n",
    "            if reward > 0:\n",
    "                win = win + reward\n",
    "            if reward < 0:\n",
    "                lose = lose -reward # Update the counters\n",
    "\n",
    "            # Apply the reinforcement strategy\n",
    "            loss = agent.reinforce(previousstate, state, action, reward, game_over)\n",
    "            \n",
    "        # Save as a mp4\n",
    "        if e % 10 == 0:\n",
    "            env.draw(prefix+str(e))\n",
    "\n",
    "        # Update stats\n",
    "        score += win-lose\n",
    "\n",
    "        print(\"Epoch {:03d}/{:03d} | Loss {:.4f} | Win/lose count {}/{} ({})\"\n",
    "              .format(e+1, epoch, loss, win, lose, win-lose))\n",
    "        agent.save(name_weights=prefix+'model.h5',name_model=prefix+'model.json')\n",
    "        \n",
    "class EnvironmentExploring(object):\n",
    "    def __init__(self, grid_size=10, max_time=500, temperature=0.1):\n",
    "        \n",
    "        grid_size = grid_size+4\n",
    "        self.grid_size = grid_size\n",
    "        self.max_time = max_time\n",
    "        self.temperature = temperature\n",
    "\n",
    "        #board on which one plays\n",
    "        self.board = np.zeros((grid_size,grid_size))\n",
    "        self.position = np.zeros((grid_size,grid_size))\n",
    "        self.malus_position = np.zeros((grid_size,grid_size))\n",
    "\n",
    "        # coordinate of the cat\n",
    "        self.x = 0\n",
    "        self.y = 1\n",
    "\n",
    "        # self time\n",
    "        self.t = 0\n",
    "\n",
    "        self.scale=16\n",
    "\n",
    "        self.to_draw = np.zeros((max_time+2, grid_size*self.scale, grid_size*self.scale, 3))\n",
    "\n",
    "\n",
    "    def draw(self,e):\n",
    "        skvideo.io.vwrite(str(e) + '.mp4', self.to_draw)\n",
    "\n",
    "    def get_frame(self,t):\n",
    "        b = np.zeros((self.grid_size,self.grid_size,3))+128\n",
    "        b[self.board>0,0] = 256\n",
    "        b[self.board < 0, 2] = 256\n",
    "        b[self.x,self.y,:]=256\n",
    "        b[-2:,:,:]=0\n",
    "        b[:,-2:,:]=0\n",
    "        b[:2,:,:]=0\n",
    "        b[:,:2,:]=0\n",
    "        \n",
    "        b =  cv2.resize(b, None, fx=self.scale, fy=self.scale, interpolation=cv2.INTER_NEAREST)\n",
    "\n",
    "        self.to_draw[t,:,:,:]=b\n",
    "\n",
    "\n",
    "    def act(self, action, train=True):\n",
    "        \"\"\"This function returns the new state, reward and decides if the\n",
    "        game ends.\"\"\"\n",
    "\n",
    "        self.get_frame(int(self.t))\n",
    "\n",
    "        self.position = np.zeros((self.grid_size, self.grid_size))\n",
    "\n",
    "        # define borders\n",
    "        self.position[0:2,:]= -1 # first two lines\n",
    "        self.position[:,0:2] = -1 # first two columns\n",
    "        self.position[-2:, :] = -1 # last two lines\n",
    "        self.position[:,-2:] = -1 # last two columns\n",
    "\n",
    "        self.position[self.x, self.y] = 1\n",
    "        if action == 0:\n",
    "            if self.x == self.grid_size-3:\n",
    "                self.x = self.x-1\n",
    "            else:\n",
    "                self.x = self.x + 1\n",
    "        elif action == 1:\n",
    "            if self.x == 2:\n",
    "                self.x = self.x+1\n",
    "            else:\n",
    "                self.x = self.x-1\n",
    "        elif action == 2:\n",
    "            if self.y == self.grid_size - 3:\n",
    "                self.y = self.y - 1\n",
    "            else:\n",
    "                self.y = self.y + 1\n",
    "        elif action == 3:\n",
    "            if self.y == 2:\n",
    "                self.y = self.y + 1\n",
    "            else:\n",
    "                self.y = self.y - 1\n",
    "        else:\n",
    "            RuntimeError('Error: action not recognized')\n",
    "\n",
    "        self.t = self.t + 1\n",
    "        \n",
    "        reward = 0\n",
    "        if train:\n",
    "            reward = -self.malus_position[self.x, self.y]\n",
    "        self.malus_position[self.x, self.y] = 0.1\n",
    "        reward = reward + self.board[self.x, self.y]\n",
    "        \n",
    "        self.board[self.x, self.y] = 0\n",
    "        game_over = self.t > self.max_time\n",
    "        \n",
    "        state = np.concatenate((self.malus_position.reshape(self.grid_size, self.grid_size,1),\n",
    "                                self.board.reshape(self.grid_size, self.grid_size,1),\n",
    "                                self.position.reshape(self.grid_size, self.grid_size,1)),axis=2)\n",
    "        state = state[self.x-2:self.x+3,self.y-2:self.y+3,:]\n",
    "\n",
    "        return state, reward, game_over\n",
    "\n",
    "    def reset(self):\n",
    "        \"\"\"This function resets the game and returns the initial state\"\"\"\n",
    "\n",
    "        self.x = np.random.randint(3, self.grid_size-3, size=1)[0]\n",
    "        self.y = np.random.randint(3, self.grid_size-3, size=1)[0]\n",
    "\n",
    "\n",
    "        bonus = 0.5*np.random.binomial(1,self.temperature,size=self.grid_size**2)\n",
    "        bonus = bonus.reshape(self.grid_size,self.grid_size)\n",
    "\n",
    "        malus = -1.0*np.random.binomial(1,self.temperature,size=self.grid_size**2)\n",
    "        malus = malus.reshape(self.grid_size, self.grid_size)\n",
    "\n",
    "        self.to_draw = np.zeros((self.max_time+2, self.grid_size*self.scale, self.grid_size*self.scale, 3))\n",
    "\n",
    "        malus[bonus>0] = 0\n",
    "\n",
    "        self.board = bonus + malus\n",
    "\n",
    "        self.position = np.zeros((self.grid_size, self.grid_size))\n",
    "        self.position[0:2,:]= -1\n",
    "        self.position[:,0:2] = -1\n",
    "        self.position[-2:, :] = -1\n",
    "        self.position[:,-2:] = -1\n",
    "        self.board[self.x,self.y] = 0\n",
    "        self.t = 0\n",
    "\n",
    "        state = np.concatenate((self.malus_position.reshape(self.grid_size, self.grid_size,1),\n",
    "                                self.board.reshape(self.grid_size, self.grid_size,1),\n",
    "                                self.position.reshape(self.grid_size, self.grid_size,1)),axis=2)\n",
    "\n",
    "        state = state[self.x - 2:self.x + 3, self.y - 2:self.y + 3, :]\n",
    "        return state"
   ]
  },
  {
   "cell_type": "code",
   "execution_count": 20,
   "metadata": {},
   "outputs": [
    {
     "name": "stdout",
     "output_type": "stream",
     "text": [
      "Epoch 001/010 | Loss 0.0067 | Win/lose count 7.5/26.100000000000072 (-18.600000000000072)\n",
      "Epoch 002/010 | Loss 0.0134 | Win/lose count 9.8/23.200000000000035 (-13.400000000000034)\n",
      "Epoch 003/010 | Loss 0.0084 | Win/lose count 11.800000000000004/23.300000000000043 (-11.500000000000039)\n",
      "Epoch 004/010 | Loss 0.0104 | Win/lose count 9.200000000000003/20.800000000000033 (-11.60000000000003)\n",
      "Epoch 005/010 | Loss 0.0034 | Win/lose count 7.000000000000001/23.40000000000007 (-16.40000000000007)\n",
      "Epoch 006/010 | Loss 0.0040 | Win/lose count 7.300000000000002/20.30000000000003 (-13.000000000000028)\n",
      "Epoch 007/010 | Loss 0.0045 | Win/lose count 11.400000000000002/16.499999999999968 (-5.099999999999966)\n",
      "Epoch 008/010 | Loss 0.0140 | Win/lose count 9.600000000000003/21.700000000000017 (-12.100000000000014)\n",
      "Epoch 009/010 | Loss 0.0026 | Win/lose count 6.600000000000002/22.500000000000064 (-15.900000000000063)\n",
      "Epoch 010/010 | Loss 0.0045 | Win/lose count 7.3000000000000025/23.000000000000075 (-15.700000000000072)\n"
     ]
    }
   ],
   "source": [
    "# Training\n",
    "env = EnvironmentExploring(grid_size=size, max_time=T, temperature=0.3)\n",
    "agent = DQN_CNN(size, lr=.1, epsilon = 0.1, memory_size=2000, batch_size = 32,n_state=3)\n",
    "train_explore(agent, env, 10, prefix='cnn_train_explore')"
   ]
  },
  {
   "cell_type": "code",
   "execution_count": 21,
   "metadata": {},
   "outputs": [
    {
     "name": "stdout",
     "output_type": "stream",
     "text": [
      "Win/lose count 10.100000000000003/21.60000000000002. Average score (-11.500000000000016)\n",
      "Win/lose count 14.800000000000008/17.39999999999998. Average score (-7.0499999999999945)\n",
      "Win/lose count 8.000000000000002/28.10000000000009. Average score (-11.400000000000025)\n",
      "Win/lose count 8.400000000000002/22.000000000000036. Average score (-11.950000000000028)\n",
      "Final score: -11.950000000000028\n"
     ]
    }
   ],
   "source": [
    "# Evaluation\n",
    "test(agent,env,epochs_test,prefix='cnn_test_explore')"
   ]
  },
  {
   "cell_type": "markdown",
   "metadata": {},
   "source": [
    "***\n",
    "***\n",
    "__BONUS question__ Use the expert DQN from the previous question to generate some winning games. Train a model that mimicks its behavior. Compare the performances."
   ]
  },
  {
   "cell_type": "markdown",
   "metadata": {},
   "source": []
  },
  {
   "cell_type": "markdown",
   "metadata": {},
   "source": [
    "***"
   ]
  }
 ],
 "metadata": {
  "kernelspec": {
   "display_name": "Python 3",
   "language": "python",
   "name": "python3"
  },
  "language_info": {
   "codemirror_mode": {
    "name": "ipython",
    "version": 3
   },
   "file_extension": ".py",
   "mimetype": "text/x-python",
   "name": "python",
   "nbconvert_exporter": "python",
   "pygments_lexer": "ipython3",
   "version": "3.6.3"
  }
 },
 "nbformat": 4,
 "nbformat_minor": 2
}
